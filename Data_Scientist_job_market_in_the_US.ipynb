{
  "nbformat": 4,
  "nbformat_minor": 0,
  "metadata": {
    "colab": {
      "name": "Data_Scientist_job_market_in_the_US.ipynb",
      "version": "0.3.2",
      "provenance": [],
      "collapsed_sections": [],
      "include_colab_link": true
    },
    "kernelspec": {
      "name": "python3",
      "display_name": "Python 3"
    }
  },
  "cells": [
    {
      "cell_type": "markdown",
      "metadata": {
        "id": "view-in-github",
        "colab_type": "text"
      },
      "source": [
        "<a href=\"https://colab.research.google.com/github/Ishikaaa/ML-Data-Scientist-job-market-in-the-US/blob/master/Data_Scientist_job_market_in_the_US.ipynb\" target=\"_parent\"><img src=\"https://colab.research.google.com/assets/colab-badge.svg\" alt=\"Open In Colab\"/></a>"
      ]
    },
    {
      "cell_type": "markdown",
      "metadata": {
        "id": "5pgg98mZbD4b",
        "colab_type": "text"
      },
      "source": [
        "***About The Data - ***\n",
        "\n",
        "alldata.csv -This data explore the job market around the U.S.. It aggregates all information and cleans the job description \n",
        "For those who are actively looking for data scientist jobs in the U.S., the best news this month is the LinkedIn Workforce Report August 2018. According to the report, there is a shortage of 151,717 people with data science skills, with particularly acute shortages in New York City, San Francisco Bay Area and Los Angeles.\n",
        "\n",
        "To help job hunters (including me) to better understand the job market, I scraped Indeed website and collected information of 7,000 data scientist jobs around the U.S. on August 3rd. The information that I collected are: Company Name, Position Name, Location, Job Description, and Number of Reviews of the Company..\n",
        "\n",
        "***Aim of The Project - ***\n",
        "\n",
        "It helps the candidate to find job in the field of Data Scientist in U.S..\n"
      ]
    },
    {
      "cell_type": "markdown",
      "metadata": {
        "id": "h50pxSUvPS7T",
        "colab_type": "text"
      },
      "source": [
        "# ***1. Importing Libraries - ***"
      ]
    },
    {
      "cell_type": "code",
      "metadata": {
        "id": "ykYZvBjyNoi3",
        "colab_type": "code",
        "colab": {}
      },
      "source": [
        "import pandas as pd \n",
        "import numpy as np \n",
        "import re \n",
        "import seaborn as sns \n",
        "from sklearn.preprocessing import LabelEncoder,OneHotEncoder \n",
        "from sklearn.model_selection import train_test_split\n",
        "from sklearn.linear_model import LogisticRegression\n",
        "from sklearn import metrics "
      ],
      "execution_count": 0,
      "outputs": []
    },
    {
      "cell_type": "code",
      "metadata": {
        "id": "f5Gb8s5lPeW4",
        "colab_type": "code",
        "outputId": "2ec7321a-6eb5-4527-b911-fedc1f5aaa8a",
        "colab": {
          "base_uri": "https://localhost:8080/",
          "height": 204
        }
      },
      "source": [
        "dataset=pd.read_csv(\"alldata.csv\")\n",
        "dataset.head()"
      ],
      "execution_count": 0,
      "outputs": [
        {
          "output_type": "execute_result",
          "data": {
            "text/html": [
              "<div>\n",
              "<style scoped>\n",
              "    .dataframe tbody tr th:only-of-type {\n",
              "        vertical-align: middle;\n",
              "    }\n",
              "\n",
              "    .dataframe tbody tr th {\n",
              "        vertical-align: top;\n",
              "    }\n",
              "\n",
              "    .dataframe thead th {\n",
              "        text-align: right;\n",
              "    }\n",
              "</style>\n",
              "<table border=\"1\" class=\"dataframe\">\n",
              "  <thead>\n",
              "    <tr style=\"text-align: right;\">\n",
              "      <th></th>\n",
              "      <th>position</th>\n",
              "      <th>company</th>\n",
              "      <th>description</th>\n",
              "      <th>reviews</th>\n",
              "      <th>location</th>\n",
              "    </tr>\n",
              "  </thead>\n",
              "  <tbody>\n",
              "    <tr>\n",
              "      <th>0</th>\n",
              "      <td>Development Director</td>\n",
              "      <td>ALS TDI</td>\n",
              "      <td>Development Director\\nALS Therapy Development ...</td>\n",
              "      <td>NaN</td>\n",
              "      <td>Atlanta, GA 30301</td>\n",
              "    </tr>\n",
              "    <tr>\n",
              "      <th>1</th>\n",
              "      <td>An Ostentatiously-Excitable Principal Research...</td>\n",
              "      <td>The Hexagon Lavish</td>\n",
              "      <td>Job Description\\n\\n\"The road that leads to acc...</td>\n",
              "      <td>NaN</td>\n",
              "      <td>Atlanta, GA</td>\n",
              "    </tr>\n",
              "    <tr>\n",
              "      <th>2</th>\n",
              "      <td>Data Scientist</td>\n",
              "      <td>Xpert Staffing</td>\n",
              "      <td>Growing company located in the Atlanta, GA are...</td>\n",
              "      <td>NaN</td>\n",
              "      <td>Atlanta, GA</td>\n",
              "    </tr>\n",
              "    <tr>\n",
              "      <th>3</th>\n",
              "      <td>Data Analyst</td>\n",
              "      <td>Operation HOPE</td>\n",
              "      <td>DEPARTMENT: Program OperationsPOSITION LOCATIO...</td>\n",
              "      <td>44.0</td>\n",
              "      <td>Atlanta, GA 30303</td>\n",
              "    </tr>\n",
              "    <tr>\n",
              "      <th>4</th>\n",
              "      <td>Assistant Professor -TT - Signal Processing &amp; ...</td>\n",
              "      <td>Emory University</td>\n",
              "      <td>DESCRIPTION\\nThe Emory University Department o...</td>\n",
              "      <td>550.0</td>\n",
              "      <td>Atlanta, GA</td>\n",
              "    </tr>\n",
              "  </tbody>\n",
              "</table>\n",
              "</div>"
            ],
            "text/plain": [
              "                                            position  ...            location\n",
              "0                               Development Director  ...  Atlanta, GA 30301 \n",
              "1  An Ostentatiously-Excitable Principal Research...  ...         Atlanta, GA\n",
              "2                                     Data Scientist  ...         Atlanta, GA\n",
              "3                                       Data Analyst  ...  Atlanta, GA 30303 \n",
              "4  Assistant Professor -TT - Signal Processing & ...  ...         Atlanta, GA\n",
              "\n",
              "[5 rows x 5 columns]"
            ]
          },
          "metadata": {
            "tags": []
          },
          "execution_count": 210
        }
      ]
    },
    {
      "cell_type": "code",
      "metadata": {
        "id": "ZLdG8HBaU_NP",
        "colab_type": "code",
        "outputId": "efb3c8a6-f79b-44d0-d544-8be9c3b61dcc",
        "colab": {
          "base_uri": "https://localhost:8080/",
          "height": 34
        }
      },
      "source": [
        "dataset.shape "
      ],
      "execution_count": 0,
      "outputs": [
        {
          "output_type": "execute_result",
          "data": {
            "text/plain": [
              "(6964, 5)"
            ]
          },
          "metadata": {
            "tags": []
          },
          "execution_count": 211
        }
      ]
    },
    {
      "cell_type": "code",
      "metadata": {
        "id": "d6Sj4D9xtlwn",
        "colab_type": "code",
        "outputId": "67c52369-415e-441d-b3d4-abd2b83e82ff",
        "colab": {
          "base_uri": "https://localhost:8080/",
          "height": 119
        }
      },
      "source": [
        "dataset.dtypes"
      ],
      "execution_count": 0,
      "outputs": [
        {
          "output_type": "execute_result",
          "data": {
            "text/plain": [
              "position        object\n",
              "company         object\n",
              "description     object\n",
              "reviews        float64\n",
              "location        object\n",
              "dtype: object"
            ]
          },
          "metadata": {
            "tags": []
          },
          "execution_count": 212
        }
      ]
    },
    {
      "cell_type": "markdown",
      "metadata": {
        "id": "7pd6k9PhVNQz",
        "colab_type": "text"
      },
      "source": [
        "# ***Handling Missing Data - ***"
      ]
    },
    {
      "cell_type": "code",
      "metadata": {
        "id": "KJ4hRJ6zVBRC",
        "colab_type": "code",
        "outputId": "3baf29e4-c338-4fc6-b2d2-e40189fc92b2",
        "colab": {
          "base_uri": "https://localhost:8080/",
          "height": 119
        }
      },
      "source": [
        "dataset.isnull().sum()"
      ],
      "execution_count": 0,
      "outputs": [
        {
          "output_type": "execute_result",
          "data": {
            "text/plain": [
              "position         11\n",
              "company          11\n",
              "description      11\n",
              "reviews        1638\n",
              "location         11\n",
              "dtype: int64"
            ]
          },
          "metadata": {
            "tags": []
          },
          "execution_count": 213
        }
      ]
    },
    {
      "cell_type": "code",
      "metadata": {
        "id": "l6LDRmNIXKcT",
        "colab_type": "code",
        "outputId": "126f5db5-bb29-44e7-b1c2-45ffb6f8bc67",
        "colab": {
          "base_uri": "https://localhost:8080/",
          "height": 34
        }
      },
      "source": [
        "# removing that rows in which all colunms are null \n",
        "dataset = dataset.dropna(how='all',axis=0)\n",
        "dataset.shape"
      ],
      "execution_count": 0,
      "outputs": [
        {
          "output_type": "execute_result",
          "data": {
            "text/plain": [
              "(6953, 5)"
            ]
          },
          "metadata": {
            "tags": []
          },
          "execution_count": 214
        }
      ]
    },
    {
      "cell_type": "code",
      "metadata": {
        "id": "7bfZfkMTXU8o",
        "colab_type": "code",
        "outputId": "684cf51c-fd04-42b7-9950-17840a343170",
        "colab": {
          "base_uri": "https://localhost:8080/",
          "height": 119
        }
      },
      "source": [
        "dataset.isnull().sum()"
      ],
      "execution_count": 0,
      "outputs": [
        {
          "output_type": "execute_result",
          "data": {
            "text/plain": [
              "position          0\n",
              "company           0\n",
              "description       0\n",
              "reviews        1627\n",
              "location          0\n",
              "dtype: int64"
            ]
          },
          "metadata": {
            "tags": []
          },
          "execution_count": 215
        }
      ]
    },
    {
      "cell_type": "code",
      "metadata": {
        "id": "LN8cTOjmXbHB",
        "colab_type": "code",
        "outputId": "8e88cd6f-7d9e-446d-9a90-613934d55a66",
        "colab": {
          "base_uri": "https://localhost:8080/",
          "height": 34
        }
      },
      "source": [
        "# remove that rows which do not have any review \n",
        "dataset['reviews']=dataset['reviews'].fillna(0)\n",
        "dataset.shape "
      ],
      "execution_count": 0,
      "outputs": [
        {
          "output_type": "execute_result",
          "data": {
            "text/plain": [
              "(6953, 5)"
            ]
          },
          "metadata": {
            "tags": []
          },
          "execution_count": 216
        }
      ]
    },
    {
      "cell_type": "code",
      "metadata": {
        "id": "AYS7Jpdxbw-r",
        "colab_type": "code",
        "outputId": "b31b7add-30d9-498f-81ac-bc893b955891",
        "colab": {
          "base_uri": "https://localhost:8080/",
          "height": 119
        }
      },
      "source": [
        "dataset.isnull().sum()"
      ],
      "execution_count": 0,
      "outputs": [
        {
          "output_type": "execute_result",
          "data": {
            "text/plain": [
              "position       0\n",
              "company        0\n",
              "description    0\n",
              "reviews        0\n",
              "location       0\n",
              "dtype: int64"
            ]
          },
          "metadata": {
            "tags": []
          },
          "execution_count": 217
        }
      ]
    },
    {
      "cell_type": "code",
      "metadata": {
        "id": "GKkVXQXixjwr",
        "colab_type": "code",
        "outputId": "f55d844a-8336-4a0f-b065-e6915721e52f",
        "colab": {
          "base_uri": "https://localhost:8080/",
          "height": 119
        }
      },
      "source": [
        "# changing datatype of \"reviews\" column \n",
        "dataset['reviews']=dataset['reviews'].astype(int)\n",
        "dataset.dtypes"
      ],
      "execution_count": 0,
      "outputs": [
        {
          "output_type": "execute_result",
          "data": {
            "text/plain": [
              "position       object\n",
              "company        object\n",
              "description    object\n",
              "reviews         int64\n",
              "location       object\n",
              "dtype: object"
            ]
          },
          "metadata": {
            "tags": []
          },
          "execution_count": 218
        }
      ]
    },
    {
      "cell_type": "markdown",
      "metadata": {
        "id": "wzhyVs5xcIAo",
        "colab_type": "text"
      },
      "source": [
        "# ***EDA - ***"
      ]
    },
    {
      "cell_type": "code",
      "metadata": {
        "id": "FdkWW1F5d143",
        "colab_type": "code",
        "outputId": "1b0dc9ab-4c0f-41f1-ec26-d9fe17fc8f69",
        "colab": {
          "base_uri": "https://localhost:8080/",
          "height": 1071
        }
      },
      "source": [
        "dataset['position'].value_counts()"
      ],
      "execution_count": 0,
      "outputs": [
        {
          "output_type": "execute_result",
          "data": {
            "text/plain": [
              "Data Scientist                                                         351\n",
              "Senior Data Scientist                                                   96\n",
              "Research Analyst                                                        64\n",
              "Data Engineer                                                           60\n",
              "Machine Learning Engineer                                               56\n",
              "Lead Data Scientist                                                     31\n",
              "Research Scientist                                                      30\n",
              "Sr. Data Scientist                                                      28\n",
              "Principal Data Scientist                                                24\n",
              "Software Engineer                                                       22\n",
              "Data Analyst                                                            22\n",
              "Quantitative Analyst                                                    21\n",
              "Scientist                                                               17\n",
              "Product Manager                                                         17\n",
              "Bioinformatics Scientist                                                16\n",
              "Market Research Analyst                                                 15\n",
              "Senior Software Engineer                                                14\n",
              "Machine Learning Scientist                                              13\n",
              "Software Engineer, Machine Learning                                     13\n",
              "Senior Research Analyst                                                 12\n",
              "Senior Data Engineer                                                    12\n",
              "Staff Data Scientist                                                    11\n",
              "Senior Scientist                                                        11\n",
              "Software Development Engineer                                           11\n",
              "Associate Scientist                                                     11\n",
              "Research Associate                                                       9\n",
              "Lead Data Engineer                                                       9\n",
              "Student Research Collaboration                                           9\n",
              "Sr. Data Engineer                                                        8\n",
              "Senior Machine Learning Engineer                                         8\n",
              "                                                                      ... \n",
              "Software Engineer - iOS                                                  1\n",
              "Watson Health Imaging Scientist                                          1\n",
              "UAS Traffic Management Data Science / Software Engineer                  1\n",
              "Senior Scientist - Analytical Development                                1\n",
              "Predictive Analytics - Senior Data Scientist                             1\n",
              "Senior Deep Learning Data Scientist                                      1\n",
              "Associate Scientist/Scientist Biochemical and Cellular Pharmacology      1\n",
              "Techinical Marketing Engineer/Director                                   1\n",
              "Data Scientist, Investment Research                                      1\n",
              "Commodity Specialist II (664207)                                         1\n",
              "Chronic Disease Portfolio Lead                                           1\n",
              "Sr. Scientist, In Vivo Pharmacology                                      1\n",
              "CoE Lead, Data Science and Engineering                                   1\n",
              "Supervisory Health Scientist                                             1\n",
              "CI and Insider Threat Data and Trend Analysis Specialist                 1\n",
              "Consumer Research & Analytics Analyst                                    1\n",
              "Head of Oncology Discovery Biology                                       1\n",
              "Computational Biologist I                                                1\n",
              "Sr. Engineer D&S                                                         1\n",
              "Consulting Utility Forester                                              1\n",
              "Senior Front-End Developer                                               1\n",
              "Machine Learning - Software Engineer / Scientist                         1\n",
              "Sr Mechanical Engineer, Tooling                                          1\n",
              "Data Scientist, Online                                                   1\n",
              "Senior ESG Research Analyst                                              1\n",
              "Software Engineer, YouTube Machine Learning                              1\n",
              "Director, Incubation & AI                                                1\n",
              "Lead Data Scientist - NLP                                                1\n",
              "LJI Immunology Training Program for Postdoctoral Fellows                 1\n",
              "Machine Learning Scientist, Investment Research                          1\n",
              "Name: position, Length: 5242, dtype: int64"
            ]
          },
          "metadata": {
            "tags": []
          },
          "execution_count": 219
        }
      ]
    },
    {
      "cell_type": "markdown",
      "metadata": {
        "id": "b_zQzz8nSGEy",
        "colab_type": "text"
      },
      "source": [
        "***Note - ***\n",
        "\n",
        "\n",
        "1.   Maximum job offers are of position \"Data Scientist\".\n",
        "\n"
      ]
    },
    {
      "cell_type": "code",
      "metadata": {
        "id": "fVfR0VK6d-Od",
        "colab_type": "code",
        "outputId": "0a804a83-7234-4e4f-eaff-36e82ba0444c",
        "colab": {
          "base_uri": "https://localhost:8080/",
          "height": 1071
        }
      },
      "source": [
        "dataset['company'].value_counts()"
      ],
      "execution_count": 0,
      "outputs": [
        {
          "output_type": "execute_result",
          "data": {
            "text/plain": [
              "Amazon.com                                                 358\n",
              "Ball Aerospace                                             187\n",
              "Microsoft                                                  137\n",
              "Google                                                     134\n",
              "NYU Langone Health                                          77\n",
              "Fred Hutchinson Cancer Research Center                      70\n",
              "KPMG                                                        66\n",
              "Lab126                                                      50\n",
              "Facebook                                                    49\n",
              "Broad Institute                                             49\n",
              "Walmart eCommerce                                           45\n",
              "McKinsey & Company                                          41\n",
              "Takeda Pharmaceutical                                       39\n",
              "Harnham                                                     39\n",
              "University of Washington                                    39\n",
              "Oath Inc                                                    34\n",
              "Pharmacyclics, an Abbvie Company                            34\n",
              "Celgene Corporation                                         34\n",
              "Cymer                                                       32\n",
              "Brigham & Women's Hospital(BWH)                             31\n",
              "Biogen                                                      30\n",
              "Sanofi                                                      28\n",
              "Amgen                                                       28\n",
              "Illumina                                                    27\n",
              "Jacobs                                                      27\n",
              "JP Morgan Chase                                             27\n",
              "JUUL Labs                                                   26\n",
              "JD.com                                                      26\n",
              "Zillow Group                                                26\n",
              "Cedars-Sinai                                                24\n",
              "                                                          ... \n",
              "The College Board                                            1\n",
              "Kintai Therapeutics                                          1\n",
              "Yodlee                                                       1\n",
              "SurveyMonkey                                                 1\n",
              "Newton Colmore Consulting Ltd                                1\n",
              "Mintel                                                       1\n",
              "Cogent Professionals                                         1\n",
              "ASTA CRS                                                     1\n",
              "Center for Infectious Disease Research                       1\n",
              "2U                                                           1\n",
              "Coinlist                                                     1\n",
              "ACADIA Pharmaceuticals Inc.                                  1\n",
              "Alteryx, Inc.                                                1\n",
              "Federation for American Immigration Reform (Fair)            1\n",
              "Swedish Medical Center - Seattle, WA                         1\n",
              "Syneos Health (previously INC Research/inVentiv Health)      1\n",
              "Array BioPharma                                              1\n",
              "Liberty Healthcare Corporation                               1\n",
              "Onyx Government Services, LLC                                1\n",
              "Chegg                                                        1\n",
              "SoundHound Inc.                                              1\n",
              "Wild Type                                                    1\n",
              "ThirdLove                                                    1\n",
              "RecruiterDNA                                                 1\n",
              "7Cups                                                        1\n",
              "Lionshare Lending, LLC                                       1\n",
              "Pacific Gas And Electric Company                             1\n",
              "Enterprise Peak                                              1\n",
              "Robert Walters                                               1\n",
              "GQR                                                          1\n",
              "Name: company, Length: 2213, dtype: int64"
            ]
          },
          "metadata": {
            "tags": []
          },
          "execution_count": 220
        }
      ]
    },
    {
      "cell_type": "markdown",
      "metadata": {
        "id": "uDwq0vT6MmLQ",
        "colab_type": "text"
      },
      "source": [
        "***Note - ***\n",
        "\n",
        "1.   Maximum offers of jobs are given \"Amazon.com\" company. \n",
        "\n",
        "\n"
      ]
    },
    {
      "cell_type": "code",
      "metadata": {
        "id": "U66h1j7UeNWT",
        "colab_type": "code",
        "outputId": "d9aba73c-fc8e-4c1c-89e6-c93f70e5127a",
        "colab": {
          "base_uri": "https://localhost:8080/",
          "height": 1071
        }
      },
      "source": [
        "dataset['reviews'].value_counts()"
      ],
      "execution_count": 0,
      "outputs": [
        {
          "output_type": "execute_result",
          "data": {
            "text/plain": [
              "0         1627\n",
              "25902      224\n",
              "108        193\n",
              "2          191\n",
              "5          138\n",
              "4          131\n",
              "4618       118\n",
              "2474       106\n",
              "3          101\n",
              "6           94\n",
              "25895       89\n",
              "7           78\n",
              "705         76\n",
              "91          71\n",
              "8           66\n",
              "15          65\n",
              "838         62\n",
              "32          55\n",
              "11          54\n",
              "366         49\n",
              "14          48\n",
              "141         46\n",
              "12          45\n",
              "70          42\n",
              "26          42\n",
              "10          41\n",
              "385         41\n",
              "52          39\n",
              "530         39\n",
              "17          36\n",
              "          ... \n",
              "189          1\n",
              "207          1\n",
              "221          1\n",
              "233          1\n",
              "897          1\n",
              "893          1\n",
              "2936         1\n",
              "63           1\n",
              "2828         1\n",
              "75           1\n",
              "653          1\n",
              "645          1\n",
              "148085       1\n",
              "99           1\n",
              "8282         1\n",
              "477          1\n",
              "441          1\n",
              "413          1\n",
              "397          1\n",
              "115          1\n",
              "119          1\n",
              "127          1\n",
              "131          1\n",
              "325          1\n",
              "297          1\n",
              "24869        1\n",
              "285          1\n",
              "2210         1\n",
              "175          1\n",
              "231          1\n",
              "Name: reviews, Length: 561, dtype: int64"
            ]
          },
          "metadata": {
            "tags": []
          },
          "execution_count": 221
        }
      ]
    },
    {
      "cell_type": "code",
      "metadata": {
        "id": "Pdi8aLrie29r",
        "colab_type": "code",
        "outputId": "42eb9d57-6ca1-4582-a2de-66b7ab5afd6b",
        "colab": {
          "base_uri": "https://localhost:8080/",
          "height": 54
        }
      },
      "source": [
        "dataset['description'][0]"
      ],
      "execution_count": 0,
      "outputs": [
        {
          "output_type": "execute_result",
          "data": {
            "text/plain": [
              "\"Development Director\\nALS Therapy Development Institute has an immediate opening for Development Directors. Reporting directly to the Senior Development Director, the Development Director at ALS TDI is a senior fundraising position working to identifying potential prospects and cultivating solicitation strategies and in closing asks with donors including individuals and corporations by building networks via events, generating awareness of ALS TDI; outreach including attending and speaking at events as well as personally cultivates relationships with patients, prospects and donors. This position will be responsible for generating and managing a portfolio of at least two million to five million dollars per year. This position will be located in Atlanta, GA.\\n\\nRequirements:\\nBachelor's Degree requiredMinimum 6-8 years' experience in fundraising and business developmentSuccessful track recording in fundraising with major donors or scientific sales preferredDemonstrated ability to work independently and make progress on several prospects/projects at the same time.Excellent English oral, written and presentation skillsStrong leadership and management skills, as well as the ability to forge strong interpersonal relationshipsAbility to travelExcellent computer skills including use of word processing, spreadsheet, database, presentation and prospect management software operating off a PC-based system including Salesforce.\\nAbout ALS Therapy Development Institute (ALS.net)\\n\\nThe ALS Therapy Development Institute (ALS.net) and its scientists actively discover and develop treatments for ALS. ALS.net is the world's first and largest nonprofit biotech focused 100% on ALS research. Led by ALS patients and their families, the charity understands the urgent need to slow and stop this horrible disease. ALS.net, based in Cambridge, MA, has served as one of the leaders in sharing data and information with academic and ALS research organizations, patients and their families. For more information, visit www.als.net.\\n\\nTo Apply\\nPlease apply at https://als.applicantpro.com. Please include a cover letter, salary requirements and resume. No phone calls please.\\nALS TDI is an equal opportunity employer.\""
            ]
          },
          "metadata": {
            "tags": []
          },
          "execution_count": 29
        }
      ]
    },
    {
      "cell_type": "code",
      "metadata": {
        "id": "v7eLayQ7h43N",
        "colab_type": "code",
        "outputId": "c11cc87f-9558-4dd1-d320-d44b23f86aba",
        "colab": {
          "base_uri": "https://localhost:8080/",
          "height": 1071
        }
      },
      "source": [
        "dataset['location'].value_counts()"
      ],
      "execution_count": 0,
      "outputs": [
        {
          "output_type": "execute_result",
          "data": {
            "text/plain": [
              "Seattle, WA                563\n",
              "New York, NY               508\n",
              "Cambridge, MA              487\n",
              "Boston, MA                 454\n",
              "San Francisco, CA          425\n",
              "San Diego, CA              294\n",
              "Chicago, IL                292\n",
              "Boulder, CO                233\n",
              "Washington, DC             230\n",
              "Sunnyvale, CA              221\n",
              "Mountain View, CA          199\n",
              "Los Angeles, CA            187\n",
              "Austin, TX                 156\n",
              "Atlanta, GA                147\n",
              "Redmond, WA 98052          117\n",
              "Seattle, WA 98109           95\n",
              "Cambridge, MA 02139         95\n",
              "New York, NY 10016          83\n",
              "San Diego, CA 92121         71\n",
              "Cambridge, MA 02142         64\n",
              "South San Francisco, CA     53\n",
              "Chicago, IL 60654           45\n",
              "San Francisco, CA 94103     40\n",
              "Chicago, IL 60601           40\n",
              "Mountain View, CA 94043     39\n",
              "Redmond, WA                 39\n",
              "Seattle, WA 98101           34\n",
              "Seattle, WA 98104           34\n",
              "Cambridge, MA 02140         33\n",
              "Boston, MA 02116            31\n",
              "                          ... \n",
              "Seattle, WA 98164            1\n",
              "San Francisco, CA 94129      1\n",
              "San Mateo, CA 94401          1\n",
              "Newark, NJ 07105             1\n",
              "Florham Park, NJ 07932       1\n",
              "New York, NY 10018           1\n",
              "New York, NY 10007           1\n",
              "Kentfield, CA 94904          1\n",
              "New York, NY 10281           1\n",
              "New York, NY 10027           1\n",
              "New York, NY 10002           1\n",
              "Oakland, CA 94611            1\n",
              "Richmond, CA 94806           1\n",
              "Austin, TX 78747             1\n",
              "Boston, MA 02129             1\n",
              "Atlanta, GA 30332            1\n",
              "San Francisco, CA 94122      1\n",
              "Daly City, CA 94016          1\n",
              "Ridgefield, NJ               1\n",
              "Atlanta, GA 30345            1\n",
              "Novato, CA 94949             1\n",
              "San Francisco, CA 94109      1\n",
              "Chicago, IL 60659            1\n",
              "Jersey City, NJ 07311        1\n",
              "New York, NY 10168           1\n",
              "Atlanta, GA 30313            1\n",
              "Washington, DC 20301         1\n",
              "Pleasant Hill, CA            1\n",
              "Short Hills, NJ              1\n",
              "Whippany, NJ                 1\n",
              "Name: location, Length: 382, dtype: int64"
            ]
          },
          "metadata": {
            "tags": []
          },
          "execution_count": 224
        }
      ]
    },
    {
      "cell_type": "markdown",
      "metadata": {
        "id": "vVoyn5X2ibS3",
        "colab_type": "text"
      },
      "source": [
        "***Note - ***\n",
        "\n",
        "1.   Most of the job offers are on the location 'Seattle, WA'.\n",
        "\n"
      ]
    },
    {
      "cell_type": "code",
      "metadata": {
        "id": "cI4ccbB4ia9o",
        "colab_type": "code",
        "outputId": "5eee1f37-dace-4944-a74e-d87fdd8fdde5",
        "colab": {
          "base_uri": "https://localhost:8080/",
          "height": 142
        }
      },
      "source": [
        "dataset[dataset['reviews']==dataset['reviews'].max()]"
      ],
      "execution_count": 0,
      "outputs": [
        {
          "output_type": "execute_result",
          "data": {
            "text/html": [
              "<div>\n",
              "<style scoped>\n",
              "    .dataframe tbody tr th:only-of-type {\n",
              "        vertical-align: middle;\n",
              "    }\n",
              "\n",
              "    .dataframe tbody tr th {\n",
              "        vertical-align: top;\n",
              "    }\n",
              "\n",
              "    .dataframe thead th {\n",
              "        text-align: right;\n",
              "    }\n",
              "</style>\n",
              "<table border=\"1\" class=\"dataframe\">\n",
              "  <thead>\n",
              "    <tr style=\"text-align: right;\">\n",
              "      <th></th>\n",
              "      <th>position</th>\n",
              "      <th>company</th>\n",
              "      <th>description</th>\n",
              "      <th>reviews</th>\n",
              "      <th>location</th>\n",
              "    </tr>\n",
              "  </thead>\n",
              "  <tbody>\n",
              "    <tr>\n",
              "      <th>6728</th>\n",
              "      <td>Staff Software Engineer, Front End Lead</td>\n",
              "      <td>Walmart</td>\n",
              "      <td>Position Description\\nPosition Summary\\nAs a S...</td>\n",
              "      <td>148114</td>\n",
              "      <td>Sunnyvale, CA 94086</td>\n",
              "    </tr>\n",
              "    <tr>\n",
              "      <th>6828</th>\n",
              "      <td>Information Security Risk Expert</td>\n",
              "      <td>Walmart</td>\n",
              "      <td>Position Description\\nCompany Summary: Walmart...</td>\n",
              "      <td>148114</td>\n",
              "      <td>Sunnyvale, CA 94086</td>\n",
              "    </tr>\n",
              "    <tr>\n",
              "      <th>6958</th>\n",
              "      <td>Senior Data Scientist (GEC11902)</td>\n",
              "      <td>Walmart</td>\n",
              "      <td>Position Description\\nProficient in Java or Py...</td>\n",
              "      <td>148114</td>\n",
              "      <td>Sunnyvale, CA 94086</td>\n",
              "    </tr>\n",
              "  </tbody>\n",
              "</table>\n",
              "</div>"
            ],
            "text/plain": [
              "                                     position  ...             location\n",
              "6728  Staff Software Engineer, Front End Lead  ...  Sunnyvale, CA 94086\n",
              "6828         Information Security Risk Expert  ...  Sunnyvale, CA 94086\n",
              "6958         Senior Data Scientist (GEC11902)  ...  Sunnyvale, CA 94086\n",
              "\n",
              "[3 rows x 5 columns]"
            ]
          },
          "metadata": {
            "tags": []
          },
          "execution_count": 225
        }
      ]
    },
    {
      "cell_type": "code",
      "metadata": {
        "id": "1MkWM48zz-uz",
        "colab_type": "code",
        "outputId": "f252fea2-20e7-4418-8e76-de2f2819ffe8",
        "colab": {
          "base_uri": "https://localhost:8080/",
          "height": 204
        }
      },
      "source": [
        "dataset[dataset['company']=='Walmart']"
      ],
      "execution_count": 0,
      "outputs": [
        {
          "output_type": "execute_result",
          "data": {
            "text/html": [
              "<div>\n",
              "<style scoped>\n",
              "    .dataframe tbody tr th:only-of-type {\n",
              "        vertical-align: middle;\n",
              "    }\n",
              "\n",
              "    .dataframe tbody tr th {\n",
              "        vertical-align: top;\n",
              "    }\n",
              "\n",
              "    .dataframe thead th {\n",
              "        text-align: right;\n",
              "    }\n",
              "</style>\n",
              "<table border=\"1\" class=\"dataframe\">\n",
              "  <thead>\n",
              "    <tr style=\"text-align: right;\">\n",
              "      <th></th>\n",
              "      <th>position</th>\n",
              "      <th>company</th>\n",
              "      <th>description</th>\n",
              "      <th>reviews</th>\n",
              "      <th>location</th>\n",
              "    </tr>\n",
              "  </thead>\n",
              "  <tbody>\n",
              "    <tr>\n",
              "      <th>449</th>\n",
              "      <td>Data Scientist-ISD</td>\n",
              "      <td>Walmart</td>\n",
              "      <td>Position Description\\n\\nConsults with business...</td>\n",
              "      <td>148085</td>\n",
              "      <td>Austin, TX 78716</td>\n",
              "    </tr>\n",
              "    <tr>\n",
              "      <th>6668</th>\n",
              "      <td>Staff Data Scientist</td>\n",
              "      <td>Walmart</td>\n",
              "      <td>Position Description\\n\\nA Staff Data Scientist...</td>\n",
              "      <td>148051</td>\n",
              "      <td>San Bruno, CA 94066</td>\n",
              "    </tr>\n",
              "    <tr>\n",
              "      <th>6728</th>\n",
              "      <td>Staff Software Engineer, Front End Lead</td>\n",
              "      <td>Walmart</td>\n",
              "      <td>Position Description\\nPosition Summary\\nAs a S...</td>\n",
              "      <td>148114</td>\n",
              "      <td>Sunnyvale, CA 94086</td>\n",
              "    </tr>\n",
              "    <tr>\n",
              "      <th>6828</th>\n",
              "      <td>Information Security Risk Expert</td>\n",
              "      <td>Walmart</td>\n",
              "      <td>Position Description\\nCompany Summary: Walmart...</td>\n",
              "      <td>148114</td>\n",
              "      <td>Sunnyvale, CA 94086</td>\n",
              "    </tr>\n",
              "    <tr>\n",
              "      <th>6958</th>\n",
              "      <td>Senior Data Scientist (GEC11902)</td>\n",
              "      <td>Walmart</td>\n",
              "      <td>Position Description\\nProficient in Java or Py...</td>\n",
              "      <td>148114</td>\n",
              "      <td>Sunnyvale, CA 94086</td>\n",
              "    </tr>\n",
              "  </tbody>\n",
              "</table>\n",
              "</div>"
            ],
            "text/plain": [
              "                                     position  ...             location\n",
              "449                        Data Scientist-ISD  ...     Austin, TX 78716\n",
              "6668                     Staff Data Scientist  ...  San Bruno, CA 94066\n",
              "6728  Staff Software Engineer, Front End Lead  ...  Sunnyvale, CA 94086\n",
              "6828         Information Security Risk Expert  ...  Sunnyvale, CA 94086\n",
              "6958         Senior Data Scientist (GEC11902)  ...  Sunnyvale, CA 94086\n",
              "\n",
              "[5 rows x 5 columns]"
            ]
          },
          "metadata": {
            "tags": []
          },
          "execution_count": 226
        }
      ]
    },
    {
      "cell_type": "markdown",
      "metadata": {
        "id": "l8XaKDsp0L_s",
        "colab_type": "text"
      },
      "source": [
        "***Note - ***\n",
        "\n",
        "1.   Company \"Walmart\" has maximum reviews. And Company \"Walmart\" offers maximum jobs on location \"Sunnyvale, CA 94086\".\n",
        "2.   Maximum offers are at the location \"Seattle, WA\". But the company with maximum reviews go at \"Sunnyvale,CA 94086\" location instead of going at location \"Seattle, WA\". This means that more talented persons are at \"Sunnyvale, CA 94086\" location. "
      ]
    },
    {
      "cell_type": "code",
      "metadata": {
        "id": "BTSi0NW9yyZr",
        "colab_type": "code",
        "outputId": "a0cbf96d-1732-4c3f-a110-b70185a19446",
        "colab": {
          "base_uri": "https://localhost:8080/",
          "height": 2343
        }
      },
      "source": [
        "dataset[dataset['reviews']==dataset['reviews'].min()]"
      ],
      "execution_count": 0,
      "outputs": [
        {
          "output_type": "execute_result",
          "data": {
            "text/html": [
              "<div>\n",
              "<style scoped>\n",
              "    .dataframe tbody tr th:only-of-type {\n",
              "        vertical-align: middle;\n",
              "    }\n",
              "\n",
              "    .dataframe tbody tr th {\n",
              "        vertical-align: top;\n",
              "    }\n",
              "\n",
              "    .dataframe thead th {\n",
              "        text-align: right;\n",
              "    }\n",
              "</style>\n",
              "<table border=\"1\" class=\"dataframe\">\n",
              "  <thead>\n",
              "    <tr style=\"text-align: right;\">\n",
              "      <th></th>\n",
              "      <th>position</th>\n",
              "      <th>company</th>\n",
              "      <th>description</th>\n",
              "      <th>reviews</th>\n",
              "      <th>location</th>\n",
              "    </tr>\n",
              "  </thead>\n",
              "  <tbody>\n",
              "    <tr>\n",
              "      <th>0</th>\n",
              "      <td>Development Director</td>\n",
              "      <td>ALS TDI</td>\n",
              "      <td>Development Director\\nALS Therapy Development ...</td>\n",
              "      <td>0</td>\n",
              "      <td>Atlanta, GA 30301</td>\n",
              "    </tr>\n",
              "    <tr>\n",
              "      <th>1</th>\n",
              "      <td>An Ostentatiously-Excitable Principal Research...</td>\n",
              "      <td>The Hexagon Lavish</td>\n",
              "      <td>Job Description\\n\\n\"The road that leads to acc...</td>\n",
              "      <td>0</td>\n",
              "      <td>Atlanta, GA</td>\n",
              "    </tr>\n",
              "    <tr>\n",
              "      <th>2</th>\n",
              "      <td>Data Scientist</td>\n",
              "      <td>Xpert Staffing</td>\n",
              "      <td>Growing company located in the Atlanta, GA are...</td>\n",
              "      <td>0</td>\n",
              "      <td>Atlanta, GA</td>\n",
              "    </tr>\n",
              "    <tr>\n",
              "      <th>18</th>\n",
              "      <td>Data Scientist</td>\n",
              "      <td>Relus Cloud</td>\n",
              "      <td>DATA SCIENTIST\\n\\nSUMMARY:\\nAs an Amazon Web S...</td>\n",
              "      <td>0</td>\n",
              "      <td>Atlanta, GA</td>\n",
              "    </tr>\n",
              "    <tr>\n",
              "      <th>19</th>\n",
              "      <td>Data Scientist</td>\n",
              "      <td>Inspire Brands</td>\n",
              "      <td>This position is critical to understanding dri...</td>\n",
              "      <td>0</td>\n",
              "      <td>Atlanta, GA</td>\n",
              "    </tr>\n",
              "    <tr>\n",
              "      <th>25</th>\n",
              "      <td>Data Scientist</td>\n",
              "      <td>AirSage</td>\n",
              "      <td>AirSage has been in the business of providing ...</td>\n",
              "      <td>0</td>\n",
              "      <td>Atlanta, GA</td>\n",
              "    </tr>\n",
              "    <tr>\n",
              "      <th>26</th>\n",
              "      <td>Data Scientist 1 – AP Forensics Team</td>\n",
              "      <td>The Home Depot</td>\n",
              "      <td>POSITION PURPOSE:\\nThe Data Scientist I will p...</td>\n",
              "      <td>0</td>\n",
              "      <td>Atlanta, GA</td>\n",
              "    </tr>\n",
              "    <tr>\n",
              "      <th>38</th>\n",
              "      <td>Data Scientist</td>\n",
              "      <td>OM Partners</td>\n",
              "      <td>With demand sensing, OM Partners is breaking t...</td>\n",
              "      <td>0</td>\n",
              "      <td>Atlanta, GA</td>\n",
              "    </tr>\n",
              "    <tr>\n",
              "      <th>48</th>\n",
              "      <td>Chief Deep Learning Scientist</td>\n",
              "      <td>YIWEI Medical Inc.</td>\n",
              "      <td>We are looking for talented, driven and autono...</td>\n",
              "      <td>0</td>\n",
              "      <td>Atlanta, GA</td>\n",
              "    </tr>\n",
              "    <tr>\n",
              "      <th>53</th>\n",
              "      <td>Statistical Analyst</td>\n",
              "      <td>Hawkins Diagnostics</td>\n",
              "      <td>Job Description\\n\\nParticipates in all aspects...</td>\n",
              "      <td>0</td>\n",
              "      <td>Atlanta, GA</td>\n",
              "    </tr>\n",
              "    <tr>\n",
              "      <th>54</th>\n",
              "      <td>VP, Data Analytics</td>\n",
              "      <td>TCGplayer</td>\n",
              "      <td>********************\\nVP of Data Analytics\\n**...</td>\n",
              "      <td>0</td>\n",
              "      <td>Atlanta, GA</td>\n",
              "    </tr>\n",
              "    <tr>\n",
              "      <th>55</th>\n",
              "      <td>Lead Decision Scientist</td>\n",
              "      <td>Moxie Interactive, Inc.</td>\n",
              "      <td>Leading the use of modeling, algorithms, and c...</td>\n",
              "      <td>0</td>\n",
              "      <td>Atlanta, GA 30313</td>\n",
              "    </tr>\n",
              "    <tr>\n",
              "      <th>65</th>\n",
              "      <td>Research Scientist</td>\n",
              "      <td>MacDermid Inc.</td>\n",
              "      <td>Research Scientist\\n\\nJob Description\\nThe Res...</td>\n",
              "      <td>0</td>\n",
              "      <td>Atlanta, GA</td>\n",
              "    </tr>\n",
              "    <tr>\n",
              "      <th>84</th>\n",
              "      <td>Research Scientist</td>\n",
              "      <td>PreVisor</td>\n",
              "      <td>POSITION OVERVIEW\\n\\n\\nThe Research Scientist ...</td>\n",
              "      <td>0</td>\n",
              "      <td>Atlanta, GA</td>\n",
              "    </tr>\n",
              "    <tr>\n",
              "      <th>106</th>\n",
              "      <td>Staff Research Scientist VII: Informational In...</td>\n",
              "      <td>The Hexagon Lavish</td>\n",
              "      <td>Job Description\\n\\nDo you have a knack for cre...</td>\n",
              "      <td>0</td>\n",
              "      <td>Atlanta, GA</td>\n",
              "    </tr>\n",
              "    <tr>\n",
              "      <th>114</th>\n",
              "      <td>Jr Microbiologist - CDC</td>\n",
              "      <td>G2S Corporation</td>\n",
              "      <td>C.1 – SCOPE OF WORKLaboratory work to be perfo...</td>\n",
              "      <td>0</td>\n",
              "      <td>Atlanta, GA</td>\n",
              "    </tr>\n",
              "    <tr>\n",
              "      <th>122</th>\n",
              "      <td>Mid Data Scientist - Machine Learning</td>\n",
              "      <td>Elev8 Hire Solutions</td>\n",
              "      <td>Mid Data Scientist\\nOur client in the Midtown ...</td>\n",
              "      <td>0</td>\n",
              "      <td>Atlanta, GA 30342</td>\n",
              "    </tr>\n",
              "    <tr>\n",
              "      <th>139</th>\n",
              "      <td>Principal Research Scientist I: Informational ...</td>\n",
              "      <td>The Hexagon Lavish</td>\n",
              "      <td>Job Description\\n\\nAre you turned-off to hype ...</td>\n",
              "      <td>0</td>\n",
              "      <td>Atlanta, GA</td>\n",
              "    </tr>\n",
              "    <tr>\n",
              "      <th>140</th>\n",
              "      <td>Market Research Analyst</td>\n",
              "      <td>SKIM</td>\n",
              "      <td>Job Description\\n\\nLearn to be responsible for...</td>\n",
              "      <td>0</td>\n",
              "      <td>Atlanta, GA</td>\n",
              "    </tr>\n",
              "    <tr>\n",
              "      <th>151</th>\n",
              "      <td>Senior Scientist, Immunology</td>\n",
              "      <td>GeoVax, Inc.</td>\n",
              "      <td>INTRODUCTIONGeoVax, an Atlanta-area clinical s...</td>\n",
              "      <td>0</td>\n",
              "      <td>Atlanta, GA</td>\n",
              "    </tr>\n",
              "    <tr>\n",
              "      <th>153</th>\n",
              "      <td>A Vigorously-Charged Scientific Programmer</td>\n",
              "      <td>The Hexagon Lavish</td>\n",
              "      <td>Job Description\\n\\nHexagon Lavish® is a scient...</td>\n",
              "      <td>0</td>\n",
              "      <td>Atlanta, GA</td>\n",
              "    </tr>\n",
              "    <tr>\n",
              "      <th>154</th>\n",
              "      <td>Software Engineer</td>\n",
              "      <td>FraudScope</td>\n",
              "      <td>FraudScope - the rapidly growing company that ...</td>\n",
              "      <td>0</td>\n",
              "      <td>Atlanta, GA</td>\n",
              "    </tr>\n",
              "    <tr>\n",
              "      <th>156</th>\n",
              "      <td>Director of Software</td>\n",
              "      <td>Bionic Sciences Inc.</td>\n",
              "      <td>Job Description\\n\\nWe are looking for a driven...</td>\n",
              "      <td>0</td>\n",
              "      <td>Atlanta, GA 30332</td>\n",
              "    </tr>\n",
              "    <tr>\n",
              "      <th>157</th>\n",
              "      <td>Certifying Scientist / Quantitation Scientist</td>\n",
              "      <td>Lighthouse Lab Services</td>\n",
              "      <td>A growing clinical toxicology laboratory in At...</td>\n",
              "      <td>0</td>\n",
              "      <td>Atlanta, GA</td>\n",
              "    </tr>\n",
              "    <tr>\n",
              "      <th>161</th>\n",
              "      <td>Data Scientist</td>\n",
              "      <td>Xpect SVC, LLC</td>\n",
              "      <td>Xpect Service is seeking a Geospatial Data Sci...</td>\n",
              "      <td>0</td>\n",
              "      <td>Atlanta, GA 30326</td>\n",
              "    </tr>\n",
              "    <tr>\n",
              "      <th>164</th>\n",
              "      <td>Windows Programmer / Software Engineer - Inter...</td>\n",
              "      <td>The Goal Inc.</td>\n",
              "      <td>Summary: This position supports the developmen...</td>\n",
              "      <td>0</td>\n",
              "      <td>Atlanta, GA</td>\n",
              "    </tr>\n",
              "    <tr>\n",
              "      <th>170</th>\n",
              "      <td>Windows Programmer / Software Engineer - Entry...</td>\n",
              "      <td>The Goal Inc.</td>\n",
              "      <td>Summary: This position supports the developmen...</td>\n",
              "      <td>0</td>\n",
              "      <td>Atlanta, GA</td>\n",
              "    </tr>\n",
              "    <tr>\n",
              "      <th>192</th>\n",
              "      <td>Various Professional, Technical, Administrativ...</td>\n",
              "      <td>Alaka`ina Foundation Family of Companies</td>\n",
              "      <td>The Alaka`ina Foundation Family of Companies (...</td>\n",
              "      <td>0</td>\n",
              "      <td>Atlanta, GA</td>\n",
              "    </tr>\n",
              "    <tr>\n",
              "      <th>196</th>\n",
              "      <td>Business Development Manager (Southeast Region)</td>\n",
              "      <td>Catapult Sports</td>\n",
              "      <td>Do you want to work for the world leader in el...</td>\n",
              "      <td>0</td>\n",
              "      <td>Atlanta, GA</td>\n",
              "    </tr>\n",
              "    <tr>\n",
              "      <th>199</th>\n",
              "      <td>Implementation Engineer (Machine Learning/Data...</td>\n",
              "      <td>eHire, LLC</td>\n",
              "      <td>Atlanta, GA\\nA world leader in Adaptive Behavi...</td>\n",
              "      <td>0</td>\n",
              "      <td>Atlanta, GA 30326</td>\n",
              "    </tr>\n",
              "    <tr>\n",
              "      <th>...</th>\n",
              "      <td>...</td>\n",
              "      <td>...</td>\n",
              "      <td>...</td>\n",
              "      <td>...</td>\n",
              "      <td>...</td>\n",
              "    </tr>\n",
              "    <tr>\n",
              "      <th>6789</th>\n",
              "      <td>Head of Design</td>\n",
              "      <td>Enlighted</td>\n",
              "      <td>ABOUT ENLIGHTED:\\n At Enlighted, we’ve created...</td>\n",
              "      <td>0</td>\n",
              "      <td>Sunnyvale, CA 94085</td>\n",
              "    </tr>\n",
              "    <tr>\n",
              "      <th>6791</th>\n",
              "      <td>Forward Deployed Solution Engineer</td>\n",
              "      <td>Petuum</td>\n",
              "      <td>ABOUT THE ROLEPetuum is seeking a high-perform...</td>\n",
              "      <td>0</td>\n",
              "      <td>Sunnyvale, CA</td>\n",
              "    </tr>\n",
              "    <tr>\n",
              "      <th>6795</th>\n",
              "      <td>Deep Learning Software Development Engineer</td>\n",
              "      <td>Lab126</td>\n",
              "      <td>Job Description\\nAmazon Lab126 is an inventive...</td>\n",
              "      <td>0</td>\n",
              "      <td>Sunnyvale, CA</td>\n",
              "    </tr>\n",
              "    <tr>\n",
              "      <th>6800</th>\n",
              "      <td>Knowledge Engineer</td>\n",
              "      <td>Lab126</td>\n",
              "      <td>Job Description\\nThe Alexa Information Team le...</td>\n",
              "      <td>0</td>\n",
              "      <td>Sunnyvale, CA</td>\n",
              "    </tr>\n",
              "    <tr>\n",
              "      <th>6813</th>\n",
              "      <td>AI Research/Software Development Engineer, Ale...</td>\n",
              "      <td>Lab126</td>\n",
              "      <td>Job Description\\nAlexa is the groundbreaking c...</td>\n",
              "      <td>0</td>\n",
              "      <td>Sunnyvale, CA</td>\n",
              "    </tr>\n",
              "    <tr>\n",
              "      <th>6815</th>\n",
              "      <td>3D Tools Software Engineer</td>\n",
              "      <td>Baidu USA</td>\n",
              "      <td>Baidu USA, located in Silicon Valley, is looki...</td>\n",
              "      <td>0</td>\n",
              "      <td>Sunnyvale, CA 94089</td>\n",
              "    </tr>\n",
              "    <tr>\n",
              "      <th>6816</th>\n",
              "      <td>Software Engineer - Tools and Infrastructure</td>\n",
              "      <td>Petuum, Inc</td>\n",
              "      <td>ABOUT THE ROLEPetuum is looking for Software E...</td>\n",
              "      <td>0</td>\n",
              "      <td>Sunnyvale, CA</td>\n",
              "    </tr>\n",
              "    <tr>\n",
              "      <th>6817</th>\n",
              "      <td>23103 Principal Data Scientist - HealthTech / ...</td>\n",
              "      <td>Redfish Technology - High Tech Executive Recru...</td>\n",
              "      <td>23103 Principal Data Scientist (Machine Learni...</td>\n",
              "      <td>0</td>\n",
              "      <td>Sunnyvale, CA</td>\n",
              "    </tr>\n",
              "    <tr>\n",
              "      <th>6822</th>\n",
              "      <td>Manager, TPMs</td>\n",
              "      <td>Lab126</td>\n",
              "      <td>Job Description\\nAmazon Lab126 is an inventive...</td>\n",
              "      <td>0</td>\n",
              "      <td>Sunnyvale, CA</td>\n",
              "    </tr>\n",
              "    <tr>\n",
              "      <th>6824</th>\n",
              "      <td>QA Software Engineer</td>\n",
              "      <td>Petuum, Inc</td>\n",
              "      <td>About PetuumToday’s Artificial Intelligence (A...</td>\n",
              "      <td>0</td>\n",
              "      <td>Sunnyvale, CA</td>\n",
              "    </tr>\n",
              "    <tr>\n",
              "      <th>6825</th>\n",
              "      <td>Sr Speech Scientist</td>\n",
              "      <td>Lab126</td>\n",
              "      <td>Job Description\\nAmazon Lab126 is an inventive...</td>\n",
              "      <td>0</td>\n",
              "      <td>Sunnyvale, CA</td>\n",
              "    </tr>\n",
              "    <tr>\n",
              "      <th>6827</th>\n",
              "      <td>Software Development Engineer</td>\n",
              "      <td>Lab126</td>\n",
              "      <td>Job Description\\nThe Amazon Devices team desig...</td>\n",
              "      <td>0</td>\n",
              "      <td>Sunnyvale, CA</td>\n",
              "    </tr>\n",
              "    <tr>\n",
              "      <th>6829</th>\n",
              "      <td>Software Engineer</td>\n",
              "      <td>Lab126</td>\n",
              "      <td>Job Description\\n\\nAmazon Lab126 is an inventi...</td>\n",
              "      <td>0</td>\n",
              "      <td>Sunnyvale, CA</td>\n",
              "    </tr>\n",
              "    <tr>\n",
              "      <th>6841</th>\n",
              "      <td>Sr. Machine Learning Engineer</td>\n",
              "      <td>Lab126</td>\n",
              "      <td>Job Description\\nAmazon Lab126 is an inventive...</td>\n",
              "      <td>0</td>\n",
              "      <td>Sunnyvale, CA</td>\n",
              "    </tr>\n",
              "    <tr>\n",
              "      <th>6846</th>\n",
              "      <td>Sr. Hardware Audio Engineer</td>\n",
              "      <td>Lab126</td>\n",
              "      <td>Job Description\\nAmazon Lab126 is an inventive...</td>\n",
              "      <td>0</td>\n",
              "      <td>Sunnyvale, CA</td>\n",
              "    </tr>\n",
              "    <tr>\n",
              "      <th>6848</th>\n",
              "      <td>Materials (Quality) Engineer</td>\n",
              "      <td>Stealth Mode Startup Company</td>\n",
              "      <td>A Silicon Valley stealth stage startup has the...</td>\n",
              "      <td>0</td>\n",
              "      <td>Sunnyvale, CA 94086</td>\n",
              "    </tr>\n",
              "    <tr>\n",
              "      <th>6856</th>\n",
              "      <td>Senior Data Scientist, Algorithms and Machine ...</td>\n",
              "      <td>Redfish Technology - High Tech Executive Recru...</td>\n",
              "      <td>23238 Senior Data Scientist, Algorithms and Ma...</td>\n",
              "      <td>0</td>\n",
              "      <td>Sunnyvale, CA</td>\n",
              "    </tr>\n",
              "    <tr>\n",
              "      <th>6868</th>\n",
              "      <td>Senior Research Engineer, Alexa</td>\n",
              "      <td>Lab126</td>\n",
              "      <td>Job Description\\nAlexa is the groundbreaking c...</td>\n",
              "      <td>0</td>\n",
              "      <td>Sunnyvale, CA</td>\n",
              "    </tr>\n",
              "    <tr>\n",
              "      <th>6874</th>\n",
              "      <td>Sr. UI Developer</td>\n",
              "      <td>Petuum, Inc</td>\n",
              "      <td>ABOUT THE ROLEPetuum is seeking experienced UI...</td>\n",
              "      <td>0</td>\n",
              "      <td>Sunnyvale, CA</td>\n",
              "    </tr>\n",
              "    <tr>\n",
              "      <th>6881</th>\n",
              "      <td>Senior Growth Analyst</td>\n",
              "      <td>Harnham</td>\n",
              "      <td>SENIOR GROWTH ANALYST\\n$95K + Stocks + Benefit...</td>\n",
              "      <td>0</td>\n",
              "      <td>Sunnyvale, CA</td>\n",
              "    </tr>\n",
              "    <tr>\n",
              "      <th>6884</th>\n",
              "      <td>Sr. Technical Program Manager</td>\n",
              "      <td>Lab126</td>\n",
              "      <td>Job Description\\n\\nAmazon Lab126 is an inventi...</td>\n",
              "      <td>0</td>\n",
              "      <td>Sunnyvale, CA</td>\n",
              "    </tr>\n",
              "    <tr>\n",
              "      <th>6902</th>\n",
              "      <td>Senior Front End Engineer</td>\n",
              "      <td>Petuum, Inc</td>\n",
              "      <td>About Petuum:Today’s Artificial Intelligence (...</td>\n",
              "      <td>0</td>\n",
              "      <td>Sunnyvale, CA</td>\n",
              "    </tr>\n",
              "    <tr>\n",
              "      <th>6917</th>\n",
              "      <td>Security Scientist</td>\n",
              "      <td>Baidu USA</td>\n",
              "      <td>Baidu USA, headquartered in Silicon Valley, is...</td>\n",
              "      <td>0</td>\n",
              "      <td>Sunnyvale, CA 94089</td>\n",
              "    </tr>\n",
              "    <tr>\n",
              "      <th>6919</th>\n",
              "      <td>Applied Scientist</td>\n",
              "      <td>Lab126</td>\n",
              "      <td>Job Description\\nAmazon Lab126 is an inventive...</td>\n",
              "      <td>0</td>\n",
              "      <td>Sunnyvale, CA</td>\n",
              "    </tr>\n",
              "    <tr>\n",
              "      <th>6920</th>\n",
              "      <td>Research Scientist - IDL (Robotics)</td>\n",
              "      <td>Baidu USA</td>\n",
              "      <td>The Baidu IDL Robotics group is developing sol...</td>\n",
              "      <td>0</td>\n",
              "      <td>Sunnyvale, CA 94089</td>\n",
              "    </tr>\n",
              "    <tr>\n",
              "      <th>6930</th>\n",
              "      <td>Data Scientist</td>\n",
              "      <td>Linc Global, Inc.</td>\n",
              "      <td>Why you should join:\\n\\nJoin us in building th...</td>\n",
              "      <td>0</td>\n",
              "      <td>Sunnyvale, CA</td>\n",
              "    </tr>\n",
              "    <tr>\n",
              "      <th>6931</th>\n",
              "      <td>Data Scientist - Alexa Language Technologies</td>\n",
              "      <td>Lab126</td>\n",
              "      <td>Job Description\\nAmazon Lab126 is an inventive...</td>\n",
              "      <td>0</td>\n",
              "      <td>Sunnyvale, CA</td>\n",
              "    </tr>\n",
              "    <tr>\n",
              "      <th>6937</th>\n",
              "      <td>Data Scientist / Data Analyst</td>\n",
              "      <td>Arosys</td>\n",
              "      <td>Are you a driven and inquisitive data scientis...</td>\n",
              "      <td>0</td>\n",
              "      <td>Sunnyvale, CA</td>\n",
              "    </tr>\n",
              "    <tr>\n",
              "      <th>6938</th>\n",
              "      <td>Data Scientist, Customer Interests &amp; Personali...</td>\n",
              "      <td>Lab126</td>\n",
              "      <td>Job Description\\nTo truly become the worlds mo...</td>\n",
              "      <td>0</td>\n",
              "      <td>Sunnyvale, CA</td>\n",
              "    </tr>\n",
              "    <tr>\n",
              "      <th>6952</th>\n",
              "      <td>Image processing Deep learning Research Scientist</td>\n",
              "      <td>Whiterabbit.ai</td>\n",
              "      <td>Whiterabbit.ai is a leading venture-backed sta...</td>\n",
              "      <td>0</td>\n",
              "      <td>Sunnyvale, CA 94085</td>\n",
              "    </tr>\n",
              "  </tbody>\n",
              "</table>\n",
              "<p>1627 rows × 5 columns</p>\n",
              "</div>"
            ],
            "text/plain": [
              "                                               position  ...             location\n",
              "0                                  Development Director  ...   Atlanta, GA 30301 \n",
              "1     An Ostentatiously-Excitable Principal Research...  ...          Atlanta, GA\n",
              "2                                        Data Scientist  ...          Atlanta, GA\n",
              "18                                       Data Scientist  ...          Atlanta, GA\n",
              "19                                       Data Scientist  ...          Atlanta, GA\n",
              "25                                       Data Scientist  ...          Atlanta, GA\n",
              "26                 Data Scientist 1 – AP Forensics Team  ...          Atlanta, GA\n",
              "38                                       Data Scientist  ...          Atlanta, GA\n",
              "48                        Chief Deep Learning Scientist  ...          Atlanta, GA\n",
              "53                                  Statistical Analyst  ...          Atlanta, GA\n",
              "54                                   VP, Data Analytics  ...          Atlanta, GA\n",
              "55                              Lead Decision Scientist  ...   Atlanta, GA 30313 \n",
              "65                                   Research Scientist  ...          Atlanta, GA\n",
              "84                                   Research Scientist  ...          Atlanta, GA\n",
              "106   Staff Research Scientist VII: Informational In...  ...          Atlanta, GA\n",
              "114                             Jr Microbiologist - CDC  ...          Atlanta, GA\n",
              "122               Mid Data Scientist - Machine Learning  ...   Atlanta, GA 30342 \n",
              "139   Principal Research Scientist I: Informational ...  ...          Atlanta, GA\n",
              "140                             Market Research Analyst  ...          Atlanta, GA\n",
              "151                        Senior Scientist, Immunology  ...          Atlanta, GA\n",
              "153          A Vigorously-Charged Scientific Programmer  ...          Atlanta, GA\n",
              "154                                   Software Engineer  ...          Atlanta, GA\n",
              "156                                Director of Software  ...   Atlanta, GA 30332 \n",
              "157       Certifying Scientist / Quantitation Scientist  ...          Atlanta, GA\n",
              "161                                      Data Scientist  ...   Atlanta, GA 30326 \n",
              "164   Windows Programmer / Software Engineer - Inter...  ...          Atlanta, GA\n",
              "170   Windows Programmer / Software Engineer - Entry...  ...          Atlanta, GA\n",
              "192   Various Professional, Technical, Administrativ...  ...          Atlanta, GA\n",
              "196     Business Development Manager (Southeast Region)  ...          Atlanta, GA\n",
              "199   Implementation Engineer (Machine Learning/Data...  ...   Atlanta, GA 30326 \n",
              "...                                                 ...  ...                  ...\n",
              "6789                                     Head of Design  ...  Sunnyvale, CA 94085\n",
              "6791                 Forward Deployed Solution Engineer  ...        Sunnyvale, CA\n",
              "6795        Deep Learning Software Development Engineer  ...        Sunnyvale, CA\n",
              "6800                                 Knowledge Engineer  ...        Sunnyvale, CA\n",
              "6813  AI Research/Software Development Engineer, Ale...  ...        Sunnyvale, CA\n",
              "6815                         3D Tools Software Engineer  ...  Sunnyvale, CA 94089\n",
              "6816       Software Engineer - Tools and Infrastructure  ...        Sunnyvale, CA\n",
              "6817  23103 Principal Data Scientist - HealthTech / ...  ...        Sunnyvale, CA\n",
              "6822                                      Manager, TPMs  ...        Sunnyvale, CA\n",
              "6824                               QA Software Engineer  ...        Sunnyvale, CA\n",
              "6825                                Sr Speech Scientist  ...        Sunnyvale, CA\n",
              "6827                      Software Development Engineer  ...        Sunnyvale, CA\n",
              "6829                                  Software Engineer  ...        Sunnyvale, CA\n",
              "6841                      Sr. Machine Learning Engineer  ...        Sunnyvale, CA\n",
              "6846                        Sr. Hardware Audio Engineer  ...        Sunnyvale, CA\n",
              "6848                       Materials (Quality) Engineer  ...  Sunnyvale, CA 94086\n",
              "6856  Senior Data Scientist, Algorithms and Machine ...  ...        Sunnyvale, CA\n",
              "6868                    Senior Research Engineer, Alexa  ...        Sunnyvale, CA\n",
              "6874                                   Sr. UI Developer  ...        Sunnyvale, CA\n",
              "6881                              Senior Growth Analyst  ...        Sunnyvale, CA\n",
              "6884                      Sr. Technical Program Manager  ...        Sunnyvale, CA\n",
              "6902                          Senior Front End Engineer  ...        Sunnyvale, CA\n",
              "6917                                 Security Scientist  ...  Sunnyvale, CA 94089\n",
              "6919                                  Applied Scientist  ...        Sunnyvale, CA\n",
              "6920                Research Scientist - IDL (Robotics)  ...  Sunnyvale, CA 94089\n",
              "6930                                     Data Scientist  ...        Sunnyvale, CA\n",
              "6931       Data Scientist - Alexa Language Technologies  ...        Sunnyvale, CA\n",
              "6937                      Data Scientist / Data Analyst  ...        Sunnyvale, CA\n",
              "6938  Data Scientist, Customer Interests & Personali...  ...        Sunnyvale, CA\n",
              "6952  Image processing Deep learning Research Scientist  ...  Sunnyvale, CA 94085\n",
              "\n",
              "[1627 rows x 5 columns]"
            ]
          },
          "metadata": {
            "tags": []
          },
          "execution_count": 227
        }
      ]
    },
    {
      "cell_type": "markdown",
      "metadata": {
        "id": "uPKn9ueWKhoi",
        "colab_type": "text"
      },
      "source": [
        "# ***Adding new columns - ***"
      ]
    },
    {
      "cell_type": "code",
      "metadata": {
        "id": "Q8s1aM_Mtguf",
        "colab_type": "code",
        "outputId": "0954d33e-8356-484c-b553-a7adce7fd18f",
        "colab": {
          "base_uri": "https://localhost:8080/",
          "height": 204
        }
      },
      "source": [
        "# Adding new column \"City\"\n",
        "a=[]\n",
        "for i in dataset[\"location\"]:\n",
        "    b=i.split(\",\")[0]\n",
        "    a.append(b)\n",
        "dataset[\"City\"]=a    \n",
        "dataset.tail()"
      ],
      "execution_count": 0,
      "outputs": [
        {
          "output_type": "execute_result",
          "data": {
            "text/html": [
              "<div>\n",
              "<style scoped>\n",
              "    .dataframe tbody tr th:only-of-type {\n",
              "        vertical-align: middle;\n",
              "    }\n",
              "\n",
              "    .dataframe tbody tr th {\n",
              "        vertical-align: top;\n",
              "    }\n",
              "\n",
              "    .dataframe thead th {\n",
              "        text-align: right;\n",
              "    }\n",
              "</style>\n",
              "<table border=\"1\" class=\"dataframe\">\n",
              "  <thead>\n",
              "    <tr style=\"text-align: right;\">\n",
              "      <th></th>\n",
              "      <th>position</th>\n",
              "      <th>company</th>\n",
              "      <th>description</th>\n",
              "      <th>reviews</th>\n",
              "      <th>location</th>\n",
              "      <th>City</th>\n",
              "    </tr>\n",
              "  </thead>\n",
              "  <tbody>\n",
              "    <tr>\n",
              "      <th>6959</th>\n",
              "      <td>Data Developer / Machine Learning Analyst</td>\n",
              "      <td>NetApp</td>\n",
              "      <td>Are you data-driven? We at NetApp believe in t...</td>\n",
              "      <td>574</td>\n",
              "      <td>Sunnyvale, CA</td>\n",
              "      <td>Sunnyvale</td>\n",
              "    </tr>\n",
              "    <tr>\n",
              "      <th>6960</th>\n",
              "      <td>Scientist I</td>\n",
              "      <td>Pharmacyclics, an Abbvie Company</td>\n",
              "      <td>Pharmacyclics is committed to the development ...</td>\n",
              "      <td>26</td>\n",
              "      <td>Sunnyvale, CA</td>\n",
              "      <td>Sunnyvale</td>\n",
              "    </tr>\n",
              "    <tr>\n",
              "      <th>6961</th>\n",
              "      <td>Intern Scientist</td>\n",
              "      <td>Oath Inc</td>\n",
              "      <td>Oath, a subsidiary of Verizon, is a values-led...</td>\n",
              "      <td>5</td>\n",
              "      <td>Sunnyvale, CA</td>\n",
              "      <td>Sunnyvale</td>\n",
              "    </tr>\n",
              "    <tr>\n",
              "      <th>6962</th>\n",
              "      <td>Senior Data &amp; Applied Scientist</td>\n",
              "      <td>Microsoft</td>\n",
              "      <td>We are the Bing Core Relevance team responsibl...</td>\n",
              "      <td>4618</td>\n",
              "      <td>Sunnyvale, CA</td>\n",
              "      <td>Sunnyvale</td>\n",
              "    </tr>\n",
              "    <tr>\n",
              "      <th>6963</th>\n",
              "      <td>Principal Data Scientist, Deep Learning</td>\n",
              "      <td>Comcast</td>\n",
              "      <td>Comcast’s Technology &amp;amp; Product organizatio...</td>\n",
              "      <td>11610</td>\n",
              "      <td>Sunnyvale, CA 94089</td>\n",
              "      <td>Sunnyvale</td>\n",
              "    </tr>\n",
              "  </tbody>\n",
              "</table>\n",
              "</div>"
            ],
            "text/plain": [
              "                                       position  ...       City\n",
              "6959  Data Developer / Machine Learning Analyst  ...  Sunnyvale\n",
              "6960                                Scientist I  ...  Sunnyvale\n",
              "6961                           Intern Scientist  ...  Sunnyvale\n",
              "6962            Senior Data & Applied Scientist  ...  Sunnyvale\n",
              "6963    Principal Data Scientist, Deep Learning  ...  Sunnyvale\n",
              "\n",
              "[5 rows x 6 columns]"
            ]
          },
          "metadata": {
            "tags": []
          },
          "execution_count": 228
        }
      ]
    },
    {
      "cell_type": "code",
      "metadata": {
        "id": "pse7Fvbm6oQC",
        "colab_type": "code",
        "outputId": "d5e3779b-443c-4c10-a01e-499e7b9c6f6a",
        "colab": {
          "base_uri": "https://localhost:8080/",
          "height": 1071
        }
      },
      "source": [
        "dataset[\"City\"].value_counts()"
      ],
      "execution_count": 0,
      "outputs": [
        {
          "output_type": "execute_result",
          "data": {
            "text/plain": [
              "New York                  848\n",
              "Seattle                   777\n",
              "Cambridge                 694\n",
              "Boston                    629\n",
              "San Francisco             564\n",
              "Chicago                   471\n",
              "San Diego                 412\n",
              "Washington                340\n",
              "Mountain View             277\n",
              "Atlanta                   269\n",
              "Sunnyvale                 256\n",
              "Los Angeles               254\n",
              "Boulder                   251\n",
              "Austin                    213\n",
              "Redmond                   158\n",
              "South San Francisco        73\n",
              "Redwood City               59\n",
              "Oakland                    35\n",
              "San Mateo                  30\n",
              "Manhattan                  30\n",
              "San Francisco Bay Area     26\n",
              "Berkeley                   19\n",
              "Emeryville                 19\n",
              "Jersey City                17\n",
              "San Carlos                 16\n",
              "Queens                     15\n",
              "Brooklyn                   14\n",
              "Foster City                14\n",
              "Menlo Park                 14\n",
              "Novato                     12\n",
              "                         ... \n",
              "West Orange                 1\n",
              "Cedar Park                  1\n",
              "Union City                  1\n",
              "Ridgefield                  1\n",
              "Kenilworth                  1\n",
              "Martinez                    1\n",
              "Yonkers                     1\n",
              "Bedminster                  1\n",
              "Kentfield                   1\n",
              "Secaucus                    1\n",
              "Roseland                    1\n",
              "Daly City                   1\n",
              "Whippany                    1\n",
              "New Brunswick               1\n",
              "Bloomfield                  1\n",
              "Woodcliff Lake              1\n",
              "Fort Lee                    1\n",
              "Manhasset                   1\n",
              "Fairfield                   1\n",
              "Florham Park                1\n",
              "Harrison                    1\n",
              "Port Washington             1\n",
              "Orangeburg                  1\n",
              "Little Falls                1\n",
              "Hackensack                  1\n",
              "Fremont                     1\n",
              "Short Hills                 1\n",
              "Lafayette                   1\n",
              "New Hyde Park               1\n",
              "Carlstadt                   1\n",
              "Name: City, Length: 91, dtype: int64"
            ]
          },
          "metadata": {
            "tags": []
          },
          "execution_count": 229
        }
      ]
    },
    {
      "cell_type": "markdown",
      "metadata": {
        "id": "DBvf7RjPS1WI",
        "colab_type": "text"
      },
      "source": [
        "***Note - ***\n",
        "\n",
        "\n",
        "1.   \"New York\" city has maximum job offers. \n",
        "\n"
      ]
    },
    {
      "cell_type": "code",
      "metadata": {
        "id": "31i_1b9NuPaT",
        "colab_type": "code",
        "outputId": "d4d98996-d57f-4224-c1a5-65ec587a2887",
        "colab": {
          "base_uri": "https://localhost:8080/",
          "height": 272
        }
      },
      "source": [
        "# Adding new column \"State\"\n",
        "aa=[]\n",
        "for ii in dataset[\"location\"]:\n",
        "    bb=ii.split(\",\")[1]\n",
        "    aa.append(bb)\n",
        "for ii in range(len(aa)):\n",
        "    bb=re.sub(r'[0-9]',\"\",aa[ii]).strip()\n",
        "    aa[ii]=bb  \n",
        "dataset[\"State\"]=aa\n",
        "dataset.tail()"
      ],
      "execution_count": 0,
      "outputs": [
        {
          "output_type": "execute_result",
          "data": {
            "text/html": [
              "<div>\n",
              "<style scoped>\n",
              "    .dataframe tbody tr th:only-of-type {\n",
              "        vertical-align: middle;\n",
              "    }\n",
              "\n",
              "    .dataframe tbody tr th {\n",
              "        vertical-align: top;\n",
              "    }\n",
              "\n",
              "    .dataframe thead th {\n",
              "        text-align: right;\n",
              "    }\n",
              "</style>\n",
              "<table border=\"1\" class=\"dataframe\">\n",
              "  <thead>\n",
              "    <tr style=\"text-align: right;\">\n",
              "      <th></th>\n",
              "      <th>position</th>\n",
              "      <th>company</th>\n",
              "      <th>description</th>\n",
              "      <th>reviews</th>\n",
              "      <th>location</th>\n",
              "      <th>City</th>\n",
              "      <th>State</th>\n",
              "    </tr>\n",
              "  </thead>\n",
              "  <tbody>\n",
              "    <tr>\n",
              "      <th>6959</th>\n",
              "      <td>Data Developer / Machine Learning Analyst</td>\n",
              "      <td>NetApp</td>\n",
              "      <td>Are you data-driven? We at NetApp believe in t...</td>\n",
              "      <td>574</td>\n",
              "      <td>Sunnyvale, CA</td>\n",
              "      <td>Sunnyvale</td>\n",
              "      <td>CA</td>\n",
              "    </tr>\n",
              "    <tr>\n",
              "      <th>6960</th>\n",
              "      <td>Scientist I</td>\n",
              "      <td>Pharmacyclics, an Abbvie Company</td>\n",
              "      <td>Pharmacyclics is committed to the development ...</td>\n",
              "      <td>26</td>\n",
              "      <td>Sunnyvale, CA</td>\n",
              "      <td>Sunnyvale</td>\n",
              "      <td>CA</td>\n",
              "    </tr>\n",
              "    <tr>\n",
              "      <th>6961</th>\n",
              "      <td>Intern Scientist</td>\n",
              "      <td>Oath Inc</td>\n",
              "      <td>Oath, a subsidiary of Verizon, is a values-led...</td>\n",
              "      <td>5</td>\n",
              "      <td>Sunnyvale, CA</td>\n",
              "      <td>Sunnyvale</td>\n",
              "      <td>CA</td>\n",
              "    </tr>\n",
              "    <tr>\n",
              "      <th>6962</th>\n",
              "      <td>Senior Data &amp; Applied Scientist</td>\n",
              "      <td>Microsoft</td>\n",
              "      <td>We are the Bing Core Relevance team responsibl...</td>\n",
              "      <td>4618</td>\n",
              "      <td>Sunnyvale, CA</td>\n",
              "      <td>Sunnyvale</td>\n",
              "      <td>CA</td>\n",
              "    </tr>\n",
              "    <tr>\n",
              "      <th>6963</th>\n",
              "      <td>Principal Data Scientist, Deep Learning</td>\n",
              "      <td>Comcast</td>\n",
              "      <td>Comcast’s Technology &amp;amp; Product organizatio...</td>\n",
              "      <td>11610</td>\n",
              "      <td>Sunnyvale, CA 94089</td>\n",
              "      <td>Sunnyvale</td>\n",
              "      <td>CA</td>\n",
              "    </tr>\n",
              "  </tbody>\n",
              "</table>\n",
              "</div>"
            ],
            "text/plain": [
              "                                       position  ... State\n",
              "6959  Data Developer / Machine Learning Analyst  ...    CA\n",
              "6960                                Scientist I  ...    CA\n",
              "6961                           Intern Scientist  ...    CA\n",
              "6962            Senior Data & Applied Scientist  ...    CA\n",
              "6963    Principal Data Scientist, Deep Learning  ...    CA\n",
              "\n",
              "[5 rows x 7 columns]"
            ]
          },
          "metadata": {
            "tags": []
          },
          "execution_count": 230
        }
      ]
    },
    {
      "cell_type": "code",
      "metadata": {
        "id": "DovmGf4Du1_l",
        "colab_type": "code",
        "outputId": "dc1c66f8-04fe-4dd0-8618-79f608b432f2",
        "colab": {
          "base_uri": "https://localhost:8080/",
          "height": 204
        }
      },
      "source": [
        "dataset[\"State\"].value_counts()"
      ],
      "execution_count": 0,
      "outputs": [
        {
          "output_type": "execute_result",
          "data": {
            "text/plain": [
              "CA    2152\n",
              "MA    1323\n",
              "WA     935\n",
              "NY     926\n",
              "IL     471\n",
              "DC     340\n",
              "GA     269\n",
              "CO     251\n",
              "TX     218\n",
              "NJ      68\n",
              "Name: State, dtype: int64"
            ]
          },
          "metadata": {
            "tags": []
          },
          "execution_count": 231
        }
      ]
    },
    {
      "cell_type": "markdown",
      "metadata": {
        "id": "LVORbMtITBu_",
        "colab_type": "text"
      },
      "source": [
        "***Note - ***\n",
        "\n",
        "\n",
        "1.   \"CA\" state has maximum job offers. \n",
        "\n"
      ]
    },
    {
      "cell_type": "code",
      "metadata": {
        "id": "8ul4ayYI8lhY",
        "colab_type": "code",
        "outputId": "1923026c-55b8-4879-c5e8-aabcc44dad79",
        "colab": {
          "base_uri": "https://localhost:8080/",
          "height": 289
        }
      },
      "source": [
        "# adding a new column \"Data Scientists\"\n",
        "aaa=[]\n",
        "for i in dataset[\"position\"]:\n",
        "    aaa.append((\"Data Scientist\" in i))\n",
        "dataset[\"Data Scientist\"]=aaa\n",
        "dataset.head()"
      ],
      "execution_count": 0,
      "outputs": [
        {
          "output_type": "execute_result",
          "data": {
            "text/html": [
              "<div>\n",
              "<style scoped>\n",
              "    .dataframe tbody tr th:only-of-type {\n",
              "        vertical-align: middle;\n",
              "    }\n",
              "\n",
              "    .dataframe tbody tr th {\n",
              "        vertical-align: top;\n",
              "    }\n",
              "\n",
              "    .dataframe thead th {\n",
              "        text-align: right;\n",
              "    }\n",
              "</style>\n",
              "<table border=\"1\" class=\"dataframe\">\n",
              "  <thead>\n",
              "    <tr style=\"text-align: right;\">\n",
              "      <th></th>\n",
              "      <th>position</th>\n",
              "      <th>company</th>\n",
              "      <th>description</th>\n",
              "      <th>reviews</th>\n",
              "      <th>location</th>\n",
              "      <th>City</th>\n",
              "      <th>State</th>\n",
              "      <th>Data Scientist</th>\n",
              "    </tr>\n",
              "  </thead>\n",
              "  <tbody>\n",
              "    <tr>\n",
              "      <th>0</th>\n",
              "      <td>Development Director</td>\n",
              "      <td>ALS TDI</td>\n",
              "      <td>Development Director\\nALS Therapy Development ...</td>\n",
              "      <td>0</td>\n",
              "      <td>Atlanta, GA 30301</td>\n",
              "      <td>Atlanta</td>\n",
              "      <td>GA</td>\n",
              "      <td>False</td>\n",
              "    </tr>\n",
              "    <tr>\n",
              "      <th>1</th>\n",
              "      <td>An Ostentatiously-Excitable Principal Research...</td>\n",
              "      <td>The Hexagon Lavish</td>\n",
              "      <td>Job Description\\n\\n\"The road that leads to acc...</td>\n",
              "      <td>0</td>\n",
              "      <td>Atlanta, GA</td>\n",
              "      <td>Atlanta</td>\n",
              "      <td>GA</td>\n",
              "      <td>False</td>\n",
              "    </tr>\n",
              "    <tr>\n",
              "      <th>2</th>\n",
              "      <td>Data Scientist</td>\n",
              "      <td>Xpert Staffing</td>\n",
              "      <td>Growing company located in the Atlanta, GA are...</td>\n",
              "      <td>0</td>\n",
              "      <td>Atlanta, GA</td>\n",
              "      <td>Atlanta</td>\n",
              "      <td>GA</td>\n",
              "      <td>True</td>\n",
              "    </tr>\n",
              "    <tr>\n",
              "      <th>3</th>\n",
              "      <td>Data Analyst</td>\n",
              "      <td>Operation HOPE</td>\n",
              "      <td>DEPARTMENT: Program OperationsPOSITION LOCATIO...</td>\n",
              "      <td>44</td>\n",
              "      <td>Atlanta, GA 30303</td>\n",
              "      <td>Atlanta</td>\n",
              "      <td>GA</td>\n",
              "      <td>False</td>\n",
              "    </tr>\n",
              "    <tr>\n",
              "      <th>4</th>\n",
              "      <td>Assistant Professor -TT - Signal Processing &amp; ...</td>\n",
              "      <td>Emory University</td>\n",
              "      <td>DESCRIPTION\\nThe Emory University Department o...</td>\n",
              "      <td>550</td>\n",
              "      <td>Atlanta, GA</td>\n",
              "      <td>Atlanta</td>\n",
              "      <td>GA</td>\n",
              "      <td>False</td>\n",
              "    </tr>\n",
              "  </tbody>\n",
              "</table>\n",
              "</div>"
            ],
            "text/plain": [
              "                                            position  ... Data Scientist\n",
              "0                               Development Director  ...          False\n",
              "1  An Ostentatiously-Excitable Principal Research...  ...          False\n",
              "2                                     Data Scientist  ...           True\n",
              "3                                       Data Analyst  ...          False\n",
              "4  Assistant Professor -TT - Signal Processing & ...  ...          False\n",
              "\n",
              "[5 rows x 8 columns]"
            ]
          },
          "metadata": {
            "tags": []
          },
          "execution_count": 232
        }
      ]
    },
    {
      "cell_type": "code",
      "metadata": {
        "id": "cub8goylKV7V",
        "colab_type": "code",
        "outputId": "0e849c7a-24e7-4261-92b5-9cc0be08d02c",
        "colab": {
          "base_uri": "https://localhost:8080/",
          "height": 68
        }
      },
      "source": [
        "dataset[\"Data Scientist\"].value_counts()"
      ],
      "execution_count": 0,
      "outputs": [
        {
          "output_type": "execute_result",
          "data": {
            "text/plain": [
              "False    5710\n",
              "True     1243\n",
              "Name: Data Scientist, dtype: int64"
            ]
          },
          "metadata": {
            "tags": []
          },
          "execution_count": 233
        }
      ]
    },
    {
      "cell_type": "code",
      "metadata": {
        "id": "7ISyn0OQ301V",
        "colab_type": "code",
        "outputId": "c2fdf552-3288-4852-a506-d0cda7e7384d",
        "colab": {
          "base_uri": "https://localhost:8080/",
          "height": 1127
        }
      },
      "source": [
        "dataset[(dataset['company']=='Amazon.com') & (dataset['Data Scientist']==True)]"
      ],
      "execution_count": 0,
      "outputs": [
        {
          "output_type": "execute_result",
          "data": {
            "text/html": [
              "<div>\n",
              "<style scoped>\n",
              "    .dataframe tbody tr th:only-of-type {\n",
              "        vertical-align: middle;\n",
              "    }\n",
              "\n",
              "    .dataframe tbody tr th {\n",
              "        vertical-align: top;\n",
              "    }\n",
              "\n",
              "    .dataframe thead th {\n",
              "        text-align: right;\n",
              "    }\n",
              "</style>\n",
              "<table border=\"1\" class=\"dataframe\">\n",
              "  <thead>\n",
              "    <tr style=\"text-align: right;\">\n",
              "      <th></th>\n",
              "      <th>position</th>\n",
              "      <th>company</th>\n",
              "      <th>description</th>\n",
              "      <th>reviews</th>\n",
              "      <th>location</th>\n",
              "      <th>City</th>\n",
              "      <th>State</th>\n",
              "      <th>Data Scientist</th>\n",
              "    </tr>\n",
              "  </thead>\n",
              "  <tbody>\n",
              "    <tr>\n",
              "      <th>1329</th>\n",
              "      <td>Data Scientist - Natural Language Processing</td>\n",
              "      <td>Amazon.com</td>\n",
              "      <td>Job Description\\nInterested in Amazon Echo? We...</td>\n",
              "      <td>25902</td>\n",
              "      <td>Boston, MA</td>\n",
              "      <td>Boston</td>\n",
              "      <td>MA</td>\n",
              "      <td>True</td>\n",
              "    </tr>\n",
              "    <tr>\n",
              "      <th>1336</th>\n",
              "      <td>Data Scientist</td>\n",
              "      <td>Amazon.com</td>\n",
              "      <td>Job Description\\nData Scientist is a role to b...</td>\n",
              "      <td>25902</td>\n",
              "      <td>Boston, MA</td>\n",
              "      <td>Boston</td>\n",
              "      <td>MA</td>\n",
              "      <td>True</td>\n",
              "    </tr>\n",
              "    <tr>\n",
              "      <th>1343</th>\n",
              "      <td>NLP Data Scientist</td>\n",
              "      <td>Amazon.com</td>\n",
              "      <td>Job Description\\nInterested in Amazon Echo? We...</td>\n",
              "      <td>25902</td>\n",
              "      <td>Boston, MA</td>\n",
              "      <td>Boston</td>\n",
              "      <td>MA</td>\n",
              "      <td>True</td>\n",
              "    </tr>\n",
              "    <tr>\n",
              "      <th>2503</th>\n",
              "      <td>Research Data Scientist</td>\n",
              "      <td>Amazon.com</td>\n",
              "      <td>Job Description\\nWe’re building the speech and...</td>\n",
              "      <td>25902</td>\n",
              "      <td>Cambridge, MA</td>\n",
              "      <td>Cambridge</td>\n",
              "      <td>MA</td>\n",
              "      <td>True</td>\n",
              "    </tr>\n",
              "    <tr>\n",
              "      <th>2515</th>\n",
              "      <td>Research Data Scientist- Alexa ML</td>\n",
              "      <td>Amazon.com</td>\n",
              "      <td>Job Description\\nInterested in Amazon Echo? We...</td>\n",
              "      <td>25902</td>\n",
              "      <td>Cambridge, MA</td>\n",
              "      <td>Cambridge</td>\n",
              "      <td>MA</td>\n",
              "      <td>True</td>\n",
              "    </tr>\n",
              "    <tr>\n",
              "      <th>3555</th>\n",
              "      <td>Sr Data Scientist</td>\n",
              "      <td>Amazon.com</td>\n",
              "      <td>Job Description\\nSenior Data Scientist – Measu...</td>\n",
              "      <td>25883</td>\n",
              "      <td>New York, NY</td>\n",
              "      <td>New York</td>\n",
              "      <td>NY</td>\n",
              "      <td>True</td>\n",
              "    </tr>\n",
              "    <tr>\n",
              "      <th>4388</th>\n",
              "      <td>Data Scientist</td>\n",
              "      <td>Amazon.com</td>\n",
              "      <td>Job Description\\nAt Amazon we continually look...</td>\n",
              "      <td>25883</td>\n",
              "      <td>New York, NY</td>\n",
              "      <td>New York</td>\n",
              "      <td>NY</td>\n",
              "      <td>True</td>\n",
              "    </tr>\n",
              "    <tr>\n",
              "      <th>4978</th>\n",
              "      <td>Data Scientist, Fire TV Product Management</td>\n",
              "      <td>Amazon.com</td>\n",
              "      <td>Job Description\\nFire TV is the #1 best-sellin...</td>\n",
              "      <td>25895</td>\n",
              "      <td>Seattle, WA</td>\n",
              "      <td>Seattle</td>\n",
              "      <td>WA</td>\n",
              "      <td>True</td>\n",
              "    </tr>\n",
              "    <tr>\n",
              "      <th>4979</th>\n",
              "      <td>Data Scientist, Alexa Shopping NLU</td>\n",
              "      <td>Amazon.com</td>\n",
              "      <td>Job Description\\nAt Alexa Shopping, we strive ...</td>\n",
              "      <td>25895</td>\n",
              "      <td>Seattle, WA</td>\n",
              "      <td>Seattle</td>\n",
              "      <td>WA</td>\n",
              "      <td>True</td>\n",
              "    </tr>\n",
              "    <tr>\n",
              "      <th>4980</th>\n",
              "      <td>Data Scientist, Private Label Apparel</td>\n",
              "      <td>Amazon.com</td>\n",
              "      <td>Job Description\\nThe Amazon Fashion Team is de...</td>\n",
              "      <td>25895</td>\n",
              "      <td>Seattle, WA</td>\n",
              "      <td>Seattle</td>\n",
              "      <td>WA</td>\n",
              "      <td>True</td>\n",
              "    </tr>\n",
              "    <tr>\n",
              "      <th>5009</th>\n",
              "      <td>Data Scientist - Delphi</td>\n",
              "      <td>Amazon.com</td>\n",
              "      <td>Job Description\\nThe Amazon Demand Forecasting...</td>\n",
              "      <td>25895</td>\n",
              "      <td>Seattle, WA</td>\n",
              "      <td>Seattle</td>\n",
              "      <td>WA</td>\n",
              "      <td>True</td>\n",
              "    </tr>\n",
              "    <tr>\n",
              "      <th>5012</th>\n",
              "      <td>Data Scientist</td>\n",
              "      <td>Amazon.com</td>\n",
              "      <td>Job Description\\nJoin a high impact innovative...</td>\n",
              "      <td>25895</td>\n",
              "      <td>Seattle, WA</td>\n",
              "      <td>Seattle</td>\n",
              "      <td>WA</td>\n",
              "      <td>True</td>\n",
              "    </tr>\n",
              "    <tr>\n",
              "      <th>5022</th>\n",
              "      <td>Data Scientist, FBA fees</td>\n",
              "      <td>Amazon.com</td>\n",
              "      <td>Job Description\\nFulfillment by Amazon (FBA) l...</td>\n",
              "      <td>25895</td>\n",
              "      <td>Seattle, WA</td>\n",
              "      <td>Seattle</td>\n",
              "      <td>WA</td>\n",
              "      <td>True</td>\n",
              "    </tr>\n",
              "    <tr>\n",
              "      <th>5023</th>\n",
              "      <td>Data Scientist - Risk Mining</td>\n",
              "      <td>Amazon.com</td>\n",
              "      <td>Job Description\\nHave you ever thought about w...</td>\n",
              "      <td>25895</td>\n",
              "      <td>Seattle, WA</td>\n",
              "      <td>Seattle</td>\n",
              "      <td>WA</td>\n",
              "      <td>True</td>\n",
              "    </tr>\n",
              "    <tr>\n",
              "      <th>5025</th>\n",
              "      <td>Data Scientist II - Payment Products</td>\n",
              "      <td>Amazon.com</td>\n",
              "      <td>Job Description\\nThe Amazon Payments Team mana...</td>\n",
              "      <td>25895</td>\n",
              "      <td>Seattle, WA</td>\n",
              "      <td>Seattle</td>\n",
              "      <td>WA</td>\n",
              "      <td>True</td>\n",
              "    </tr>\n",
              "    <tr>\n",
              "      <th>5041</th>\n",
              "      <td>Data Scientist, Natural Language Processing (N...</td>\n",
              "      <td>Amazon.com</td>\n",
              "      <td>Job Description\\nData Scientist, Natural Langu...</td>\n",
              "      <td>25895</td>\n",
              "      <td>Seattle, WA</td>\n",
              "      <td>Seattle</td>\n",
              "      <td>WA</td>\n",
              "      <td>True</td>\n",
              "    </tr>\n",
              "    <tr>\n",
              "      <th>5043</th>\n",
              "      <td>Data Scientist - Amazon Business International</td>\n",
              "      <td>Amazon.com</td>\n",
              "      <td>Job Description\\nAre you seeking an environmen...</td>\n",
              "      <td>25895</td>\n",
              "      <td>Seattle, WA</td>\n",
              "      <td>Seattle</td>\n",
              "      <td>WA</td>\n",
              "      <td>True</td>\n",
              "    </tr>\n",
              "    <tr>\n",
              "      <th>5045</th>\n",
              "      <td>Sr. Data Scientist - Data Visualization Specia...</td>\n",
              "      <td>Amazon.com</td>\n",
              "      <td>Job Description\\nAmazon is looking for a Sr. D...</td>\n",
              "      <td>25895</td>\n",
              "      <td>Seattle, WA</td>\n",
              "      <td>Seattle</td>\n",
              "      <td>WA</td>\n",
              "      <td>True</td>\n",
              "    </tr>\n",
              "    <tr>\n",
              "      <th>5051</th>\n",
              "      <td>Senior Data Scientist</td>\n",
              "      <td>Amazon.com</td>\n",
              "      <td>Job Description\\nThe Amazon Payments Team mana...</td>\n",
              "      <td>25895</td>\n",
              "      <td>Seattle, WA</td>\n",
              "      <td>Seattle</td>\n",
              "      <td>WA</td>\n",
              "      <td>True</td>\n",
              "    </tr>\n",
              "    <tr>\n",
              "      <th>5052</th>\n",
              "      <td>Data Scientist- Device Analytics Research Econ...</td>\n",
              "      <td>Amazon.com</td>\n",
              "      <td>Job Description\\nOur analytics, research, and ...</td>\n",
              "      <td>25895</td>\n",
              "      <td>Seattle, WA</td>\n",
              "      <td>Seattle</td>\n",
              "      <td>WA</td>\n",
              "      <td>True</td>\n",
              "    </tr>\n",
              "    <tr>\n",
              "      <th>5069</th>\n",
              "      <td>Senior Data Scientist, Alexa AI</td>\n",
              "      <td>Amazon.com</td>\n",
              "      <td>Job Description\\nAlexa is the groundbreaking c...</td>\n",
              "      <td>25895</td>\n",
              "      <td>Seattle, WA</td>\n",
              "      <td>Seattle</td>\n",
              "      <td>WA</td>\n",
              "      <td>True</td>\n",
              "    </tr>\n",
              "    <tr>\n",
              "      <th>5092</th>\n",
              "      <td>Sr. Data Scientist - Machine Learning</td>\n",
              "      <td>Amazon.com</td>\n",
              "      <td>Job Description\\nAre you interested in buildin...</td>\n",
              "      <td>25895</td>\n",
              "      <td>Seattle, WA</td>\n",
              "      <td>Seattle</td>\n",
              "      <td>WA</td>\n",
              "      <td>True</td>\n",
              "    </tr>\n",
              "    <tr>\n",
              "      <th>5096</th>\n",
              "      <td>Principal Data Scientist - Prime Video Persona...</td>\n",
              "      <td>Amazon.com</td>\n",
              "      <td>Job Description\\nPrincipal Data Scientist – Pr...</td>\n",
              "      <td>25895</td>\n",
              "      <td>Seattle, WA</td>\n",
              "      <td>Seattle</td>\n",
              "      <td>WA</td>\n",
              "      <td>True</td>\n",
              "    </tr>\n",
              "    <tr>\n",
              "      <th>6704</th>\n",
              "      <td>Senior Data Scientist</td>\n",
              "      <td>Amazon.com</td>\n",
              "      <td>Job Description\\nAmazon Music\\n\\nImagine being...</td>\n",
              "      <td>25895</td>\n",
              "      <td>San Francisco, CA</td>\n",
              "      <td>San Francisco</td>\n",
              "      <td>CA</td>\n",
              "      <td>True</td>\n",
              "    </tr>\n",
              "    <tr>\n",
              "      <th>6936</th>\n",
              "      <td>Data Scientist - Alexa Language Technologies</td>\n",
              "      <td>Amazon.com</td>\n",
              "      <td>Job Description\\nAmazon Lab126 is an inventive...</td>\n",
              "      <td>25907</td>\n",
              "      <td>Sunnyvale, CA</td>\n",
              "      <td>Sunnyvale</td>\n",
              "      <td>CA</td>\n",
              "      <td>True</td>\n",
              "    </tr>\n",
              "    <tr>\n",
              "      <th>6939</th>\n",
              "      <td>Data Scientist, Customer Interests &amp; Personali...</td>\n",
              "      <td>Amazon.com</td>\n",
              "      <td>Job Description\\nTo truly become the worlds mo...</td>\n",
              "      <td>25907</td>\n",
              "      <td>Sunnyvale, CA</td>\n",
              "      <td>Sunnyvale</td>\n",
              "      <td>CA</td>\n",
              "      <td>True</td>\n",
              "    </tr>\n",
              "  </tbody>\n",
              "</table>\n",
              "</div>"
            ],
            "text/plain": [
              "                                               position  ... Data Scientist\n",
              "1329       Data Scientist - Natural Language Processing  ...           True\n",
              "1336                                     Data Scientist  ...           True\n",
              "1343                                 NLP Data Scientist  ...           True\n",
              "2503                            Research Data Scientist  ...           True\n",
              "2515                  Research Data Scientist- Alexa ML  ...           True\n",
              "3555                                  Sr Data Scientist  ...           True\n",
              "4388                                     Data Scientist  ...           True\n",
              "4978         Data Scientist, Fire TV Product Management  ...           True\n",
              "4979                 Data Scientist, Alexa Shopping NLU  ...           True\n",
              "4980              Data Scientist, Private Label Apparel  ...           True\n",
              "5009                            Data Scientist - Delphi  ...           True\n",
              "5012                                     Data Scientist  ...           True\n",
              "5022                           Data Scientist, FBA fees  ...           True\n",
              "5023                       Data Scientist - Risk Mining  ...           True\n",
              "5025               Data Scientist II - Payment Products  ...           True\n",
              "5041  Data Scientist, Natural Language Processing (N...  ...           True\n",
              "5043     Data Scientist - Amazon Business International  ...           True\n",
              "5045  Sr. Data Scientist - Data Visualization Specia...  ...           True\n",
              "5051                              Senior Data Scientist  ...           True\n",
              "5052  Data Scientist- Device Analytics Research Econ...  ...           True\n",
              "5069                    Senior Data Scientist, Alexa AI  ...           True\n",
              "5092              Sr. Data Scientist - Machine Learning  ...           True\n",
              "5096  Principal Data Scientist - Prime Video Persona...  ...           True\n",
              "6704                              Senior Data Scientist  ...           True\n",
              "6936       Data Scientist - Alexa Language Technologies  ...           True\n",
              "6939  Data Scientist, Customer Interests & Personali...  ...           True\n",
              "\n",
              "[26 rows x 8 columns]"
            ]
          },
          "metadata": {
            "tags": []
          },
          "execution_count": 234
        }
      ]
    },
    {
      "cell_type": "markdown",
      "metadata": {
        "id": "6JWZMGVROpvZ",
        "colab_type": "text"
      },
      "source": [
        "***Note - ***\n",
        "\n",
        "\n",
        "1.   \"Amazon.com\" company maximum goes at location \"Seattle, WA\" for offering \"Data Scientist\" job. \n",
        "\n"
      ]
    },
    {
      "cell_type": "markdown",
      "metadata": {
        "id": "v8IMiGMHLGSV",
        "colab_type": "text"
      },
      "source": [
        "***Analysis upto now - ***\n",
        "\n",
        "1.   Maximum job offers are of \"Data Scientist\" position. \n",
        "2.   \"Amazon.com\" company is providing maximum job oppurtunities.  \n",
        "3.   \"Amazon.com\" company maximum goes at location \"Seattle, WA\" for offering \"Data Scientist\" job.\n",
        "4.   Maximum offers are at the location \"Seattle, WA\". But the company with maximum reviews go at \"Sunnyvale,CA 94086\" location instead of going at location \"Seattle, WA\". This means that more talented persons are at \"Sunnyvale, CA 94086\" location. \n",
        "5.   \"New York\" city has maximum job offers. And \"Seattle\" city is offering second heighest job offers. \n",
        "6.   \"CA\" state has maximum job offers.\n"
      ]
    },
    {
      "cell_type": "markdown",
      "metadata": {
        "id": "oAv4FEEfceml",
        "colab_type": "text"
      },
      "source": [
        "# ***Encoding Categorical Data - ***"
      ]
    },
    {
      "cell_type": "code",
      "metadata": {
        "id": "C7iupBvgJu7u",
        "colab_type": "code",
        "outputId": "db4f1122-8b11-4b43-989a-8157629b7110",
        "colab": {
          "base_uri": "https://localhost:8080/",
          "height": 34
        }
      },
      "source": [
        "dataset.shape"
      ],
      "execution_count": 0,
      "outputs": [
        {
          "output_type": "execute_result",
          "data": {
            "text/plain": [
              "(6953, 8)"
            ]
          },
          "metadata": {
            "tags": []
          },
          "execution_count": 164
        }
      ]
    },
    {
      "cell_type": "code",
      "metadata": {
        "id": "s96UGuZSGYiP",
        "colab_type": "code",
        "outputId": "1afe0f71-ed8d-452d-e898-91675c2e50da",
        "colab": {
          "base_uri": "https://localhost:8080/",
          "height": 170
        }
      },
      "source": [
        "X=dataset\n",
        "print(X.head())\n",
        "print(X.shape)"
      ],
      "execution_count": 0,
      "outputs": [
        {
          "output_type": "stream",
          "text": [
            "                                            position  ... Data Scientist\n",
            "0                               Development Director  ...          False\n",
            "1  An Ostentatiously-Excitable Principal Research...  ...          False\n",
            "2                                     Data Scientist  ...           True\n",
            "3                                       Data Analyst  ...          False\n",
            "4  Assistant Professor -TT - Signal Processing & ...  ...          False\n",
            "\n",
            "[5 rows x 8 columns]\n",
            "(6953, 8)\n"
          ],
          "name": "stdout"
        }
      ]
    },
    {
      "cell_type": "code",
      "metadata": {
        "id": "KQKI1LAjLTtK",
        "colab_type": "code",
        "outputId": "d431e6c0-417b-4afd-eb48-8789d7abe097",
        "colab": {
          "base_uri": "https://localhost:8080/",
          "height": 68
        }
      },
      "source": [
        "X.columns"
      ],
      "execution_count": 0,
      "outputs": [
        {
          "output_type": "execute_result",
          "data": {
            "text/plain": [
              "Index(['position', 'company', 'description', 'reviews', 'location', 'City',\n",
              "       'State', 'Data Scientist'],\n",
              "      dtype='object')"
            ]
          },
          "metadata": {
            "tags": []
          },
          "execution_count": 166
        }
      ]
    },
    {
      "cell_type": "code",
      "metadata": {
        "id": "2Z8XravtIiPy",
        "colab_type": "code",
        "outputId": "d29d04b4-08f7-4d75-e151-0ecc07cd1a82",
        "colab": {
          "base_uri": "https://localhost:8080/",
          "height": 34
        }
      },
      "source": [
        "X=X.drop(labels=['position','description','City','State','Data Scientist'],axis=1)\n",
        "X.columns"
      ],
      "execution_count": 0,
      "outputs": [
        {
          "output_type": "execute_result",
          "data": {
            "text/plain": [
              "Index(['company', 'reviews', 'location'], dtype='object')"
            ]
          },
          "metadata": {
            "tags": []
          },
          "execution_count": 167
        }
      ]
    },
    {
      "cell_type": "code",
      "metadata": {
        "id": "80H-PlXOLxSK",
        "colab_type": "code",
        "outputId": "4001d1a4-fcdc-434b-9992-1c509870b7b1",
        "colab": {
          "base_uri": "https://localhost:8080/",
          "height": 119
        }
      },
      "source": [
        "print(X.head())"
      ],
      "execution_count": 0,
      "outputs": [
        {
          "output_type": "stream",
          "text": [
            "              company  reviews            location\n",
            "0             ALS TDI        0  Atlanta, GA 30301 \n",
            "1  The Hexagon Lavish        0         Atlanta, GA\n",
            "2      Xpert Staffing        0         Atlanta, GA\n",
            "3      Operation HOPE       44  Atlanta, GA 30303 \n",
            "4    Emory University      550         Atlanta, GA\n"
          ],
          "name": "stdout"
        }
      ]
    },
    {
      "cell_type": "code",
      "metadata": {
        "id": "plOD6DVvMKQ1",
        "colab_type": "code",
        "outputId": "cf273c53-9566-47e2-c33b-a5a7b04fc399",
        "colab": {
          "base_uri": "https://localhost:8080/",
          "height": 170
        }
      },
      "source": [
        "Y=dataset\n",
        "print(Y.head())\n",
        "print(Y.shape)"
      ],
      "execution_count": 0,
      "outputs": [
        {
          "output_type": "stream",
          "text": [
            "                                            position  ... Data Scientist\n",
            "0                               Development Director  ...          False\n",
            "1  An Ostentatiously-Excitable Principal Research...  ...          False\n",
            "2                                     Data Scientist  ...           True\n",
            "3                                       Data Analyst  ...          False\n",
            "4  Assistant Professor -TT - Signal Processing & ...  ...          False\n",
            "\n",
            "[5 rows x 8 columns]\n",
            "(6953, 8)\n"
          ],
          "name": "stdout"
        }
      ]
    },
    {
      "cell_type": "code",
      "metadata": {
        "id": "Eg19anRVPlsB",
        "colab_type": "code",
        "outputId": "0efbfa81-3af1-4711-8b35-a6cc4edec196",
        "colab": {
          "base_uri": "https://localhost:8080/",
          "height": 68
        }
      },
      "source": [
        "print(Y.columns)"
      ],
      "execution_count": 0,
      "outputs": [
        {
          "output_type": "stream",
          "text": [
            "Index(['position', 'company', 'description', 'reviews', 'location', 'City',\n",
            "       'State', 'Data Scientist'],\n",
            "      dtype='object')\n"
          ],
          "name": "stdout"
        }
      ]
    },
    {
      "cell_type": "code",
      "metadata": {
        "id": "pca9Y8oyPLIT",
        "colab_type": "code",
        "outputId": "654e9d54-2081-4b29-925d-dbf7b179d6b9",
        "colab": {
          "base_uri": "https://localhost:8080/",
          "height": 153
        }
      },
      "source": [
        "Y=Y.drop(labels=['position', 'company', 'description', 'reviews', 'location', 'City','State'],axis=1)\n",
        "print(Y.head())\n",
        "print(Y.shape)\n",
        "print(Y.columns)"
      ],
      "execution_count": 0,
      "outputs": [
        {
          "output_type": "stream",
          "text": [
            "   Data Scientist\n",
            "0           False\n",
            "1           False\n",
            "2            True\n",
            "3           False\n",
            "4           False\n",
            "(6953, 1)\n",
            "Index(['Data Scientist'], dtype='object')\n"
          ],
          "name": "stdout"
        }
      ]
    },
    {
      "cell_type": "code",
      "metadata": {
        "id": "2f1DuIkL56QO",
        "colab_type": "code",
        "outputId": "f323afb7-52ef-482a-90b4-6c00b410ed25",
        "colab": {
          "base_uri": "https://localhost:8080/",
          "height": 51
        }
      },
      "source": [
        "print(X.columns)\n",
        "print(Y.columns)"
      ],
      "execution_count": 0,
      "outputs": [
        {
          "output_type": "stream",
          "text": [
            "Index(['company', 'reviews', 'location'], dtype='object')\n",
            "Index(['Data Scientist'], dtype='object')\n"
          ],
          "name": "stdout"
        }
      ]
    },
    {
      "cell_type": "code",
      "metadata": {
        "id": "2kOPEq-z5sJb",
        "colab_type": "code",
        "outputId": "5891dbc9-9d2d-40fe-b4cb-3cde7ce80dfb",
        "colab": {
          "base_uri": "https://localhost:8080/",
          "height": 1105
        }
      },
      "source": [
        "# Applying labelencoder on X\n",
        "labelencoder_X=LabelEncoder() \n",
        "X.iloc[:,0]=labelencoder_X.fit_transform(X.iloc[:,0])\n",
        "X.iloc[:,2]=labelencoder_X.fit_transform(X.iloc[:,2])\n",
        "print(X)"
      ],
      "execution_count": 0,
      "outputs": [
        {
          "output_type": "stream",
          "text": [
            "      company  reviews  location\n",
            "0          34        0         4\n",
            "1        1924        0         3\n",
            "2        2153        0         3\n",
            "3        1443       44         5\n",
            "4         687      550         3\n",
            "5        1248      385        10\n",
            "6        1248      385        10\n",
            "7        2137      899         3\n",
            "8        1838     3343         3\n",
            "9        1095     4494        18\n",
            "10       1925    38844         3\n",
            "11        429      390         3\n",
            "12       1095     4494        18\n",
            "13        687      550         3\n",
            "14       1377      912         3\n",
            "15        522      104         3\n",
            "16        330      152         8\n",
            "17       1501       44        18\n",
            "18       1625        0         3\n",
            "19       1028        0         3\n",
            "20        330      152         8\n",
            "21       1095     4494        18\n",
            "22       1396      722         8\n",
            "23       1925    38844         3\n",
            "24        713      447         3\n",
            "25         88        0         3\n",
            "26       1925        0         3\n",
            "27        847      496        10\n",
            "28       1925    38844         3\n",
            "29        376     5720         3\n",
            "...       ...      ...       ...\n",
            "6934      866     2474       343\n",
            "6935     1270     4618       343\n",
            "6936      122    25907       343\n",
            "6937      178        0       343\n",
            "6938     1136        0       343\n",
            "6939      122    25907       343\n",
            "6940     1270     4618       343\n",
            "6941      866     2474       343\n",
            "6942      122    25907       343\n",
            "6943     2101      141       343\n",
            "6944     2101      141       343\n",
            "6945      866     2474       343\n",
            "6946      122    25907       343\n",
            "6947      122    25907       343\n",
            "6948     1270     4618       343\n",
            "6949      107       15       343\n",
            "6950      122    25907       343\n",
            "6951     1858    33275       343\n",
            "6952     2120        0       344\n",
            "6953      122    25907       343\n",
            "6954      866     2474       343\n",
            "6955      122    25907       343\n",
            "6956      122    25907       343\n",
            "6957     1858    33275       343\n",
            "6958     2100   148114       345\n",
            "6959     1356      574       343\n",
            "6960     1512       26       343\n",
            "6961     1421        5       343\n",
            "6962     1270     4618       343\n",
            "6963      491    11610       346\n",
            "\n",
            "[6953 rows x 3 columns]\n"
          ],
          "name": "stdout"
        }
      ]
    },
    {
      "cell_type": "code",
      "metadata": {
        "id": "HCV5MdY_6g2a",
        "colab_type": "code",
        "outputId": "ccb65a13-964a-4576-bc76-338542c9918c",
        "colab": {
          "base_uri": "https://localhost:8080/",
          "height": 241
        }
      },
      "source": [
        "# Applying OneHotEncoder on X\n",
        "onehotencoder=OneHotEncoder(categorical_features=[0])\n",
        "X=onehotencoder.fit_transform(X).toarray()\n",
        "onehotencoder=OneHotEncoder(categorical_features=[2])\n",
        "X=onehotencoder.fit_transform(X).toarray()"
      ],
      "execution_count": 0,
      "outputs": [
        {
          "output_type": "stream",
          "text": [
            "/usr/local/lib/python3.6/dist-packages/sklearn/preprocessing/_encoders.py:415: FutureWarning: The handling of integer data will change in version 0.22. Currently, the categories are determined based on the range [0, max(values)], while in the future they will be determined based on the unique values.\n",
            "If you want the future behaviour and silence this warning, you can specify \"categories='auto'\".\n",
            "In case you used a LabelEncoder before this OneHotEncoder to convert the categories to integers, then you can now use the OneHotEncoder directly.\n",
            "  warnings.warn(msg, FutureWarning)\n",
            "/usr/local/lib/python3.6/dist-packages/sklearn/preprocessing/_encoders.py:451: DeprecationWarning: The 'categorical_features' keyword is deprecated in version 0.20 and will be removed in 0.22. You can use the ColumnTransformer instead.\n",
            "  \"use the ColumnTransformer instead.\", DeprecationWarning)\n",
            "/usr/local/lib/python3.6/dist-packages/sklearn/preprocessing/_encoders.py:415: FutureWarning: The handling of integer data will change in version 0.22. Currently, the categories are determined based on the range [0, max(values)], while in the future they will be determined based on the unique values.\n",
            "If you want the future behaviour and silence this warning, you can specify \"categories='auto'\".\n",
            "In case you used a LabelEncoder before this OneHotEncoder to convert the categories to integers, then you can now use the OneHotEncoder directly.\n",
            "  warnings.warn(msg, FutureWarning)\n",
            "/usr/local/lib/python3.6/dist-packages/sklearn/preprocessing/_encoders.py:451: DeprecationWarning: The 'categorical_features' keyword is deprecated in version 0.20 and will be removed in 0.22. You can use the ColumnTransformer instead.\n",
            "  \"use the ColumnTransformer instead.\", DeprecationWarning)\n"
          ],
          "name": "stderr"
        }
      ]
    },
    {
      "cell_type": "code",
      "metadata": {
        "id": "_B6Erjhe7Mlw",
        "colab_type": "code",
        "outputId": "dbff8751-248c-4a52-8d24-832d98371690",
        "colab": {
          "base_uri": "https://localhost:8080/",
          "height": 136
        }
      },
      "source": [
        "print(X)"
      ],
      "execution_count": 0,
      "outputs": [
        {
          "output_type": "stream",
          "text": [
            "[[1.000e+00 0.000e+00 0.000e+00 ... 0.000e+00 0.000e+00 4.000e+00]\n",
            " [1.000e+00 0.000e+00 0.000e+00 ... 0.000e+00 0.000e+00 3.000e+00]\n",
            " [1.000e+00 0.000e+00 0.000e+00 ... 0.000e+00 0.000e+00 3.000e+00]\n",
            " ...\n",
            " [1.000e+00 0.000e+00 0.000e+00 ... 0.000e+00 5.000e+00 3.430e+02]\n",
            " [1.000e+00 0.000e+00 0.000e+00 ... 0.000e+00 4.618e+03 3.430e+02]\n",
            " [1.000e+00 0.000e+00 0.000e+00 ... 0.000e+00 1.161e+04 3.460e+02]]\n"
          ],
          "name": "stdout"
        }
      ]
    },
    {
      "cell_type": "code",
      "metadata": {
        "id": "SjaNms037PpW",
        "colab_type": "code",
        "outputId": "73ce9c21-20cc-4c09-920d-c312e2ed493b",
        "colab": {
          "base_uri": "https://localhost:8080/",
          "height": 136
        }
      },
      "source": [
        "X=X.astype(int)\n",
        "print(X)"
      ],
      "execution_count": 0,
      "outputs": [
        {
          "output_type": "stream",
          "text": [
            "[[    1     0     0 ...     0     0     4]\n",
            " [    1     0     0 ...     0     0     3]\n",
            " [    1     0     0 ...     0     0     3]\n",
            " ...\n",
            " [    1     0     0 ...     0     5   343]\n",
            " [    1     0     0 ...     0  4618   343]\n",
            " [    1     0     0 ...     0 11610   346]]\n"
          ],
          "name": "stdout"
        }
      ]
    },
    {
      "cell_type": "code",
      "metadata": {
        "id": "wo-UbpOS9XXh",
        "colab_type": "code",
        "outputId": "3b797b0a-291e-4b03-8953-aa972c064ad0",
        "colab": {
          "base_uri": "https://localhost:8080/",
          "height": 1105
        }
      },
      "source": [
        "# Applying labelencoder on Y \n",
        "labelencoder_Y=LabelEncoder()\n",
        "Y.iloc[:,0]=labelencoder_Y.fit_transform(Y.iloc[:,0])\n",
        "print(Y)"
      ],
      "execution_count": 0,
      "outputs": [
        {
          "output_type": "stream",
          "text": [
            "      Data Scientist\n",
            "0                  0\n",
            "1                  0\n",
            "2                  1\n",
            "3                  0\n",
            "4                  0\n",
            "5                  0\n",
            "6                  0\n",
            "7                  0\n",
            "8                  0\n",
            "9                  1\n",
            "10                 0\n",
            "11                 0\n",
            "12                 1\n",
            "13                 0\n",
            "14                 0\n",
            "15                 1\n",
            "16                 0\n",
            "17                 0\n",
            "18                 1\n",
            "19                 1\n",
            "20                 0\n",
            "21                 0\n",
            "22                 1\n",
            "23                 0\n",
            "24                 1\n",
            "25                 1\n",
            "26                 1\n",
            "27                 1\n",
            "28                 1\n",
            "29                 1\n",
            "...              ...\n",
            "6934               1\n",
            "6935               0\n",
            "6936               1\n",
            "6937               1\n",
            "6938               1\n",
            "6939               1\n",
            "6940               1\n",
            "6941               1\n",
            "6942               0\n",
            "6943               1\n",
            "6944               1\n",
            "6945               0\n",
            "6946               0\n",
            "6947               0\n",
            "6948               0\n",
            "6949               1\n",
            "6950               0\n",
            "6951               1\n",
            "6952               0\n",
            "6953               0\n",
            "6954               0\n",
            "6955               0\n",
            "6956               0\n",
            "6957               1\n",
            "6958               1\n",
            "6959               0\n",
            "6960               0\n",
            "6961               0\n",
            "6962               0\n",
            "6963               1\n",
            "\n",
            "[6953 rows x 1 columns]\n"
          ],
          "name": "stdout"
        }
      ]
    },
    {
      "cell_type": "markdown",
      "metadata": {
        "id": "0--fy0Zd_mks",
        "colab_type": "text"
      },
      "source": [
        "# ***Splitting data into train and test data - ***"
      ]
    },
    {
      "cell_type": "code",
      "metadata": {
        "id": "seWA9MBC_0Pq",
        "colab_type": "code",
        "outputId": "89924f1f-3c21-48cf-a85f-785c943c57bb",
        "colab": {
          "base_uri": "https://localhost:8080/",
          "height": 2380
        }
      },
      "source": [
        "X_train,X_test,Y_train,Y_test=train_test_split(X,Y,test_size=0.25,random_state=0)\n",
        "print(X_train,X_test,Y_train,Y_test)"
      ],
      "execution_count": 0,
      "outputs": [
        {
          "output_type": "stream",
          "text": [
            "[[   1    0    0 ...    0  530   79]\n",
            " [   1    0    0 ...    0 6318  231]\n",
            " [   1    0    0 ...    0    4  290]\n",
            " ...\n",
            " [   1    0    0 ...    0  211  110]\n",
            " [   1    0    0 ...    0   15   79]\n",
            " [   1    0    0 ...    0  596   79]] [[   1    0    0 ...    0    5  343]\n",
            " [   1    0    0 ...    0 4214  290]\n",
            " [   1    0    0 ...    0 2473  317]\n",
            " ...\n",
            " [   1    0    0 ...    0    0   52]\n",
            " [   1    0    0 ...    0    0  135]\n",
            " [   1    0    0 ...    0    0   52]]       Data Scientist\n",
            "2612               0\n",
            "4323               1\n",
            "5948               0\n",
            "2276               0\n",
            "4175               1\n",
            "5340               0\n",
            "2071               0\n",
            "3992               0\n",
            "5815               1\n",
            "4431               0\n",
            "3955               0\n",
            "5732               0\n",
            "6416               0\n",
            "4636               0\n",
            "5084               0\n",
            "6599               0\n",
            "4223               0\n",
            "159                0\n",
            "5462               0\n",
            "2233               1\n",
            "3417               0\n",
            "6108               0\n",
            "192                0\n",
            "2847               0\n",
            "1910               0\n",
            "1251               0\n",
            "5678               0\n",
            "5316               0\n",
            "3796               0\n",
            "400                0\n",
            "...              ...\n",
            "2050               0\n",
            "4856               0\n",
            "5079               0\n",
            "2167               0\n",
            "6045               0\n",
            "6932               1\n",
            "6227               0\n",
            "2897               0\n",
            "541                0\n",
            "1705               0\n",
            "2901               0\n",
            "2226               0\n",
            "2139               0\n",
            "2603               0\n",
            "709                0\n",
            "6469               0\n",
            "3473               1\n",
            "6755               0\n",
            "6754               1\n",
            "5933               0\n",
            "5883               1\n",
            "4378               1\n",
            "1037               0\n",
            "5836               0\n",
            "4864               0\n",
            "4936               0\n",
            "3268               0\n",
            "1657               0\n",
            "2611               0\n",
            "2736               0\n",
            "\n",
            "[5214 rows x 1 columns]       Data Scientist\n",
            "6903               0\n",
            "6460               0\n",
            "5033               0\n",
            "3300               0\n",
            "775                0\n",
            "1038               0\n",
            "882                0\n",
            "6717               0\n",
            "2788               0\n",
            "6862               0\n",
            "3914               0\n",
            "1055               0\n",
            "4566               0\n",
            "2457               0\n",
            "4699               0\n",
            "2187               0\n",
            "6502               0\n",
            "3730               0\n",
            "1925               0\n",
            "396                0\n",
            "4335               1\n",
            "4058               1\n",
            "319                0\n",
            "2096               0\n",
            "4201               0\n",
            "4051               0\n",
            "1426               1\n",
            "3519               1\n",
            "1706               0\n",
            "3653               1\n",
            "...              ...\n",
            "708                0\n",
            "4590               0\n",
            "5694               0\n",
            "4203               0\n",
            "2314               0\n",
            "4364               1\n",
            "4801               0\n",
            "3834               0\n",
            "2557               0\n",
            "6913               0\n",
            "161                1\n",
            "6408               1\n",
            "1323               0\n",
            "3264               0\n",
            "1858               0\n",
            "6904               0\n",
            "5387               0\n",
            "1628               0\n",
            "3102               0\n",
            "3962               0\n",
            "4804               0\n",
            "5622               0\n",
            "6565               1\n",
            "5590               0\n",
            "4609               1\n",
            "1069               0\n",
            "1331               1\n",
            "856                0\n",
            "2221               0\n",
            "982                0\n",
            "\n",
            "[1739 rows x 1 columns]\n"
          ],
          "name": "stdout"
        }
      ]
    },
    {
      "cell_type": "markdown",
      "metadata": {
        "id": "Hr9q7HNLAO2K",
        "colab_type": "text"
      },
      "source": [
        "# ***Applying Logistic Regression - ***"
      ]
    },
    {
      "cell_type": "code",
      "metadata": {
        "id": "cXsFohRPAFBV",
        "colab_type": "code",
        "outputId": "94e7307e-1c9e-4a17-e27e-4dffc1022842",
        "colab": {
          "base_uri": "https://localhost:8080/",
          "height": 190
        }
      },
      "source": [
        "classifier=LogisticRegression()\n",
        "classifier.fit(X_train,Y_train)"
      ],
      "execution_count": 0,
      "outputs": [
        {
          "output_type": "stream",
          "text": [
            "/usr/local/lib/python3.6/dist-packages/sklearn/linear_model/logistic.py:432: FutureWarning: Default solver will be changed to 'lbfgs' in 0.22. Specify a solver to silence this warning.\n",
            "  FutureWarning)\n",
            "/usr/local/lib/python3.6/dist-packages/sklearn/utils/validation.py:724: DataConversionWarning: A column-vector y was passed when a 1d array was expected. Please change the shape of y to (n_samples, ), for example using ravel().\n",
            "  y = column_or_1d(y, warn=True)\n"
          ],
          "name": "stderr"
        },
        {
          "output_type": "execute_result",
          "data": {
            "text/plain": [
              "LogisticRegression(C=1.0, class_weight=None, dual=False, fit_intercept=True,\n",
              "                   intercept_scaling=1, l1_ratio=None, max_iter=100,\n",
              "                   multi_class='warn', n_jobs=None, penalty='l2',\n",
              "                   random_state=None, solver='warn', tol=0.0001, verbose=0,\n",
              "                   warm_start=False)"
            ]
          },
          "metadata": {
            "tags": []
          },
          "execution_count": 186
        }
      ]
    },
    {
      "cell_type": "code",
      "metadata": {
        "id": "gED3rJPzBh8s",
        "colab_type": "code",
        "colab": {}
      },
      "source": [
        "# Making Predictions \n",
        "Y_pred=classifier.predict(X_test)"
      ],
      "execution_count": 0,
      "outputs": []
    },
    {
      "cell_type": "markdown",
      "metadata": {
        "id": "aFHq_x-vApGg",
        "colab_type": "text"
      },
      "source": [
        "# ***Measuring Performance - ***"
      ]
    },
    {
      "cell_type": "markdown",
      "metadata": {
        "id": "zbuOKE66B_F7",
        "colab_type": "text"
      },
      "source": [
        "***1. Accuracy Score - ***"
      ]
    },
    {
      "cell_type": "code",
      "metadata": {
        "id": "-YI-j0C0CG2d",
        "colab_type": "code",
        "outputId": "e0ba5c9e-a5a9-42c3-bc13-1631043034aa",
        "colab": {
          "base_uri": "https://localhost:8080/",
          "height": 34
        }
      },
      "source": [
        "metrics.accuracy_score(Y_test,Y_pred)"
      ],
      "execution_count": 0,
      "outputs": [
        {
          "output_type": "execute_result",
          "data": {
            "text/plain": [
              "0.8096607245543416"
            ]
          },
          "metadata": {
            "tags": []
          },
          "execution_count": 193
        }
      ]
    },
    {
      "cell_type": "markdown",
      "metadata": {
        "id": "OAc6jZCkCS0h",
        "colab_type": "text"
      },
      "source": [
        "***2. Classification Report - ***"
      ]
    },
    {
      "cell_type": "code",
      "metadata": {
        "id": "dILLUDniC9Wj",
        "colab_type": "code",
        "outputId": "af457b8d-357a-4186-fb6c-26715c350eb6",
        "colab": {
          "base_uri": "https://localhost:8080/",
          "height": 170
        }
      },
      "source": [
        "print(metrics.classification_report(Y_test,Y_pred))"
      ],
      "execution_count": 0,
      "outputs": [
        {
          "output_type": "stream",
          "text": [
            "              precision    recall  f1-score   support\n",
            "\n",
            "           0       0.81      1.00      0.89      1406\n",
            "           1       0.67      0.01      0.02       333\n",
            "\n",
            "    accuracy                           0.81      1739\n",
            "   macro avg       0.74      0.51      0.46      1739\n",
            "weighted avg       0.78      0.81      0.73      1739\n",
            "\n"
          ],
          "name": "stdout"
        }
      ]
    }
  ]
}