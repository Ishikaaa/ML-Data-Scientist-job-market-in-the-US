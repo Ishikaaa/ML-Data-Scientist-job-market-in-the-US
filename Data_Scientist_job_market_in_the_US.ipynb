{
  "nbformat": 4,
  "nbformat_minor": 0,
  "metadata": {
    "colab": {
      "name": "Data_Scientist_job_market_in_the_US.ipynb",
      "version": "0.3.2",
      "provenance": [],
      "collapsed_sections": [],
      "include_colab_link": true
    },
    "kernelspec": {
      "name": "python3",
      "display_name": "Python 3"
    }
  },
  "cells": [
    {
      "cell_type": "markdown",
      "metadata": {
        "id": "view-in-github",
        "colab_type": "text"
      },
      "source": [
        "<a href=\"https://colab.research.google.com/github/Ishikaaa/ML-Data-Scientist-job-market-in-the-US/blob/master/Data_Scientist_job_market_in_the_US.ipynb\" target=\"_parent\"><img src=\"https://colab.research.google.com/assets/colab-badge.svg\" alt=\"Open In Colab\"/></a>"
      ]
    },
    {
      "cell_type": "markdown",
      "metadata": {
        "id": "h50pxSUvPS7T",
        "colab_type": "text"
      },
      "source": [
        "# ***1. Importing Libraries - ***"
      ]
    },
    {
      "cell_type": "code",
      "metadata": {
        "id": "ykYZvBjyNoi3",
        "colab_type": "code",
        "colab": {}
      },
      "source": [
        "import pandas as pd \n",
        "import numpy as np "
      ],
      "execution_count": 0,
      "outputs": []
    },
    {
      "cell_type": "code",
      "metadata": {
        "id": "f5Gb8s5lPeW4",
        "colab_type": "code",
        "colab": {
          "base_uri": "https://localhost:8080/",
          "height": 204
        },
        "outputId": "c4c3b36f-2472-43ce-c00d-178da5f741d5"
      },
      "source": [
        "dataset=pd.read_csv(\"alldata.csv\")\n",
        "dataset.head()"
      ],
      "execution_count": 48,
      "outputs": [
        {
          "output_type": "execute_result",
          "data": {
            "text/html": [
              "<div>\n",
              "<style scoped>\n",
              "    .dataframe tbody tr th:only-of-type {\n",
              "        vertical-align: middle;\n",
              "    }\n",
              "\n",
              "    .dataframe tbody tr th {\n",
              "        vertical-align: top;\n",
              "    }\n",
              "\n",
              "    .dataframe thead th {\n",
              "        text-align: right;\n",
              "    }\n",
              "</style>\n",
              "<table border=\"1\" class=\"dataframe\">\n",
              "  <thead>\n",
              "    <tr style=\"text-align: right;\">\n",
              "      <th></th>\n",
              "      <th>position</th>\n",
              "      <th>company</th>\n",
              "      <th>description</th>\n",
              "      <th>reviews</th>\n",
              "      <th>location</th>\n",
              "    </tr>\n",
              "  </thead>\n",
              "  <tbody>\n",
              "    <tr>\n",
              "      <th>0</th>\n",
              "      <td>Development Director</td>\n",
              "      <td>ALS TDI</td>\n",
              "      <td>Development Director\\nALS Therapy Development ...</td>\n",
              "      <td>NaN</td>\n",
              "      <td>Atlanta, GA 30301</td>\n",
              "    </tr>\n",
              "    <tr>\n",
              "      <th>1</th>\n",
              "      <td>An Ostentatiously-Excitable Principal Research...</td>\n",
              "      <td>The Hexagon Lavish</td>\n",
              "      <td>Job Description\\n\\n\"The road that leads to acc...</td>\n",
              "      <td>NaN</td>\n",
              "      <td>Atlanta, GA</td>\n",
              "    </tr>\n",
              "    <tr>\n",
              "      <th>2</th>\n",
              "      <td>Data Scientist</td>\n",
              "      <td>Xpert Staffing</td>\n",
              "      <td>Growing company located in the Atlanta, GA are...</td>\n",
              "      <td>NaN</td>\n",
              "      <td>Atlanta, GA</td>\n",
              "    </tr>\n",
              "    <tr>\n",
              "      <th>3</th>\n",
              "      <td>Data Analyst</td>\n",
              "      <td>Operation HOPE</td>\n",
              "      <td>DEPARTMENT: Program OperationsPOSITION LOCATIO...</td>\n",
              "      <td>44.0</td>\n",
              "      <td>Atlanta, GA 30303</td>\n",
              "    </tr>\n",
              "    <tr>\n",
              "      <th>4</th>\n",
              "      <td>Assistant Professor -TT - Signal Processing &amp; ...</td>\n",
              "      <td>Emory University</td>\n",
              "      <td>DESCRIPTION\\nThe Emory University Department o...</td>\n",
              "      <td>550.0</td>\n",
              "      <td>Atlanta, GA</td>\n",
              "    </tr>\n",
              "  </tbody>\n",
              "</table>\n",
              "</div>"
            ],
            "text/plain": [
              "                                            position  ...            location\n",
              "0                               Development Director  ...  Atlanta, GA 30301 \n",
              "1  An Ostentatiously-Excitable Principal Research...  ...         Atlanta, GA\n",
              "2                                     Data Scientist  ...         Atlanta, GA\n",
              "3                                       Data Analyst  ...  Atlanta, GA 30303 \n",
              "4  Assistant Professor -TT - Signal Processing & ...  ...         Atlanta, GA\n",
              "\n",
              "[5 rows x 5 columns]"
            ]
          },
          "metadata": {
            "tags": []
          },
          "execution_count": 48
        }
      ]
    },
    {
      "cell_type": "code",
      "metadata": {
        "id": "ZLdG8HBaU_NP",
        "colab_type": "code",
        "colab": {
          "base_uri": "https://localhost:8080/",
          "height": 34
        },
        "outputId": "81694bcc-3878-4943-fbf2-4d20289c6958"
      },
      "source": [
        "dataset.shape "
      ],
      "execution_count": 49,
      "outputs": [
        {
          "output_type": "execute_result",
          "data": {
            "text/plain": [
              "(7183, 5)"
            ]
          },
          "metadata": {
            "tags": []
          },
          "execution_count": 49
        }
      ]
    },
    {
      "cell_type": "markdown",
      "metadata": {
        "id": "7pd6k9PhVNQz",
        "colab_type": "text"
      },
      "source": [
        "# ***Handling Missing Data - ***"
      ]
    },
    {
      "cell_type": "code",
      "metadata": {
        "id": "KJ4hRJ6zVBRC",
        "colab_type": "code",
        "colab": {
          "base_uri": "https://localhost:8080/",
          "height": 119
        },
        "outputId": "ba1f5a14-1580-4738-eeb3-517b87fd219e"
      },
      "source": [
        "dataset.isnull().sum()"
      ],
      "execution_count": 50,
      "outputs": [
        {
          "output_type": "execute_result",
          "data": {
            "text/plain": [
              "position         11\n",
              "company          11\n",
              "description      11\n",
              "reviews        1660\n",
              "location         11\n",
              "dtype: int64"
            ]
          },
          "metadata": {
            "tags": []
          },
          "execution_count": 50
        }
      ]
    },
    {
      "cell_type": "code",
      "metadata": {
        "id": "l6LDRmNIXKcT",
        "colab_type": "code",
        "colab": {
          "base_uri": "https://localhost:8080/",
          "height": 34
        },
        "outputId": "87df3bd3-7a3a-4bcf-aa3e-b88031a92ec1"
      },
      "source": [
        "# removing that rows in which all colunms are null \n",
        "dataset = dataset.dropna(how='all',axis=0)\n",
        "dataset.shape"
      ],
      "execution_count": 51,
      "outputs": [
        {
          "output_type": "execute_result",
          "data": {
            "text/plain": [
              "(7172, 5)"
            ]
          },
          "metadata": {
            "tags": []
          },
          "execution_count": 51
        }
      ]
    },
    {
      "cell_type": "code",
      "metadata": {
        "id": "7bfZfkMTXU8o",
        "colab_type": "code",
        "colab": {
          "base_uri": "https://localhost:8080/",
          "height": 119
        },
        "outputId": "59f86767-7c92-44fb-902c-c243037862dc"
      },
      "source": [
        "dataset.isnull().sum()"
      ],
      "execution_count": 52,
      "outputs": [
        {
          "output_type": "execute_result",
          "data": {
            "text/plain": [
              "position          0\n",
              "company           0\n",
              "description       0\n",
              "reviews        1649\n",
              "location          0\n",
              "dtype: int64"
            ]
          },
          "metadata": {
            "tags": []
          },
          "execution_count": 52
        }
      ]
    },
    {
      "cell_type": "code",
      "metadata": {
        "id": "LN8cTOjmXbHB",
        "colab_type": "code",
        "colab": {
          "base_uri": "https://localhost:8080/",
          "height": 34
        },
        "outputId": "c6553f54-da00-432e-cc83-aaff8131ecc8"
      },
      "source": [
        "# remove that rows which do not have any review \n",
        "dataset=dataset.fillna(0)\n",
        "dataset.shape "
      ],
      "execution_count": 54,
      "outputs": [
        {
          "output_type": "execute_result",
          "data": {
            "text/plain": [
              "(7172, 5)"
            ]
          },
          "metadata": {
            "tags": []
          },
          "execution_count": 54
        }
      ]
    },
    {
      "cell_type": "code",
      "metadata": {
        "id": "AYS7Jpdxbw-r",
        "colab_type": "code",
        "colab": {
          "base_uri": "https://localhost:8080/",
          "height": 119
        },
        "outputId": "8d0ae185-796c-4038-faf9-02dabdfa050f"
      },
      "source": [
        "dataset.isnull().sum()"
      ],
      "execution_count": 57,
      "outputs": [
        {
          "output_type": "execute_result",
          "data": {
            "text/plain": [
              "position       0\n",
              "company        0\n",
              "description    0\n",
              "reviews        0\n",
              "location       0\n",
              "dtype: int64"
            ]
          },
          "metadata": {
            "tags": []
          },
          "execution_count": 57
        }
      ]
    },
    {
      "cell_type": "code",
      "metadata": {
        "id": "FdkWW1F5d143",
        "colab_type": "code",
        "colab": {
          "base_uri": "https://localhost:8080/",
          "height": 1071
        },
        "outputId": "394138fc-fbdf-4e3c-99b2-1102c2658f39"
      },
      "source": [
        "dataset['position'].value_counts()"
      ],
      "execution_count": 58,
      "outputs": [
        {
          "output_type": "execute_result",
          "data": {
            "text/plain": [
              "Data Scientist                                                     355\n",
              "Senior Data Scientist                                               97\n",
              "Research Analyst                                                    64\n",
              "Data Engineer                                                       60\n",
              "Machine Learning Engineer                                           56\n",
              "Lead Data Scientist                                                 31\n",
              "Research Scientist                                                  30\n",
              "Sr. Data Scientist                                                  28\n",
              "Principal Data Scientist                                            24\n",
              "Software Engineer                                                   22\n",
              "Data Analyst                                                        22\n",
              "Quantitative Analyst                                                21\n",
              "Scientist                                                           17\n",
              "Product Manager                                                     17\n",
              "Bioinformatics Scientist                                            16\n",
              "Market Research Analyst                                             15\n",
              "Senior Software Engineer                                            14\n",
              "Software Engineer, Machine Learning                                 13\n",
              "Machine Learning Scientist                                          13\n",
              "Senior Research Analyst                                             12\n",
              "Associate Scientist                                                 12\n",
              "Senior Data Engineer                                                12\n",
              "Staff Data Scientist                                                11\n",
              "Senior Scientist                                                    11\n",
              "Software Development Engineer                                       11\n",
              "Student Research Collaboration                                      10\n",
              "Research Associate                                                  10\n",
              "Sr. Data Engineer                                                    9\n",
              "Lead Data Engineer                                                   9\n",
              "Senior Machine Learning Engineer                                     8\n",
              "                                                                  ... \n",
              "Lead Data Scientist - Aerospace                                      1\n",
              "Technical Program Manager, Data Infrastructure and Analysis          1\n",
              "Senior Program Manager                                               1\n",
              "Earth Sciences Community Applications Support Scientist              1\n",
              "HLS - Statistical Quality Lead                                       1\n",
              "Process Development Associate – Pivotal Drug Substance               1\n",
              "Postdoctoral Research Scientist, VR/AR Interactions                  1\n",
              "PHC Senior Scientist, Omics                                          1\n",
              "Change and Communications Lead, Strategy and Operations              1\n",
              "Senior Environmental Planning Professional                           1\n",
              "Research Analyst (Diversity)                                         1\n",
              "Senior Scientist, Downstream Process Development                     1\n",
              "Senior Data Scientist - Revenue Optimization                         1\n",
              "Android Software Engineer                                            1\n",
              "Scientist - Virologist                                               1\n",
              "Operational Research Analyst - Communications and Marketing ADO      1\n",
              "Senior Medical Writer/Scientist                                      1\n",
              "Sr. Scientist, Vector Engineering                                    1\n",
              "UNIX Systems Administrator                                           1\n",
              "Senior Data Science Instructor                                       1\n",
              "Scientist II/Ecologist II                                            1\n",
              "Entertainment Research Analyst                                       1\n",
              "Pharmaceutical Scientist                                             1\n",
              "Senior Software Engineer, Machine Learning                           1\n",
              "FinTech Startup Data Scientist                                       1\n",
              "Research Staff Member, AI Computer Vision                            1\n",
              "Sr Scientific Data Engineer - UAS Traffic Management                 1\n",
              "RESEARCH SCIENTIST ASSISTANT                                         1\n",
              "Developer                                                            1\n",
              "Cloud DevSecOps Engineer                                             1\n",
              "Name: position, Length: 5242, dtype: int64"
            ]
          },
          "metadata": {
            "tags": []
          },
          "execution_count": 58
        }
      ]
    },
    {
      "cell_type": "code",
      "metadata": {
        "id": "fVfR0VK6d-Od",
        "colab_type": "code",
        "colab": {
          "base_uri": "https://localhost:8080/",
          "height": 1071
        },
        "outputId": "f52e9c8d-37cb-4d31-e540-6312fd64f2f3"
      },
      "source": [
        "dataset['company'].value_counts()"
      ],
      "execution_count": 59,
      "outputs": [
        {
          "output_type": "execute_result",
          "data": {
            "text/plain": [
              "Amazon.com                                           358\n",
              "Ball Aerospace                                       348\n",
              "Google                                               138\n",
              "Microsoft                                            137\n",
              "NYU Langone Health                                    77\n",
              "Fred Hutchinson Cancer Research Center                70\n",
              "KPMG                                                  66\n",
              "Lab126                                                50\n",
              "Broad Institute                                       49\n",
              "Facebook                                              49\n",
              "Walmart eCommerce                                     45\n",
              "McKinsey & Company                                    41\n",
              "Harnham                                               39\n",
              "Takeda Pharmaceutical                                 39\n",
              "University of Washington                              39\n",
              "Pharmacyclics, an Abbvie Company                      34\n",
              "Oath Inc                                              34\n",
              "Celgene Corporation                                   34\n",
              "Cymer                                                 32\n",
              "Brigham & Women's Hospital(BWH)                       31\n",
              "Biogen                                                30\n",
              "Amgen                                                 28\n",
              "Sanofi                                                28\n",
              "Illumina                                              27\n",
              "JP Morgan Chase                                       27\n",
              "Jacobs                                                27\n",
              "JD.com                                                26\n",
              "Zillow Group                                          26\n",
              "JUUL Labs                                             26\n",
              "Cedars-Sinai                                          24\n",
              "                                                    ... \n",
              "TBWA\\WorldHealth                                       1\n",
              "Natixis Investment Managers                            1\n",
              "GQR                                                    1\n",
              "Dirty Lemon Beverages                                  1\n",
              "Natero                                                 1\n",
              "DoSomething.org                                        1\n",
              "Ropes & Gray                                           1\n",
              "Alchemy Legal                                          1\n",
              "Cubic Corporation                                      1\n",
              "HOUSING PRESERVATION & DVLPMNT                         1\n",
              "Lab Pros                                               1\n",
              "SearchTech Consulting, Inc                             1\n",
              "SENS Research Foundation                               1\n",
              "Lux Research Inc                                       1\n",
              "Merkle Inc.                                            1\n",
              "Mintel                                                 1\n",
              "OBXtek                                                 1\n",
              "Lancer Insurance Company                               1\n",
              "Okaya Inc                                              1\n",
              "BlackRock                                              1\n",
              "Outcome Health                                         1\n",
              "Federation for American Immigration Reform (Fair)      1\n",
              "Haley & Aldrich                                        1\n",
              "AirSage                                                1\n",
              "Ayasdi                                                 1\n",
              "University of San Diego                                1\n",
              "United States Soccer Federation                        1\n",
              "Taulia                                                 1\n",
              "Loomly                                                 1\n",
              "Nanigans                                               1\n",
              "Name: company, Length: 2213, dtype: int64"
            ]
          },
          "metadata": {
            "tags": []
          },
          "execution_count": 59
        }
      ]
    },
    {
      "cell_type": "code",
      "metadata": {
        "id": "U66h1j7UeNWT",
        "colab_type": "code",
        "colab": {
          "base_uri": "https://localhost:8080/",
          "height": 1071
        },
        "outputId": "b969e01b-9bd6-4703-adbb-5e52a1ae764f"
      },
      "source": [
        "dataset['reviews'].value_counts()"
      ],
      "execution_count": 60,
      "outputs": [
        {
          "output_type": "execute_result",
          "data": {
            "text/plain": [
              "0.0        1649\n",
              "108.0       354\n",
              "25902.0     224\n",
              "2.0         191\n",
              "5.0         139\n",
              "4.0         133\n",
              "4618.0      118\n",
              "2474.0      110\n",
              "3.0         101\n",
              "6.0          94\n",
              "25895.0      89\n",
              "7.0          79\n",
              "705.0        76\n",
              "91.0         71\n",
              "8.0          68\n",
              "15.0         66\n",
              "838.0        62\n",
              "32.0         55\n",
              "11.0         54\n",
              "366.0        49\n",
              "14.0         48\n",
              "141.0        46\n",
              "12.0         46\n",
              "70.0         42\n",
              "26.0         42\n",
              "10.0         41\n",
              "385.0        41\n",
              "530.0        39\n",
              "52.0         39\n",
              "17.0         36\n",
              "           ... \n",
              "3578.0        1\n",
              "242.0         1\n",
              "222.0         1\n",
              "2203.0        1\n",
              "25909.0       1\n",
              "2189.0        1\n",
              "415.0         1\n",
              "694.0         1\n",
              "723.0         1\n",
              "312.0         1\n",
              "1516.0        1\n",
              "55.0          1\n",
              "49.0          1\n",
              "3027.0        1\n",
              "11607.0       1\n",
              "1947.0        1\n",
              "131.0         1\n",
              "177.0         1\n",
              "63.0          1\n",
              "228.0         1\n",
              "892.0         1\n",
              "2431.0        1\n",
              "2647.0        1\n",
              "447.0         1\n",
              "1959.0        1\n",
              "6868.0        1\n",
              "1366.0        1\n",
              "21949.0       1\n",
              "290.0         1\n",
              "2409.0        1\n",
              "Name: reviews, Length: 561, dtype: int64"
            ]
          },
          "metadata": {
            "tags": []
          },
          "execution_count": 60
        }
      ]
    },
    {
      "cell_type": "code",
      "metadata": {
        "id": "Pdi8aLrie29r",
        "colab_type": "code",
        "colab": {
          "base_uri": "https://localhost:8080/",
          "height": 54
        },
        "outputId": "312b2810-3358-483a-bcdc-2829d08d589c"
      },
      "source": [
        "dataset['description'][0]"
      ],
      "execution_count": 62,
      "outputs": [
        {
          "output_type": "execute_result",
          "data": {
            "text/plain": [
              "\"Development Director\\nALS Therapy Development Institute has an immediate opening for Development Directors. Reporting directly to the Senior Development Director, the Development Director at ALS TDI is a senior fundraising position working to identifying potential prospects and cultivating solicitation strategies and in closing asks with donors including individuals and corporations by building networks via events, generating awareness of ALS TDI; outreach including attending and speaking at events as well as personally cultivates relationships with patients, prospects and donors. This position will be responsible for generating and managing a portfolio of at least two million to five million dollars per year. This position will be located in Atlanta, GA.\\n\\nRequirements:\\nBachelor's Degree requiredMinimum 6-8 years' experience in fundraising and business developmentSuccessful track recording in fundraising with major donors or scientific sales preferredDemonstrated ability to work independently and make progress on several prospects/projects at the same time.Excellent English oral, written and presentation skillsStrong leadership and management skills, as well as the ability to forge strong interpersonal relationshipsAbility to travelExcellent computer skills including use of word processing, spreadsheet, database, presentation and prospect management software operating off a PC-based system including Salesforce.\\nAbout ALS Therapy Development Institute (ALS.net)\\n\\nThe ALS Therapy Development Institute (ALS.net) and its scientists actively discover and develop treatments for ALS. ALS.net is the world's first and largest nonprofit biotech focused 100% on ALS research. Led by ALS patients and their families, the charity understands the urgent need to slow and stop this horrible disease. ALS.net, based in Cambridge, MA, has served as one of the leaders in sharing data and information with academic and ALS research organizations, patients and their families. For more information, visit www.als.net.\\n\\nTo Apply\\nPlease apply at https://als.applicantpro.com. Please include a cover letter, salary requirements and resume. No phone calls please.\\nALS TDI is an equal opportunity employer.\""
            ]
          },
          "metadata": {
            "tags": []
          },
          "execution_count": 62
        }
      ]
    },
    {
      "cell_type": "code",
      "metadata": {
        "id": "v7eLayQ7h43N",
        "colab_type": "code",
        "colab": {
          "base_uri": "https://localhost:8080/",
          "height": 1071
        },
        "outputId": "a39da8b8-3d15-43b9-e792-bf9026687c7b"
      },
      "source": [
        "dataset['location'].value_counts()"
      ],
      "execution_count": 63,
      "outputs": [
        {
          "output_type": "execute_result",
          "data": {
            "text/plain": [
              "Seattle, WA                  563\n",
              "New York, NY                 508\n",
              "Cambridge, MA                487\n",
              "Boston, MA                   454\n",
              "Boulder, CO                  435\n",
              "San Francisco, CA            425\n",
              "San Diego, CA                294\n",
              "Chicago, IL                  292\n",
              "Washington, DC               230\n",
              "Sunnyvale, CA                221\n",
              "Mountain View, CA            199\n",
              "Los Angeles, CA              187\n",
              "Austin, TX                   156\n",
              "Atlanta, GA                  147\n",
              "Redmond, WA 98052            117\n",
              "Seattle, WA 98109             95\n",
              "Cambridge, MA 02139           95\n",
              "New York, NY 10016            83\n",
              "San Diego, CA 92121           71\n",
              "Cambridge, MA 02142           64\n",
              "South San Francisco, CA       53\n",
              "Chicago, IL 60654             45\n",
              "Chicago, IL 60601             40\n",
              "San Francisco, CA 94103       40\n",
              "Redmond, WA                   39\n",
              "Mountain View, CA 94043       39\n",
              "Seattle, WA 98101             34\n",
              "Seattle, WA 98104             34\n",
              "Cambridge, MA 02140           33\n",
              "Boston, MA 02116              31\n",
              "                            ... \n",
              "Los Angeles, CA 90066          1\n",
              "New York, NY 10021             1\n",
              "San Diego, CA 92154            1\n",
              "New York, NY 10171             1\n",
              "Hoboken, NJ                    1\n",
              "Mill Valley, CA 94941          1\n",
              "Austin, TX 78754               1\n",
              "Richmond, CA 94806             1\n",
              "New York, NY 10023             1\n",
              "Short Hills, NJ                1\n",
              "Seattle, WA 98164              1\n",
              "New York, NY 10018             1\n",
              "Atlanta, GA 30329              1\n",
              "New York, NY 10032             1\n",
              "Los Angeles, CA 90010          1\n",
              "Los Angeles, CA 90095          1\n",
              "Staten Island, NY              1\n",
              "New Brunswick, NJ              1\n",
              "Atlanta, GA 30350              1\n",
              "Los Angeles, CA 90016          1\n",
              "Washington, DC 20007           1\n",
              "Austin, TX 78727               1\n",
              "Harrison, NY                   1\n",
              "Port Washington, NY 11050      1\n",
              "Chicago, IL 60610              1\n",
              "Atlanta, GA 30339              1\n",
              "Brooklyn, NY 11249             1\n",
              "Newark, NJ 07105               1\n",
              "New York, NY 10027             1\n",
              "West Orange, NJ 07052          1\n",
              "Name: location, Length: 382, dtype: int64"
            ]
          },
          "metadata": {
            "tags": []
          },
          "execution_count": 63
        }
      ]
    },
    {
      "cell_type": "markdown",
      "metadata": {
        "id": "vVoyn5X2ibS3",
        "colab_type": "text"
      },
      "source": [
        "**Note - **\n",
        "\n",
        "1.   Most of the job offers are on the location 'Seattle, WA'.\n",
        "\n"
      ]
    },
    {
      "cell_type": "code",
      "metadata": {
        "id": "cI4ccbB4ia9o",
        "colab_type": "code",
        "colab": {}
      },
      "source": [
        ""
      ],
      "execution_count": 0,
      "outputs": []
    }
  ]
}