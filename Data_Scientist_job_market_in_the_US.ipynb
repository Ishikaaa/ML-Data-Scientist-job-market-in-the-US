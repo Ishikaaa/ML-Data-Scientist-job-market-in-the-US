{
  "nbformat": 4,
  "nbformat_minor": 0,
  "metadata": {
    "colab": {
      "name": "Data_Scientist_job_market_in_the_US.ipynb",
      "version": "0.3.2",
      "provenance": [],
      "collapsed_sections": [],
      "include_colab_link": true
    },
    "kernelspec": {
      "name": "python3",
      "display_name": "Python 3"
    }
  },
  "cells": [
    {
      "cell_type": "markdown",
      "metadata": {
        "id": "view-in-github",
        "colab_type": "text"
      },
      "source": [
        "<a href=\"https://colab.research.google.com/github/Ishikaaa/ML-Data-Scientist-job-market-in-the-US/blob/master/Data_Scientist_job_market_in_the_US.ipynb\" target=\"_parent\"><img src=\"https://colab.research.google.com/assets/colab-badge.svg\" alt=\"Open In Colab\"/></a>"
      ]
    },
    {
      "cell_type": "markdown",
      "metadata": {
        "id": "h50pxSUvPS7T",
        "colab_type": "text"
      },
      "source": [
        "# ***1. Importing Libraries - ***"
      ]
    },
    {
      "cell_type": "code",
      "metadata": {
        "id": "ykYZvBjyNoi3",
        "colab_type": "code",
        "colab": {}
      },
      "source": [
        "import pandas as pd \n",
        "import numpy as np "
      ],
      "execution_count": 0,
      "outputs": []
    },
    {
      "cell_type": "code",
      "metadata": {
        "id": "f5Gb8s5lPeW4",
        "colab_type": "code",
        "outputId": "c4c3b36f-2472-43ce-c00d-178da5f741d5",
        "colab": {
          "base_uri": "https://localhost:8080/",
          "height": 204
        }
      },
      "source": [
        "dataset=pd.read_csv(\"alldata.csv\")\n",
        "dataset.head()"
      ],
      "execution_count": 0,
      "outputs": [
        {
          "output_type": "execute_result",
          "data": {
            "text/html": [
              "<div>\n",
              "<style scoped>\n",
              "    .dataframe tbody tr th:only-of-type {\n",
              "        vertical-align: middle;\n",
              "    }\n",
              "\n",
              "    .dataframe tbody tr th {\n",
              "        vertical-align: top;\n",
              "    }\n",
              "\n",
              "    .dataframe thead th {\n",
              "        text-align: right;\n",
              "    }\n",
              "</style>\n",
              "<table border=\"1\" class=\"dataframe\">\n",
              "  <thead>\n",
              "    <tr style=\"text-align: right;\">\n",
              "      <th></th>\n",
              "      <th>position</th>\n",
              "      <th>company</th>\n",
              "      <th>description</th>\n",
              "      <th>reviews</th>\n",
              "      <th>location</th>\n",
              "    </tr>\n",
              "  </thead>\n",
              "  <tbody>\n",
              "    <tr>\n",
              "      <th>0</th>\n",
              "      <td>Development Director</td>\n",
              "      <td>ALS TDI</td>\n",
              "      <td>Development Director\\nALS Therapy Development ...</td>\n",
              "      <td>NaN</td>\n",
              "      <td>Atlanta, GA 30301</td>\n",
              "    </tr>\n",
              "    <tr>\n",
              "      <th>1</th>\n",
              "      <td>An Ostentatiously-Excitable Principal Research...</td>\n",
              "      <td>The Hexagon Lavish</td>\n",
              "      <td>Job Description\\n\\n\"The road that leads to acc...</td>\n",
              "      <td>NaN</td>\n",
              "      <td>Atlanta, GA</td>\n",
              "    </tr>\n",
              "    <tr>\n",
              "      <th>2</th>\n",
              "      <td>Data Scientist</td>\n",
              "      <td>Xpert Staffing</td>\n",
              "      <td>Growing company located in the Atlanta, GA are...</td>\n",
              "      <td>NaN</td>\n",
              "      <td>Atlanta, GA</td>\n",
              "    </tr>\n",
              "    <tr>\n",
              "      <th>3</th>\n",
              "      <td>Data Analyst</td>\n",
              "      <td>Operation HOPE</td>\n",
              "      <td>DEPARTMENT: Program OperationsPOSITION LOCATIO...</td>\n",
              "      <td>44.0</td>\n",
              "      <td>Atlanta, GA 30303</td>\n",
              "    </tr>\n",
              "    <tr>\n",
              "      <th>4</th>\n",
              "      <td>Assistant Professor -TT - Signal Processing &amp; ...</td>\n",
              "      <td>Emory University</td>\n",
              "      <td>DESCRIPTION\\nThe Emory University Department o...</td>\n",
              "      <td>550.0</td>\n",
              "      <td>Atlanta, GA</td>\n",
              "    </tr>\n",
              "  </tbody>\n",
              "</table>\n",
              "</div>"
            ],
            "text/plain": [
              "                                            position  ...            location\n",
              "0                               Development Director  ...  Atlanta, GA 30301 \n",
              "1  An Ostentatiously-Excitable Principal Research...  ...         Atlanta, GA\n",
              "2                                     Data Scientist  ...         Atlanta, GA\n",
              "3                                       Data Analyst  ...  Atlanta, GA 30303 \n",
              "4  Assistant Professor -TT - Signal Processing & ...  ...         Atlanta, GA\n",
              "\n",
              "[5 rows x 5 columns]"
            ]
          },
          "metadata": {
            "tags": []
          },
          "execution_count": 48
        }
      ]
    },
    {
      "cell_type": "code",
      "metadata": {
        "id": "ZLdG8HBaU_NP",
        "colab_type": "code",
        "outputId": "81694bcc-3878-4943-fbf2-4d20289c6958",
        "colab": {
          "base_uri": "https://localhost:8080/",
          "height": 34
        }
      },
      "source": [
        "dataset.shape "
      ],
      "execution_count": 0,
      "outputs": [
        {
          "output_type": "execute_result",
          "data": {
            "text/plain": [
              "(7183, 5)"
            ]
          },
          "metadata": {
            "tags": []
          },
          "execution_count": 49
        }
      ]
    },
    {
      "cell_type": "code",
      "metadata": {
        "id": "d6Sj4D9xtlwn",
        "colab_type": "code",
        "outputId": "b424b4b5-beb3-4660-8b43-70735b35e7fc",
        "colab": {
          "base_uri": "https://localhost:8080/",
          "height": 119
        }
      },
      "source": [
        "dataset.dtypes"
      ],
      "execution_count": 0,
      "outputs": [
        {
          "output_type": "execute_result",
          "data": {
            "text/plain": [
              "position        object\n",
              "company         object\n",
              "description     object\n",
              "reviews        float64\n",
              "location        object\n",
              "dtype: object"
            ]
          },
          "metadata": {
            "tags": []
          },
          "execution_count": 66
        }
      ]
    },
    {
      "cell_type": "markdown",
      "metadata": {
        "id": "7pd6k9PhVNQz",
        "colab_type": "text"
      },
      "source": [
        "# ***Handling Missing Data - ***"
      ]
    },
    {
      "cell_type": "code",
      "metadata": {
        "id": "KJ4hRJ6zVBRC",
        "colab_type": "code",
        "outputId": "ba1f5a14-1580-4738-eeb3-517b87fd219e",
        "colab": {
          "base_uri": "https://localhost:8080/",
          "height": 119
        }
      },
      "source": [
        "dataset.isnull().sum()"
      ],
      "execution_count": 0,
      "outputs": [
        {
          "output_type": "execute_result",
          "data": {
            "text/plain": [
              "position         11\n",
              "company          11\n",
              "description      11\n",
              "reviews        1660\n",
              "location         11\n",
              "dtype: int64"
            ]
          },
          "metadata": {
            "tags": []
          },
          "execution_count": 50
        }
      ]
    },
    {
      "cell_type": "code",
      "metadata": {
        "id": "l6LDRmNIXKcT",
        "colab_type": "code",
        "outputId": "87df3bd3-7a3a-4bcf-aa3e-b88031a92ec1",
        "colab": {
          "base_uri": "https://localhost:8080/",
          "height": 34
        }
      },
      "source": [
        "# removing that rows in which all colunms are null \n",
        "dataset = dataset.dropna(how='all',axis=0)\n",
        "dataset.shape"
      ],
      "execution_count": 0,
      "outputs": [
        {
          "output_type": "execute_result",
          "data": {
            "text/plain": [
              "(7172, 5)"
            ]
          },
          "metadata": {
            "tags": []
          },
          "execution_count": 51
        }
      ]
    },
    {
      "cell_type": "code",
      "metadata": {
        "id": "7bfZfkMTXU8o",
        "colab_type": "code",
        "outputId": "59f86767-7c92-44fb-902c-c243037862dc",
        "colab": {
          "base_uri": "https://localhost:8080/",
          "height": 119
        }
      },
      "source": [
        "dataset.isnull().sum()"
      ],
      "execution_count": 0,
      "outputs": [
        {
          "output_type": "execute_result",
          "data": {
            "text/plain": [
              "position          0\n",
              "company           0\n",
              "description       0\n",
              "reviews        1649\n",
              "location          0\n",
              "dtype: int64"
            ]
          },
          "metadata": {
            "tags": []
          },
          "execution_count": 52
        }
      ]
    },
    {
      "cell_type": "code",
      "metadata": {
        "id": "LN8cTOjmXbHB",
        "colab_type": "code",
        "outputId": "c6553f54-da00-432e-cc83-aaff8131ecc8",
        "colab": {
          "base_uri": "https://localhost:8080/",
          "height": 34
        }
      },
      "source": [
        "# remove that rows which do not have any review \n",
        "dataset=dataset.fillna(0)\n",
        "dataset.shape "
      ],
      "execution_count": 0,
      "outputs": [
        {
          "output_type": "execute_result",
          "data": {
            "text/plain": [
              "(7172, 5)"
            ]
          },
          "metadata": {
            "tags": []
          },
          "execution_count": 54
        }
      ]
    },
    {
      "cell_type": "code",
      "metadata": {
        "id": "AYS7Jpdxbw-r",
        "colab_type": "code",
        "outputId": "8d0ae185-796c-4038-faf9-02dabdfa050f",
        "colab": {
          "base_uri": "https://localhost:8080/",
          "height": 119
        }
      },
      "source": [
        "dataset.isnull().sum()"
      ],
      "execution_count": 0,
      "outputs": [
        {
          "output_type": "execute_result",
          "data": {
            "text/plain": [
              "position       0\n",
              "company        0\n",
              "description    0\n",
              "reviews        0\n",
              "location       0\n",
              "dtype: int64"
            ]
          },
          "metadata": {
            "tags": []
          },
          "execution_count": 57
        }
      ]
    },
    {
      "cell_type": "code",
      "metadata": {
        "id": "FdkWW1F5d143",
        "colab_type": "code",
        "outputId": "394138fc-fbdf-4e3c-99b2-1102c2658f39",
        "colab": {
          "base_uri": "https://localhost:8080/",
          "height": 1071
        }
      },
      "source": [
        "dataset['position'].value_counts()"
      ],
      "execution_count": 0,
      "outputs": [
        {
          "output_type": "execute_result",
          "data": {
            "text/plain": [
              "Data Scientist                                                     355\n",
              "Senior Data Scientist                                               97\n",
              "Research Analyst                                                    64\n",
              "Data Engineer                                                       60\n",
              "Machine Learning Engineer                                           56\n",
              "Lead Data Scientist                                                 31\n",
              "Research Scientist                                                  30\n",
              "Sr. Data Scientist                                                  28\n",
              "Principal Data Scientist                                            24\n",
              "Software Engineer                                                   22\n",
              "Data Analyst                                                        22\n",
              "Quantitative Analyst                                                21\n",
              "Scientist                                                           17\n",
              "Product Manager                                                     17\n",
              "Bioinformatics Scientist                                            16\n",
              "Market Research Analyst                                             15\n",
              "Senior Software Engineer                                            14\n",
              "Software Engineer, Machine Learning                                 13\n",
              "Machine Learning Scientist                                          13\n",
              "Senior Research Analyst                                             12\n",
              "Associate Scientist                                                 12\n",
              "Senior Data Engineer                                                12\n",
              "Staff Data Scientist                                                11\n",
              "Senior Scientist                                                    11\n",
              "Software Development Engineer                                       11\n",
              "Student Research Collaboration                                      10\n",
              "Research Associate                                                  10\n",
              "Sr. Data Engineer                                                    9\n",
              "Lead Data Engineer                                                   9\n",
              "Senior Machine Learning Engineer                                     8\n",
              "                                                                  ... \n",
              "Lead Data Scientist - Aerospace                                      1\n",
              "Technical Program Manager, Data Infrastructure and Analysis          1\n",
              "Senior Program Manager                                               1\n",
              "Earth Sciences Community Applications Support Scientist              1\n",
              "HLS - Statistical Quality Lead                                       1\n",
              "Process Development Associate – Pivotal Drug Substance               1\n",
              "Postdoctoral Research Scientist, VR/AR Interactions                  1\n",
              "PHC Senior Scientist, Omics                                          1\n",
              "Change and Communications Lead, Strategy and Operations              1\n",
              "Senior Environmental Planning Professional                           1\n",
              "Research Analyst (Diversity)                                         1\n",
              "Senior Scientist, Downstream Process Development                     1\n",
              "Senior Data Scientist - Revenue Optimization                         1\n",
              "Android Software Engineer                                            1\n",
              "Scientist - Virologist                                               1\n",
              "Operational Research Analyst - Communications and Marketing ADO      1\n",
              "Senior Medical Writer/Scientist                                      1\n",
              "Sr. Scientist, Vector Engineering                                    1\n",
              "UNIX Systems Administrator                                           1\n",
              "Senior Data Science Instructor                                       1\n",
              "Scientist II/Ecologist II                                            1\n",
              "Entertainment Research Analyst                                       1\n",
              "Pharmaceutical Scientist                                             1\n",
              "Senior Software Engineer, Machine Learning                           1\n",
              "FinTech Startup Data Scientist                                       1\n",
              "Research Staff Member, AI Computer Vision                            1\n",
              "Sr Scientific Data Engineer - UAS Traffic Management                 1\n",
              "RESEARCH SCIENTIST ASSISTANT                                         1\n",
              "Developer                                                            1\n",
              "Cloud DevSecOps Engineer                                             1\n",
              "Name: position, Length: 5242, dtype: int64"
            ]
          },
          "metadata": {
            "tags": []
          },
          "execution_count": 58
        }
      ]
    },
    {
      "cell_type": "code",
      "metadata": {
        "id": "fVfR0VK6d-Od",
        "colab_type": "code",
        "outputId": "f52e9c8d-37cb-4d31-e540-6312fd64f2f3",
        "colab": {
          "base_uri": "https://localhost:8080/",
          "height": 1071
        }
      },
      "source": [
        "dataset['company'].value_counts()"
      ],
      "execution_count": 0,
      "outputs": [
        {
          "output_type": "execute_result",
          "data": {
            "text/plain": [
              "Amazon.com                                           358\n",
              "Ball Aerospace                                       348\n",
              "Google                                               138\n",
              "Microsoft                                            137\n",
              "NYU Langone Health                                    77\n",
              "Fred Hutchinson Cancer Research Center                70\n",
              "KPMG                                                  66\n",
              "Lab126                                                50\n",
              "Broad Institute                                       49\n",
              "Facebook                                              49\n",
              "Walmart eCommerce                                     45\n",
              "McKinsey & Company                                    41\n",
              "Harnham                                               39\n",
              "Takeda Pharmaceutical                                 39\n",
              "University of Washington                              39\n",
              "Pharmacyclics, an Abbvie Company                      34\n",
              "Oath Inc                                              34\n",
              "Celgene Corporation                                   34\n",
              "Cymer                                                 32\n",
              "Brigham & Women's Hospital(BWH)                       31\n",
              "Biogen                                                30\n",
              "Amgen                                                 28\n",
              "Sanofi                                                28\n",
              "Illumina                                              27\n",
              "JP Morgan Chase                                       27\n",
              "Jacobs                                                27\n",
              "JD.com                                                26\n",
              "Zillow Group                                          26\n",
              "JUUL Labs                                             26\n",
              "Cedars-Sinai                                          24\n",
              "                                                    ... \n",
              "TBWA\\WorldHealth                                       1\n",
              "Natixis Investment Managers                            1\n",
              "GQR                                                    1\n",
              "Dirty Lemon Beverages                                  1\n",
              "Natero                                                 1\n",
              "DoSomething.org                                        1\n",
              "Ropes & Gray                                           1\n",
              "Alchemy Legal                                          1\n",
              "Cubic Corporation                                      1\n",
              "HOUSING PRESERVATION & DVLPMNT                         1\n",
              "Lab Pros                                               1\n",
              "SearchTech Consulting, Inc                             1\n",
              "SENS Research Foundation                               1\n",
              "Lux Research Inc                                       1\n",
              "Merkle Inc.                                            1\n",
              "Mintel                                                 1\n",
              "OBXtek                                                 1\n",
              "Lancer Insurance Company                               1\n",
              "Okaya Inc                                              1\n",
              "BlackRock                                              1\n",
              "Outcome Health                                         1\n",
              "Federation for American Immigration Reform (Fair)      1\n",
              "Haley & Aldrich                                        1\n",
              "AirSage                                                1\n",
              "Ayasdi                                                 1\n",
              "University of San Diego                                1\n",
              "United States Soccer Federation                        1\n",
              "Taulia                                                 1\n",
              "Loomly                                                 1\n",
              "Nanigans                                               1\n",
              "Name: company, Length: 2213, dtype: int64"
            ]
          },
          "metadata": {
            "tags": []
          },
          "execution_count": 59
        }
      ]
    },
    {
      "cell_type": "code",
      "metadata": {
        "id": "U66h1j7UeNWT",
        "colab_type": "code",
        "outputId": "b969e01b-9bd6-4703-adbb-5e52a1ae764f",
        "colab": {
          "base_uri": "https://localhost:8080/",
          "height": 1071
        }
      },
      "source": [
        "dataset['reviews'].value_counts()"
      ],
      "execution_count": 0,
      "outputs": [
        {
          "output_type": "execute_result",
          "data": {
            "text/plain": [
              "0.0        1649\n",
              "108.0       354\n",
              "25902.0     224\n",
              "2.0         191\n",
              "5.0         139\n",
              "4.0         133\n",
              "4618.0      118\n",
              "2474.0      110\n",
              "3.0         101\n",
              "6.0          94\n",
              "25895.0      89\n",
              "7.0          79\n",
              "705.0        76\n",
              "91.0         71\n",
              "8.0          68\n",
              "15.0         66\n",
              "838.0        62\n",
              "32.0         55\n",
              "11.0         54\n",
              "366.0        49\n",
              "14.0         48\n",
              "141.0        46\n",
              "12.0         46\n",
              "70.0         42\n",
              "26.0         42\n",
              "10.0         41\n",
              "385.0        41\n",
              "530.0        39\n",
              "52.0         39\n",
              "17.0         36\n",
              "           ... \n",
              "3578.0        1\n",
              "242.0         1\n",
              "222.0         1\n",
              "2203.0        1\n",
              "25909.0       1\n",
              "2189.0        1\n",
              "415.0         1\n",
              "694.0         1\n",
              "723.0         1\n",
              "312.0         1\n",
              "1516.0        1\n",
              "55.0          1\n",
              "49.0          1\n",
              "3027.0        1\n",
              "11607.0       1\n",
              "1947.0        1\n",
              "131.0         1\n",
              "177.0         1\n",
              "63.0          1\n",
              "228.0         1\n",
              "892.0         1\n",
              "2431.0        1\n",
              "2647.0        1\n",
              "447.0         1\n",
              "1959.0        1\n",
              "6868.0        1\n",
              "1366.0        1\n",
              "21949.0       1\n",
              "290.0         1\n",
              "2409.0        1\n",
              "Name: reviews, Length: 561, dtype: int64"
            ]
          },
          "metadata": {
            "tags": []
          },
          "execution_count": 60
        }
      ]
    },
    {
      "cell_type": "code",
      "metadata": {
        "id": "Pdi8aLrie29r",
        "colab_type": "code",
        "outputId": "312b2810-3358-483a-bcdc-2829d08d589c",
        "colab": {
          "base_uri": "https://localhost:8080/",
          "height": 54
        }
      },
      "source": [
        "dataset['description'][0]"
      ],
      "execution_count": 0,
      "outputs": [
        {
          "output_type": "execute_result",
          "data": {
            "text/plain": [
              "\"Development Director\\nALS Therapy Development Institute has an immediate opening for Development Directors. Reporting directly to the Senior Development Director, the Development Director at ALS TDI is a senior fundraising position working to identifying potential prospects and cultivating solicitation strategies and in closing asks with donors including individuals and corporations by building networks via events, generating awareness of ALS TDI; outreach including attending and speaking at events as well as personally cultivates relationships with patients, prospects and donors. This position will be responsible for generating and managing a portfolio of at least two million to five million dollars per year. This position will be located in Atlanta, GA.\\n\\nRequirements:\\nBachelor's Degree requiredMinimum 6-8 years' experience in fundraising and business developmentSuccessful track recording in fundraising with major donors or scientific sales preferredDemonstrated ability to work independently and make progress on several prospects/projects at the same time.Excellent English oral, written and presentation skillsStrong leadership and management skills, as well as the ability to forge strong interpersonal relationshipsAbility to travelExcellent computer skills including use of word processing, spreadsheet, database, presentation and prospect management software operating off a PC-based system including Salesforce.\\nAbout ALS Therapy Development Institute (ALS.net)\\n\\nThe ALS Therapy Development Institute (ALS.net) and its scientists actively discover and develop treatments for ALS. ALS.net is the world's first and largest nonprofit biotech focused 100% on ALS research. Led by ALS patients and their families, the charity understands the urgent need to slow and stop this horrible disease. ALS.net, based in Cambridge, MA, has served as one of the leaders in sharing data and information with academic and ALS research organizations, patients and their families. For more information, visit www.als.net.\\n\\nTo Apply\\nPlease apply at https://als.applicantpro.com. Please include a cover letter, salary requirements and resume. No phone calls please.\\nALS TDI is an equal opportunity employer.\""
            ]
          },
          "metadata": {
            "tags": []
          },
          "execution_count": 62
        }
      ]
    },
    {
      "cell_type": "code",
      "metadata": {
        "id": "v7eLayQ7h43N",
        "colab_type": "code",
        "outputId": "a39da8b8-3d15-43b9-e792-bf9026687c7b",
        "colab": {
          "base_uri": "https://localhost:8080/",
          "height": 1071
        }
      },
      "source": [
        "dataset['location'].value_counts()"
      ],
      "execution_count": 0,
      "outputs": [
        {
          "output_type": "execute_result",
          "data": {
            "text/plain": [
              "Seattle, WA                  563\n",
              "New York, NY                 508\n",
              "Cambridge, MA                487\n",
              "Boston, MA                   454\n",
              "Boulder, CO                  435\n",
              "San Francisco, CA            425\n",
              "San Diego, CA                294\n",
              "Chicago, IL                  292\n",
              "Washington, DC               230\n",
              "Sunnyvale, CA                221\n",
              "Mountain View, CA            199\n",
              "Los Angeles, CA              187\n",
              "Austin, TX                   156\n",
              "Atlanta, GA                  147\n",
              "Redmond, WA 98052            117\n",
              "Seattle, WA 98109             95\n",
              "Cambridge, MA 02139           95\n",
              "New York, NY 10016            83\n",
              "San Diego, CA 92121           71\n",
              "Cambridge, MA 02142           64\n",
              "South San Francisco, CA       53\n",
              "Chicago, IL 60654             45\n",
              "Chicago, IL 60601             40\n",
              "San Francisco, CA 94103       40\n",
              "Redmond, WA                   39\n",
              "Mountain View, CA 94043       39\n",
              "Seattle, WA 98101             34\n",
              "Seattle, WA 98104             34\n",
              "Cambridge, MA 02140           33\n",
              "Boston, MA 02116              31\n",
              "                            ... \n",
              "Los Angeles, CA 90066          1\n",
              "New York, NY 10021             1\n",
              "San Diego, CA 92154            1\n",
              "New York, NY 10171             1\n",
              "Hoboken, NJ                    1\n",
              "Mill Valley, CA 94941          1\n",
              "Austin, TX 78754               1\n",
              "Richmond, CA 94806             1\n",
              "New York, NY 10023             1\n",
              "Short Hills, NJ                1\n",
              "Seattle, WA 98164              1\n",
              "New York, NY 10018             1\n",
              "Atlanta, GA 30329              1\n",
              "New York, NY 10032             1\n",
              "Los Angeles, CA 90010          1\n",
              "Los Angeles, CA 90095          1\n",
              "Staten Island, NY              1\n",
              "New Brunswick, NJ              1\n",
              "Atlanta, GA 30350              1\n",
              "Los Angeles, CA 90016          1\n",
              "Washington, DC 20007           1\n",
              "Austin, TX 78727               1\n",
              "Harrison, NY                   1\n",
              "Port Washington, NY 11050      1\n",
              "Chicago, IL 60610              1\n",
              "Atlanta, GA 30339              1\n",
              "Brooklyn, NY 11249             1\n",
              "Newark, NJ 07105               1\n",
              "New York, NY 10027             1\n",
              "West Orange, NJ 07052          1\n",
              "Name: location, Length: 382, dtype: int64"
            ]
          },
          "metadata": {
            "tags": []
          },
          "execution_count": 63
        }
      ]
    },
    {
      "cell_type": "markdown",
      "metadata": {
        "id": "vVoyn5X2ibS3",
        "colab_type": "text"
      },
      "source": [
        "***Note - ***\n",
        "\n",
        "1.   Most of the job offers are on the location 'Seattle, WA'.\n",
        "\n"
      ]
    },
    {
      "cell_type": "code",
      "metadata": {
        "id": "cI4ccbB4ia9o",
        "colab_type": "code",
        "outputId": "66838bff-44a3-4565-f1cd-815ceb8379c5",
        "colab": {
          "base_uri": "https://localhost:8080/",
          "height": 142
        }
      },
      "source": [
        "dataset[dataset['reviews']==dataset['reviews'].max()]"
      ],
      "execution_count": 0,
      "outputs": [
        {
          "output_type": "execute_result",
          "data": {
            "text/html": [
              "<div>\n",
              "<style scoped>\n",
              "    .dataframe tbody tr th:only-of-type {\n",
              "        vertical-align: middle;\n",
              "    }\n",
              "\n",
              "    .dataframe tbody tr th {\n",
              "        vertical-align: top;\n",
              "    }\n",
              "\n",
              "    .dataframe thead th {\n",
              "        text-align: right;\n",
              "    }\n",
              "</style>\n",
              "<table border=\"1\" class=\"dataframe\">\n",
              "  <thead>\n",
              "    <tr style=\"text-align: right;\">\n",
              "      <th></th>\n",
              "      <th>position</th>\n",
              "      <th>company</th>\n",
              "      <th>description</th>\n",
              "      <th>reviews</th>\n",
              "      <th>location</th>\n",
              "    </tr>\n",
              "  </thead>\n",
              "  <tbody>\n",
              "    <tr>\n",
              "      <th>6947</th>\n",
              "      <td>Staff Software Engineer, Front End Lead</td>\n",
              "      <td>Walmart</td>\n",
              "      <td>Position Description\\nPosition Summary\\nAs a S...</td>\n",
              "      <td>148114.0</td>\n",
              "      <td>Sunnyvale, CA 94086</td>\n",
              "    </tr>\n",
              "    <tr>\n",
              "      <th>7047</th>\n",
              "      <td>Information Security Risk Expert</td>\n",
              "      <td>Walmart</td>\n",
              "      <td>Position Description\\nCompany Summary: Walmart...</td>\n",
              "      <td>148114.0</td>\n",
              "      <td>Sunnyvale, CA 94086</td>\n",
              "    </tr>\n",
              "    <tr>\n",
              "      <th>7177</th>\n",
              "      <td>Senior Data Scientist (GEC11902)</td>\n",
              "      <td>Walmart</td>\n",
              "      <td>Position Description\\nProficient in Java or Py...</td>\n",
              "      <td>148114.0</td>\n",
              "      <td>Sunnyvale, CA 94086</td>\n",
              "    </tr>\n",
              "  </tbody>\n",
              "</table>\n",
              "</div>"
            ],
            "text/plain": [
              "                                     position  ...             location\n",
              "6947  Staff Software Engineer, Front End Lead  ...  Sunnyvale, CA 94086\n",
              "7047         Information Security Risk Expert  ...  Sunnyvale, CA 94086\n",
              "7177         Senior Data Scientist (GEC11902)  ...  Sunnyvale, CA 94086\n",
              "\n",
              "[3 rows x 5 columns]"
            ]
          },
          "metadata": {
            "tags": []
          },
          "execution_count": 69
        }
      ]
    },
    {
      "cell_type": "code",
      "metadata": {
        "id": "1MkWM48zz-uz",
        "colab_type": "code",
        "outputId": "3fb4ff69-2222-45eb-ad88-bc8412753e72",
        "colab": {
          "base_uri": "https://localhost:8080/",
          "height": 204
        }
      },
      "source": [
        "dataset[dataset['company']=='Walmart']"
      ],
      "execution_count": 0,
      "outputs": [
        {
          "output_type": "execute_result",
          "data": {
            "text/html": [
              "<div>\n",
              "<style scoped>\n",
              "    .dataframe tbody tr th:only-of-type {\n",
              "        vertical-align: middle;\n",
              "    }\n",
              "\n",
              "    .dataframe tbody tr th {\n",
              "        vertical-align: top;\n",
              "    }\n",
              "\n",
              "    .dataframe thead th {\n",
              "        text-align: right;\n",
              "    }\n",
              "</style>\n",
              "<table border=\"1\" class=\"dataframe\">\n",
              "  <thead>\n",
              "    <tr style=\"text-align: right;\">\n",
              "      <th></th>\n",
              "      <th>position</th>\n",
              "      <th>company</th>\n",
              "      <th>description</th>\n",
              "      <th>reviews</th>\n",
              "      <th>location</th>\n",
              "    </tr>\n",
              "  </thead>\n",
              "  <tbody>\n",
              "    <tr>\n",
              "      <th>449</th>\n",
              "      <td>Data Scientist-ISD</td>\n",
              "      <td>Walmart</td>\n",
              "      <td>Position Description\\n\\nConsults with business...</td>\n",
              "      <td>148085.0</td>\n",
              "      <td>Austin, TX 78716</td>\n",
              "    </tr>\n",
              "    <tr>\n",
              "      <th>6887</th>\n",
              "      <td>Staff Data Scientist</td>\n",
              "      <td>Walmart</td>\n",
              "      <td>Position Description\\n\\nA Staff Data Scientist...</td>\n",
              "      <td>148051.0</td>\n",
              "      <td>San Bruno, CA 94066</td>\n",
              "    </tr>\n",
              "    <tr>\n",
              "      <th>6947</th>\n",
              "      <td>Staff Software Engineer, Front End Lead</td>\n",
              "      <td>Walmart</td>\n",
              "      <td>Position Description\\nPosition Summary\\nAs a S...</td>\n",
              "      <td>148114.0</td>\n",
              "      <td>Sunnyvale, CA 94086</td>\n",
              "    </tr>\n",
              "    <tr>\n",
              "      <th>7047</th>\n",
              "      <td>Information Security Risk Expert</td>\n",
              "      <td>Walmart</td>\n",
              "      <td>Position Description\\nCompany Summary: Walmart...</td>\n",
              "      <td>148114.0</td>\n",
              "      <td>Sunnyvale, CA 94086</td>\n",
              "    </tr>\n",
              "    <tr>\n",
              "      <th>7177</th>\n",
              "      <td>Senior Data Scientist (GEC11902)</td>\n",
              "      <td>Walmart</td>\n",
              "      <td>Position Description\\nProficient in Java or Py...</td>\n",
              "      <td>148114.0</td>\n",
              "      <td>Sunnyvale, CA 94086</td>\n",
              "    </tr>\n",
              "  </tbody>\n",
              "</table>\n",
              "</div>"
            ],
            "text/plain": [
              "                                     position  ...             location\n",
              "449                        Data Scientist-ISD  ...     Austin, TX 78716\n",
              "6887                     Staff Data Scientist  ...  San Bruno, CA 94066\n",
              "6947  Staff Software Engineer, Front End Lead  ...  Sunnyvale, CA 94086\n",
              "7047         Information Security Risk Expert  ...  Sunnyvale, CA 94086\n",
              "7177         Senior Data Scientist (GEC11902)  ...  Sunnyvale, CA 94086\n",
              "\n",
              "[5 rows x 5 columns]"
            ]
          },
          "metadata": {
            "tags": []
          },
          "execution_count": 71
        }
      ]
    },
    {
      "cell_type": "markdown",
      "metadata": {
        "id": "l8XaKDsp0L_s",
        "colab_type": "text"
      },
      "source": [
        "***Note - ***\n",
        "\n",
        "1.   Company \"Walmart\" has maximum reviews. And Company \"Walmart\" offers maximum jobs on location \"Sunnyvale, CA 94086\"."
      ]
    },
    {
      "cell_type": "code",
      "metadata": {
        "id": "BTSi0NW9yyZr",
        "colab_type": "code",
        "outputId": "411fce69-df17-4453-b66f-6bb078dc8cdc",
        "colab": {
          "base_uri": "https://localhost:8080/",
          "height": 2343
        }
      },
      "source": [
        "dataset[dataset['reviews']==dataset['reviews'].min()]"
      ],
      "execution_count": 0,
      "outputs": [
        {
          "output_type": "execute_result",
          "data": {
            "text/html": [
              "<div>\n",
              "<style scoped>\n",
              "    .dataframe tbody tr th:only-of-type {\n",
              "        vertical-align: middle;\n",
              "    }\n",
              "\n",
              "    .dataframe tbody tr th {\n",
              "        vertical-align: top;\n",
              "    }\n",
              "\n",
              "    .dataframe thead th {\n",
              "        text-align: right;\n",
              "    }\n",
              "</style>\n",
              "<table border=\"1\" class=\"dataframe\">\n",
              "  <thead>\n",
              "    <tr style=\"text-align: right;\">\n",
              "      <th></th>\n",
              "      <th>position</th>\n",
              "      <th>company</th>\n",
              "      <th>description</th>\n",
              "      <th>reviews</th>\n",
              "      <th>location</th>\n",
              "    </tr>\n",
              "  </thead>\n",
              "  <tbody>\n",
              "    <tr>\n",
              "      <th>0</th>\n",
              "      <td>Development Director</td>\n",
              "      <td>ALS TDI</td>\n",
              "      <td>Development Director\\nALS Therapy Development ...</td>\n",
              "      <td>0.0</td>\n",
              "      <td>Atlanta, GA 30301</td>\n",
              "    </tr>\n",
              "    <tr>\n",
              "      <th>1</th>\n",
              "      <td>An Ostentatiously-Excitable Principal Research...</td>\n",
              "      <td>The Hexagon Lavish</td>\n",
              "      <td>Job Description\\n\\n\"The road that leads to acc...</td>\n",
              "      <td>0.0</td>\n",
              "      <td>Atlanta, GA</td>\n",
              "    </tr>\n",
              "    <tr>\n",
              "      <th>2</th>\n",
              "      <td>Data Scientist</td>\n",
              "      <td>Xpert Staffing</td>\n",
              "      <td>Growing company located in the Atlanta, GA are...</td>\n",
              "      <td>0.0</td>\n",
              "      <td>Atlanta, GA</td>\n",
              "    </tr>\n",
              "    <tr>\n",
              "      <th>18</th>\n",
              "      <td>Data Scientist</td>\n",
              "      <td>Relus Cloud</td>\n",
              "      <td>DATA SCIENTIST\\n\\nSUMMARY:\\nAs an Amazon Web S...</td>\n",
              "      <td>0.0</td>\n",
              "      <td>Atlanta, GA</td>\n",
              "    </tr>\n",
              "    <tr>\n",
              "      <th>19</th>\n",
              "      <td>Data Scientist</td>\n",
              "      <td>Inspire Brands</td>\n",
              "      <td>This position is critical to understanding dri...</td>\n",
              "      <td>0.0</td>\n",
              "      <td>Atlanta, GA</td>\n",
              "    </tr>\n",
              "    <tr>\n",
              "      <th>25</th>\n",
              "      <td>Data Scientist</td>\n",
              "      <td>AirSage</td>\n",
              "      <td>AirSage has been in the business of providing ...</td>\n",
              "      <td>0.0</td>\n",
              "      <td>Atlanta, GA</td>\n",
              "    </tr>\n",
              "    <tr>\n",
              "      <th>26</th>\n",
              "      <td>Data Scientist 1 – AP Forensics Team</td>\n",
              "      <td>The Home Depot</td>\n",
              "      <td>POSITION PURPOSE:\\nThe Data Scientist I will p...</td>\n",
              "      <td>0.0</td>\n",
              "      <td>Atlanta, GA</td>\n",
              "    </tr>\n",
              "    <tr>\n",
              "      <th>38</th>\n",
              "      <td>Data Scientist</td>\n",
              "      <td>OM Partners</td>\n",
              "      <td>With demand sensing, OM Partners is breaking t...</td>\n",
              "      <td>0.0</td>\n",
              "      <td>Atlanta, GA</td>\n",
              "    </tr>\n",
              "    <tr>\n",
              "      <th>48</th>\n",
              "      <td>Chief Deep Learning Scientist</td>\n",
              "      <td>YIWEI Medical Inc.</td>\n",
              "      <td>We are looking for talented, driven and autono...</td>\n",
              "      <td>0.0</td>\n",
              "      <td>Atlanta, GA</td>\n",
              "    </tr>\n",
              "    <tr>\n",
              "      <th>53</th>\n",
              "      <td>Statistical Analyst</td>\n",
              "      <td>Hawkins Diagnostics</td>\n",
              "      <td>Job Description\\n\\nParticipates in all aspects...</td>\n",
              "      <td>0.0</td>\n",
              "      <td>Atlanta, GA</td>\n",
              "    </tr>\n",
              "    <tr>\n",
              "      <th>54</th>\n",
              "      <td>VP, Data Analytics</td>\n",
              "      <td>TCGplayer</td>\n",
              "      <td>********************\\nVP of Data Analytics\\n**...</td>\n",
              "      <td>0.0</td>\n",
              "      <td>Atlanta, GA</td>\n",
              "    </tr>\n",
              "    <tr>\n",
              "      <th>55</th>\n",
              "      <td>Lead Decision Scientist</td>\n",
              "      <td>Moxie Interactive, Inc.</td>\n",
              "      <td>Leading the use of modeling, algorithms, and c...</td>\n",
              "      <td>0.0</td>\n",
              "      <td>Atlanta, GA 30313</td>\n",
              "    </tr>\n",
              "    <tr>\n",
              "      <th>65</th>\n",
              "      <td>Research Scientist</td>\n",
              "      <td>MacDermid Inc.</td>\n",
              "      <td>Research Scientist\\n\\nJob Description\\nThe Res...</td>\n",
              "      <td>0.0</td>\n",
              "      <td>Atlanta, GA</td>\n",
              "    </tr>\n",
              "    <tr>\n",
              "      <th>84</th>\n",
              "      <td>Research Scientist</td>\n",
              "      <td>PreVisor</td>\n",
              "      <td>POSITION OVERVIEW\\n\\n\\nThe Research Scientist ...</td>\n",
              "      <td>0.0</td>\n",
              "      <td>Atlanta, GA</td>\n",
              "    </tr>\n",
              "    <tr>\n",
              "      <th>106</th>\n",
              "      <td>Staff Research Scientist VII: Informational In...</td>\n",
              "      <td>The Hexagon Lavish</td>\n",
              "      <td>Job Description\\n\\nDo you have a knack for cre...</td>\n",
              "      <td>0.0</td>\n",
              "      <td>Atlanta, GA</td>\n",
              "    </tr>\n",
              "    <tr>\n",
              "      <th>114</th>\n",
              "      <td>Jr Microbiologist - CDC</td>\n",
              "      <td>G2S Corporation</td>\n",
              "      <td>C.1 – SCOPE OF WORKLaboratory work to be perfo...</td>\n",
              "      <td>0.0</td>\n",
              "      <td>Atlanta, GA</td>\n",
              "    </tr>\n",
              "    <tr>\n",
              "      <th>122</th>\n",
              "      <td>Mid Data Scientist - Machine Learning</td>\n",
              "      <td>Elev8 Hire Solutions</td>\n",
              "      <td>Mid Data Scientist\\nOur client in the Midtown ...</td>\n",
              "      <td>0.0</td>\n",
              "      <td>Atlanta, GA 30342</td>\n",
              "    </tr>\n",
              "    <tr>\n",
              "      <th>139</th>\n",
              "      <td>Principal Research Scientist I: Informational ...</td>\n",
              "      <td>The Hexagon Lavish</td>\n",
              "      <td>Job Description\\n\\nAre you turned-off to hype ...</td>\n",
              "      <td>0.0</td>\n",
              "      <td>Atlanta, GA</td>\n",
              "    </tr>\n",
              "    <tr>\n",
              "      <th>140</th>\n",
              "      <td>Market Research Analyst</td>\n",
              "      <td>SKIM</td>\n",
              "      <td>Job Description\\n\\nLearn to be responsible for...</td>\n",
              "      <td>0.0</td>\n",
              "      <td>Atlanta, GA</td>\n",
              "    </tr>\n",
              "    <tr>\n",
              "      <th>151</th>\n",
              "      <td>Senior Scientist, Immunology</td>\n",
              "      <td>GeoVax, Inc.</td>\n",
              "      <td>INTRODUCTIONGeoVax, an Atlanta-area clinical s...</td>\n",
              "      <td>0.0</td>\n",
              "      <td>Atlanta, GA</td>\n",
              "    </tr>\n",
              "    <tr>\n",
              "      <th>153</th>\n",
              "      <td>A Vigorously-Charged Scientific Programmer</td>\n",
              "      <td>The Hexagon Lavish</td>\n",
              "      <td>Job Description\\n\\nHexagon Lavish® is a scient...</td>\n",
              "      <td>0.0</td>\n",
              "      <td>Atlanta, GA</td>\n",
              "    </tr>\n",
              "    <tr>\n",
              "      <th>154</th>\n",
              "      <td>Software Engineer</td>\n",
              "      <td>FraudScope</td>\n",
              "      <td>FraudScope - the rapidly growing company that ...</td>\n",
              "      <td>0.0</td>\n",
              "      <td>Atlanta, GA</td>\n",
              "    </tr>\n",
              "    <tr>\n",
              "      <th>156</th>\n",
              "      <td>Director of Software</td>\n",
              "      <td>Bionic Sciences Inc.</td>\n",
              "      <td>Job Description\\n\\nWe are looking for a driven...</td>\n",
              "      <td>0.0</td>\n",
              "      <td>Atlanta, GA 30332</td>\n",
              "    </tr>\n",
              "    <tr>\n",
              "      <th>157</th>\n",
              "      <td>Certifying Scientist / Quantitation Scientist</td>\n",
              "      <td>Lighthouse Lab Services</td>\n",
              "      <td>A growing clinical toxicology laboratory in At...</td>\n",
              "      <td>0.0</td>\n",
              "      <td>Atlanta, GA</td>\n",
              "    </tr>\n",
              "    <tr>\n",
              "      <th>161</th>\n",
              "      <td>Data Scientist</td>\n",
              "      <td>Xpect SVC, LLC</td>\n",
              "      <td>Xpect Service is seeking a Geospatial Data Sci...</td>\n",
              "      <td>0.0</td>\n",
              "      <td>Atlanta, GA 30326</td>\n",
              "    </tr>\n",
              "    <tr>\n",
              "      <th>164</th>\n",
              "      <td>Windows Programmer / Software Engineer - Inter...</td>\n",
              "      <td>The Goal Inc.</td>\n",
              "      <td>Summary: This position supports the developmen...</td>\n",
              "      <td>0.0</td>\n",
              "      <td>Atlanta, GA</td>\n",
              "    </tr>\n",
              "    <tr>\n",
              "      <th>170</th>\n",
              "      <td>Windows Programmer / Software Engineer - Entry...</td>\n",
              "      <td>The Goal Inc.</td>\n",
              "      <td>Summary: This position supports the developmen...</td>\n",
              "      <td>0.0</td>\n",
              "      <td>Atlanta, GA</td>\n",
              "    </tr>\n",
              "    <tr>\n",
              "      <th>192</th>\n",
              "      <td>Various Professional, Technical, Administrativ...</td>\n",
              "      <td>Alaka`ina Foundation Family of Companies</td>\n",
              "      <td>The Alaka`ina Foundation Family of Companies (...</td>\n",
              "      <td>0.0</td>\n",
              "      <td>Atlanta, GA</td>\n",
              "    </tr>\n",
              "    <tr>\n",
              "      <th>196</th>\n",
              "      <td>Business Development Manager (Southeast Region)</td>\n",
              "      <td>Catapult Sports</td>\n",
              "      <td>Do you want to work for the world leader in el...</td>\n",
              "      <td>0.0</td>\n",
              "      <td>Atlanta, GA</td>\n",
              "    </tr>\n",
              "    <tr>\n",
              "      <th>199</th>\n",
              "      <td>Implementation Engineer (Machine Learning/Data...</td>\n",
              "      <td>eHire, LLC</td>\n",
              "      <td>Atlanta, GA\\nA world leader in Adaptive Behavi...</td>\n",
              "      <td>0.0</td>\n",
              "      <td>Atlanta, GA 30326</td>\n",
              "    </tr>\n",
              "    <tr>\n",
              "      <th>...</th>\n",
              "      <td>...</td>\n",
              "      <td>...</td>\n",
              "      <td>...</td>\n",
              "      <td>...</td>\n",
              "      <td>...</td>\n",
              "    </tr>\n",
              "    <tr>\n",
              "      <th>7008</th>\n",
              "      <td>Head of Design</td>\n",
              "      <td>Enlighted</td>\n",
              "      <td>ABOUT ENLIGHTED:\\n At Enlighted, we’ve created...</td>\n",
              "      <td>0.0</td>\n",
              "      <td>Sunnyvale, CA 94085</td>\n",
              "    </tr>\n",
              "    <tr>\n",
              "      <th>7010</th>\n",
              "      <td>Forward Deployed Solution Engineer</td>\n",
              "      <td>Petuum</td>\n",
              "      <td>ABOUT THE ROLEPetuum is seeking a high-perform...</td>\n",
              "      <td>0.0</td>\n",
              "      <td>Sunnyvale, CA</td>\n",
              "    </tr>\n",
              "    <tr>\n",
              "      <th>7014</th>\n",
              "      <td>Deep Learning Software Development Engineer</td>\n",
              "      <td>Lab126</td>\n",
              "      <td>Job Description\\nAmazon Lab126 is an inventive...</td>\n",
              "      <td>0.0</td>\n",
              "      <td>Sunnyvale, CA</td>\n",
              "    </tr>\n",
              "    <tr>\n",
              "      <th>7019</th>\n",
              "      <td>Knowledge Engineer</td>\n",
              "      <td>Lab126</td>\n",
              "      <td>Job Description\\nThe Alexa Information Team le...</td>\n",
              "      <td>0.0</td>\n",
              "      <td>Sunnyvale, CA</td>\n",
              "    </tr>\n",
              "    <tr>\n",
              "      <th>7032</th>\n",
              "      <td>AI Research/Software Development Engineer, Ale...</td>\n",
              "      <td>Lab126</td>\n",
              "      <td>Job Description\\nAlexa is the groundbreaking c...</td>\n",
              "      <td>0.0</td>\n",
              "      <td>Sunnyvale, CA</td>\n",
              "    </tr>\n",
              "    <tr>\n",
              "      <th>7034</th>\n",
              "      <td>3D Tools Software Engineer</td>\n",
              "      <td>Baidu USA</td>\n",
              "      <td>Baidu USA, located in Silicon Valley, is looki...</td>\n",
              "      <td>0.0</td>\n",
              "      <td>Sunnyvale, CA 94089</td>\n",
              "    </tr>\n",
              "    <tr>\n",
              "      <th>7035</th>\n",
              "      <td>Software Engineer - Tools and Infrastructure</td>\n",
              "      <td>Petuum, Inc</td>\n",
              "      <td>ABOUT THE ROLEPetuum is looking for Software E...</td>\n",
              "      <td>0.0</td>\n",
              "      <td>Sunnyvale, CA</td>\n",
              "    </tr>\n",
              "    <tr>\n",
              "      <th>7036</th>\n",
              "      <td>23103 Principal Data Scientist - HealthTech / ...</td>\n",
              "      <td>Redfish Technology - High Tech Executive Recru...</td>\n",
              "      <td>23103 Principal Data Scientist (Machine Learni...</td>\n",
              "      <td>0.0</td>\n",
              "      <td>Sunnyvale, CA</td>\n",
              "    </tr>\n",
              "    <tr>\n",
              "      <th>7041</th>\n",
              "      <td>Manager, TPMs</td>\n",
              "      <td>Lab126</td>\n",
              "      <td>Job Description\\nAmazon Lab126 is an inventive...</td>\n",
              "      <td>0.0</td>\n",
              "      <td>Sunnyvale, CA</td>\n",
              "    </tr>\n",
              "    <tr>\n",
              "      <th>7043</th>\n",
              "      <td>QA Software Engineer</td>\n",
              "      <td>Petuum, Inc</td>\n",
              "      <td>About PetuumToday’s Artificial Intelligence (A...</td>\n",
              "      <td>0.0</td>\n",
              "      <td>Sunnyvale, CA</td>\n",
              "    </tr>\n",
              "    <tr>\n",
              "      <th>7044</th>\n",
              "      <td>Sr Speech Scientist</td>\n",
              "      <td>Lab126</td>\n",
              "      <td>Job Description\\nAmazon Lab126 is an inventive...</td>\n",
              "      <td>0.0</td>\n",
              "      <td>Sunnyvale, CA</td>\n",
              "    </tr>\n",
              "    <tr>\n",
              "      <th>7046</th>\n",
              "      <td>Software Development Engineer</td>\n",
              "      <td>Lab126</td>\n",
              "      <td>Job Description\\nThe Amazon Devices team desig...</td>\n",
              "      <td>0.0</td>\n",
              "      <td>Sunnyvale, CA</td>\n",
              "    </tr>\n",
              "    <tr>\n",
              "      <th>7048</th>\n",
              "      <td>Software Engineer</td>\n",
              "      <td>Lab126</td>\n",
              "      <td>Job Description\\n\\nAmazon Lab126 is an inventi...</td>\n",
              "      <td>0.0</td>\n",
              "      <td>Sunnyvale, CA</td>\n",
              "    </tr>\n",
              "    <tr>\n",
              "      <th>7060</th>\n",
              "      <td>Sr. Machine Learning Engineer</td>\n",
              "      <td>Lab126</td>\n",
              "      <td>Job Description\\nAmazon Lab126 is an inventive...</td>\n",
              "      <td>0.0</td>\n",
              "      <td>Sunnyvale, CA</td>\n",
              "    </tr>\n",
              "    <tr>\n",
              "      <th>7065</th>\n",
              "      <td>Sr. Hardware Audio Engineer</td>\n",
              "      <td>Lab126</td>\n",
              "      <td>Job Description\\nAmazon Lab126 is an inventive...</td>\n",
              "      <td>0.0</td>\n",
              "      <td>Sunnyvale, CA</td>\n",
              "    </tr>\n",
              "    <tr>\n",
              "      <th>7067</th>\n",
              "      <td>Materials (Quality) Engineer</td>\n",
              "      <td>Stealth Mode Startup Company</td>\n",
              "      <td>A Silicon Valley stealth stage startup has the...</td>\n",
              "      <td>0.0</td>\n",
              "      <td>Sunnyvale, CA 94086</td>\n",
              "    </tr>\n",
              "    <tr>\n",
              "      <th>7075</th>\n",
              "      <td>Senior Data Scientist, Algorithms and Machine ...</td>\n",
              "      <td>Redfish Technology - High Tech Executive Recru...</td>\n",
              "      <td>23238 Senior Data Scientist, Algorithms and Ma...</td>\n",
              "      <td>0.0</td>\n",
              "      <td>Sunnyvale, CA</td>\n",
              "    </tr>\n",
              "    <tr>\n",
              "      <th>7087</th>\n",
              "      <td>Senior Research Engineer, Alexa</td>\n",
              "      <td>Lab126</td>\n",
              "      <td>Job Description\\nAlexa is the groundbreaking c...</td>\n",
              "      <td>0.0</td>\n",
              "      <td>Sunnyvale, CA</td>\n",
              "    </tr>\n",
              "    <tr>\n",
              "      <th>7093</th>\n",
              "      <td>Sr. UI Developer</td>\n",
              "      <td>Petuum, Inc</td>\n",
              "      <td>ABOUT THE ROLEPetuum is seeking experienced UI...</td>\n",
              "      <td>0.0</td>\n",
              "      <td>Sunnyvale, CA</td>\n",
              "    </tr>\n",
              "    <tr>\n",
              "      <th>7100</th>\n",
              "      <td>Senior Growth Analyst</td>\n",
              "      <td>Harnham</td>\n",
              "      <td>SENIOR GROWTH ANALYST\\n$95K + Stocks + Benefit...</td>\n",
              "      <td>0.0</td>\n",
              "      <td>Sunnyvale, CA</td>\n",
              "    </tr>\n",
              "    <tr>\n",
              "      <th>7103</th>\n",
              "      <td>Sr. Technical Program Manager</td>\n",
              "      <td>Lab126</td>\n",
              "      <td>Job Description\\n\\nAmazon Lab126 is an inventi...</td>\n",
              "      <td>0.0</td>\n",
              "      <td>Sunnyvale, CA</td>\n",
              "    </tr>\n",
              "    <tr>\n",
              "      <th>7121</th>\n",
              "      <td>Senior Front End Engineer</td>\n",
              "      <td>Petuum, Inc</td>\n",
              "      <td>About Petuum:Today’s Artificial Intelligence (...</td>\n",
              "      <td>0.0</td>\n",
              "      <td>Sunnyvale, CA</td>\n",
              "    </tr>\n",
              "    <tr>\n",
              "      <th>7136</th>\n",
              "      <td>Security Scientist</td>\n",
              "      <td>Baidu USA</td>\n",
              "      <td>Baidu USA, headquartered in Silicon Valley, is...</td>\n",
              "      <td>0.0</td>\n",
              "      <td>Sunnyvale, CA 94089</td>\n",
              "    </tr>\n",
              "    <tr>\n",
              "      <th>7138</th>\n",
              "      <td>Applied Scientist</td>\n",
              "      <td>Lab126</td>\n",
              "      <td>Job Description\\nAmazon Lab126 is an inventive...</td>\n",
              "      <td>0.0</td>\n",
              "      <td>Sunnyvale, CA</td>\n",
              "    </tr>\n",
              "    <tr>\n",
              "      <th>7139</th>\n",
              "      <td>Research Scientist - IDL (Robotics)</td>\n",
              "      <td>Baidu USA</td>\n",
              "      <td>The Baidu IDL Robotics group is developing sol...</td>\n",
              "      <td>0.0</td>\n",
              "      <td>Sunnyvale, CA 94089</td>\n",
              "    </tr>\n",
              "    <tr>\n",
              "      <th>7149</th>\n",
              "      <td>Data Scientist</td>\n",
              "      <td>Linc Global, Inc.</td>\n",
              "      <td>Why you should join:\\n\\nJoin us in building th...</td>\n",
              "      <td>0.0</td>\n",
              "      <td>Sunnyvale, CA</td>\n",
              "    </tr>\n",
              "    <tr>\n",
              "      <th>7150</th>\n",
              "      <td>Data Scientist - Alexa Language Technologies</td>\n",
              "      <td>Lab126</td>\n",
              "      <td>Job Description\\nAmazon Lab126 is an inventive...</td>\n",
              "      <td>0.0</td>\n",
              "      <td>Sunnyvale, CA</td>\n",
              "    </tr>\n",
              "    <tr>\n",
              "      <th>7156</th>\n",
              "      <td>Data Scientist / Data Analyst</td>\n",
              "      <td>Arosys</td>\n",
              "      <td>Are you a driven and inquisitive data scientis...</td>\n",
              "      <td>0.0</td>\n",
              "      <td>Sunnyvale, CA</td>\n",
              "    </tr>\n",
              "    <tr>\n",
              "      <th>7157</th>\n",
              "      <td>Data Scientist, Customer Interests &amp; Personali...</td>\n",
              "      <td>Lab126</td>\n",
              "      <td>Job Description\\nTo truly become the worlds mo...</td>\n",
              "      <td>0.0</td>\n",
              "      <td>Sunnyvale, CA</td>\n",
              "    </tr>\n",
              "    <tr>\n",
              "      <th>7171</th>\n",
              "      <td>Image processing Deep learning Research Scientist</td>\n",
              "      <td>Whiterabbit.ai</td>\n",
              "      <td>Whiterabbit.ai is a leading venture-backed sta...</td>\n",
              "      <td>0.0</td>\n",
              "      <td>Sunnyvale, CA 94085</td>\n",
              "    </tr>\n",
              "  </tbody>\n",
              "</table>\n",
              "<p>1649 rows × 5 columns</p>\n",
              "</div>"
            ],
            "text/plain": [
              "                                               position  ...             location\n",
              "0                                  Development Director  ...   Atlanta, GA 30301 \n",
              "1     An Ostentatiously-Excitable Principal Research...  ...          Atlanta, GA\n",
              "2                                        Data Scientist  ...          Atlanta, GA\n",
              "18                                       Data Scientist  ...          Atlanta, GA\n",
              "19                                       Data Scientist  ...          Atlanta, GA\n",
              "25                                       Data Scientist  ...          Atlanta, GA\n",
              "26                 Data Scientist 1 – AP Forensics Team  ...          Atlanta, GA\n",
              "38                                       Data Scientist  ...          Atlanta, GA\n",
              "48                        Chief Deep Learning Scientist  ...          Atlanta, GA\n",
              "53                                  Statistical Analyst  ...          Atlanta, GA\n",
              "54                                   VP, Data Analytics  ...          Atlanta, GA\n",
              "55                              Lead Decision Scientist  ...   Atlanta, GA 30313 \n",
              "65                                   Research Scientist  ...          Atlanta, GA\n",
              "84                                   Research Scientist  ...          Atlanta, GA\n",
              "106   Staff Research Scientist VII: Informational In...  ...          Atlanta, GA\n",
              "114                             Jr Microbiologist - CDC  ...          Atlanta, GA\n",
              "122               Mid Data Scientist - Machine Learning  ...   Atlanta, GA 30342 \n",
              "139   Principal Research Scientist I: Informational ...  ...          Atlanta, GA\n",
              "140                             Market Research Analyst  ...          Atlanta, GA\n",
              "151                        Senior Scientist, Immunology  ...          Atlanta, GA\n",
              "153          A Vigorously-Charged Scientific Programmer  ...          Atlanta, GA\n",
              "154                                   Software Engineer  ...          Atlanta, GA\n",
              "156                                Director of Software  ...   Atlanta, GA 30332 \n",
              "157       Certifying Scientist / Quantitation Scientist  ...          Atlanta, GA\n",
              "161                                      Data Scientist  ...   Atlanta, GA 30326 \n",
              "164   Windows Programmer / Software Engineer - Inter...  ...          Atlanta, GA\n",
              "170   Windows Programmer / Software Engineer - Entry...  ...          Atlanta, GA\n",
              "192   Various Professional, Technical, Administrativ...  ...          Atlanta, GA\n",
              "196     Business Development Manager (Southeast Region)  ...          Atlanta, GA\n",
              "199   Implementation Engineer (Machine Learning/Data...  ...   Atlanta, GA 30326 \n",
              "...                                                 ...  ...                  ...\n",
              "7008                                     Head of Design  ...  Sunnyvale, CA 94085\n",
              "7010                 Forward Deployed Solution Engineer  ...        Sunnyvale, CA\n",
              "7014        Deep Learning Software Development Engineer  ...        Sunnyvale, CA\n",
              "7019                                 Knowledge Engineer  ...        Sunnyvale, CA\n",
              "7032  AI Research/Software Development Engineer, Ale...  ...        Sunnyvale, CA\n",
              "7034                         3D Tools Software Engineer  ...  Sunnyvale, CA 94089\n",
              "7035       Software Engineer - Tools and Infrastructure  ...        Sunnyvale, CA\n",
              "7036  23103 Principal Data Scientist - HealthTech / ...  ...        Sunnyvale, CA\n",
              "7041                                      Manager, TPMs  ...        Sunnyvale, CA\n",
              "7043                               QA Software Engineer  ...        Sunnyvale, CA\n",
              "7044                                Sr Speech Scientist  ...        Sunnyvale, CA\n",
              "7046                      Software Development Engineer  ...        Sunnyvale, CA\n",
              "7048                                  Software Engineer  ...        Sunnyvale, CA\n",
              "7060                      Sr. Machine Learning Engineer  ...        Sunnyvale, CA\n",
              "7065                        Sr. Hardware Audio Engineer  ...        Sunnyvale, CA\n",
              "7067                       Materials (Quality) Engineer  ...  Sunnyvale, CA 94086\n",
              "7075  Senior Data Scientist, Algorithms and Machine ...  ...        Sunnyvale, CA\n",
              "7087                    Senior Research Engineer, Alexa  ...        Sunnyvale, CA\n",
              "7093                                   Sr. UI Developer  ...        Sunnyvale, CA\n",
              "7100                              Senior Growth Analyst  ...        Sunnyvale, CA\n",
              "7103                      Sr. Technical Program Manager  ...        Sunnyvale, CA\n",
              "7121                          Senior Front End Engineer  ...        Sunnyvale, CA\n",
              "7136                                 Security Scientist  ...  Sunnyvale, CA 94089\n",
              "7138                                  Applied Scientist  ...        Sunnyvale, CA\n",
              "7139                Research Scientist - IDL (Robotics)  ...  Sunnyvale, CA 94089\n",
              "7149                                     Data Scientist  ...        Sunnyvale, CA\n",
              "7150       Data Scientist - Alexa Language Technologies  ...        Sunnyvale, CA\n",
              "7156                      Data Scientist / Data Analyst  ...        Sunnyvale, CA\n",
              "7157  Data Scientist, Customer Interests & Personali...  ...        Sunnyvale, CA\n",
              "7171  Image processing Deep learning Research Scientist  ...  Sunnyvale, CA 94085\n",
              "\n",
              "[1649 rows x 5 columns]"
            ]
          },
          "metadata": {
            "tags": []
          },
          "execution_count": 70
        }
      ]
    }
  ]
}