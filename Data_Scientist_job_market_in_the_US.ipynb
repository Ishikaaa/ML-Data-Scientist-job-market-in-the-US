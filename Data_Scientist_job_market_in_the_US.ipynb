{
  "nbformat": 4,
  "nbformat_minor": 0,
  "metadata": {
    "colab": {
      "name": "Data_Scientist_job_market_in_the_US.ipynb",
      "version": "0.3.2",
      "provenance": [],
      "include_colab_link": true
    },
    "kernelspec": {
      "name": "python3",
      "display_name": "Python 3"
    }
  },
  "cells": [
    {
      "cell_type": "markdown",
      "metadata": {
        "id": "view-in-github",
        "colab_type": "text"
      },
      "source": [
        "<a href=\"https://colab.research.google.com/github/Ishikaaa/ML-Data-Scientist-job-market-in-the-US/blob/master/Data_Scientist_job_market_in_the_US.ipynb\" target=\"_parent\"><img src=\"https://colab.research.google.com/assets/colab-badge.svg\" alt=\"Open In Colab\"/></a>"
      ]
    },
    {
      "cell_type": "markdown",
      "metadata": {
        "id": "h50pxSUvPS7T",
        "colab_type": "text"
      },
      "source": [
        "# ***1. Importing Libraries - ***"
      ]
    },
    {
      "cell_type": "code",
      "metadata": {
        "id": "ykYZvBjyNoi3",
        "colab_type": "code",
        "colab": {}
      },
      "source": [
        "import pandas as pd \n",
        "import numpy as np "
      ],
      "execution_count": 0,
      "outputs": []
    },
    {
      "cell_type": "code",
      "metadata": {
        "id": "f5Gb8s5lPeW4",
        "colab_type": "code",
        "colab": {
          "base_uri": "https://localhost:8080/",
          "height": 204
        },
        "outputId": "65a7cdb3-dab1-4b61-81c3-76556fa03efb"
      },
      "source": [
        "dataset=pd.read_csv(\"alldata.csv\")\n",
        "dataset.head()"
      ],
      "execution_count": 4,
      "outputs": [
        {
          "output_type": "execute_result",
          "data": {
            "text/html": [
              "<div>\n",
              "<style scoped>\n",
              "    .dataframe tbody tr th:only-of-type {\n",
              "        vertical-align: middle;\n",
              "    }\n",
              "\n",
              "    .dataframe tbody tr th {\n",
              "        vertical-align: top;\n",
              "    }\n",
              "\n",
              "    .dataframe thead th {\n",
              "        text-align: right;\n",
              "    }\n",
              "</style>\n",
              "<table border=\"1\" class=\"dataframe\">\n",
              "  <thead>\n",
              "    <tr style=\"text-align: right;\">\n",
              "      <th></th>\n",
              "      <th>position</th>\n",
              "      <th>company</th>\n",
              "      <th>description</th>\n",
              "      <th>reviews</th>\n",
              "      <th>location</th>\n",
              "    </tr>\n",
              "  </thead>\n",
              "  <tbody>\n",
              "    <tr>\n",
              "      <th>0</th>\n",
              "      <td>Development Director</td>\n",
              "      <td>ALS TDI</td>\n",
              "      <td>Development Director\\nALS Therapy Development ...</td>\n",
              "      <td>NaN</td>\n",
              "      <td>Atlanta, GA 30301</td>\n",
              "    </tr>\n",
              "    <tr>\n",
              "      <th>1</th>\n",
              "      <td>An Ostentatiously-Excitable Principal Research...</td>\n",
              "      <td>The Hexagon Lavish</td>\n",
              "      <td>Job Description\\n\\n\"The road that leads to acc...</td>\n",
              "      <td>NaN</td>\n",
              "      <td>Atlanta, GA</td>\n",
              "    </tr>\n",
              "    <tr>\n",
              "      <th>2</th>\n",
              "      <td>Data Scientist</td>\n",
              "      <td>Xpert Staffing</td>\n",
              "      <td>Growing company located in the Atlanta, GA are...</td>\n",
              "      <td>NaN</td>\n",
              "      <td>Atlanta, GA</td>\n",
              "    </tr>\n",
              "    <tr>\n",
              "      <th>3</th>\n",
              "      <td>Data Analyst</td>\n",
              "      <td>Operation HOPE</td>\n",
              "      <td>DEPARTMENT: Program OperationsPOSITION LOCATIO...</td>\n",
              "      <td>44.0</td>\n",
              "      <td>Atlanta, GA 30303</td>\n",
              "    </tr>\n",
              "    <tr>\n",
              "      <th>4</th>\n",
              "      <td>Assistant Professor -TT - Signal Processing &amp; ...</td>\n",
              "      <td>Emory University</td>\n",
              "      <td>DESCRIPTION\\nThe Emory University Department o...</td>\n",
              "      <td>550.0</td>\n",
              "      <td>Atlanta, GA</td>\n",
              "    </tr>\n",
              "  </tbody>\n",
              "</table>\n",
              "</div>"
            ],
            "text/plain": [
              "                                            position  ...            location\n",
              "0                               Development Director  ...  Atlanta, GA 30301 \n",
              "1  An Ostentatiously-Excitable Principal Research...  ...         Atlanta, GA\n",
              "2                                     Data Scientist  ...         Atlanta, GA\n",
              "3                                       Data Analyst  ...  Atlanta, GA 30303 \n",
              "4  Assistant Professor -TT - Signal Processing & ...  ...         Atlanta, GA\n",
              "\n",
              "[5 rows x 5 columns]"
            ]
          },
          "metadata": {
            "tags": []
          },
          "execution_count": 4
        }
      ]
    },
    {
      "cell_type": "code",
      "metadata": {
        "id": "ZLdG8HBaU_NP",
        "colab_type": "code",
        "colab": {
          "base_uri": "https://localhost:8080/",
          "height": 34
        },
        "outputId": "9ff2f293-b836-467a-eb73-437de57d1542"
      },
      "source": [
        "dataset.shape "
      ],
      "execution_count": 5,
      "outputs": [
        {
          "output_type": "execute_result",
          "data": {
            "text/plain": [
              "(7183, 5)"
            ]
          },
          "metadata": {
            "tags": []
          },
          "execution_count": 5
        }
      ]
    },
    {
      "cell_type": "markdown",
      "metadata": {
        "id": "7pd6k9PhVNQz",
        "colab_type": "text"
      },
      "source": [
        "# ***Handling Missing Data - ***"
      ]
    },
    {
      "cell_type": "code",
      "metadata": {
        "id": "KJ4hRJ6zVBRC",
        "colab_type": "code",
        "colab": {
          "base_uri": "https://localhost:8080/",
          "height": 119
        },
        "outputId": "cea17055-3dc5-496f-c910-ef46c6261c13"
      },
      "source": [
        "dataset.isnull().sum()"
      ],
      "execution_count": 6,
      "outputs": [
        {
          "output_type": "execute_result",
          "data": {
            "text/plain": [
              "position         11\n",
              "company          11\n",
              "description      11\n",
              "reviews        1660\n",
              "location         11\n",
              "dtype: int64"
            ]
          },
          "metadata": {
            "tags": []
          },
          "execution_count": 6
        }
      ]
    },
    {
      "cell_type": "code",
      "metadata": {
        "id": "l6LDRmNIXKcT",
        "colab_type": "code",
        "colab": {
          "base_uri": "https://localhost:8080/",
          "height": 34
        },
        "outputId": "3d4910b8-c8e0-4194-ceff-559828257722"
      },
      "source": [
        "# removing that rows in which all colunms are null \n",
        "dataset = dataset.dropna(how='all',axis=0)\n",
        "dataset.shape"
      ],
      "execution_count": 23,
      "outputs": [
        {
          "output_type": "execute_result",
          "data": {
            "text/plain": [
              "(7172, 5)"
            ]
          },
          "metadata": {
            "tags": []
          },
          "execution_count": 23
        }
      ]
    },
    {
      "cell_type": "code",
      "metadata": {
        "id": "7bfZfkMTXU8o",
        "colab_type": "code",
        "colab": {
          "base_uri": "https://localhost:8080/",
          "height": 119
        },
        "outputId": "4c1c2d93-8e1c-479d-f3f5-675286f203ea"
      },
      "source": [
        "dataset.isnull().sum()"
      ],
      "execution_count": 24,
      "outputs": [
        {
          "output_type": "execute_result",
          "data": {
            "text/plain": [
              "position          0\n",
              "company           0\n",
              "description       0\n",
              "reviews        1649\n",
              "location          0\n",
              "dtype: int64"
            ]
          },
          "metadata": {
            "tags": []
          },
          "execution_count": 24
        }
      ]
    },
    {
      "cell_type": "code",
      "metadata": {
        "id": "LN8cTOjmXbHB",
        "colab_type": "code",
        "colab": {
          "base_uri": "https://localhost:8080/",
          "height": 34
        },
        "outputId": "7c422ce0-c47c-4033-c238-121be8e389ea"
      },
      "source": [
        "# remove that rows which do not have any review \n",
        "dataset=dataset.dropna(how='any',axis=0)\n",
        "dataset.shape "
      ],
      "execution_count": 29,
      "outputs": [
        {
          "output_type": "execute_result",
          "data": {
            "text/plain": [
              "(5523, 5)"
            ]
          },
          "metadata": {
            "tags": []
          },
          "execution_count": 29
        }
      ]
    },
    {
      "cell_type": "code",
      "metadata": {
        "id": "AYS7Jpdxbw-r",
        "colab_type": "code",
        "colab": {
          "base_uri": "https://localhost:8080/",
          "height": 119
        },
        "outputId": "7661a2d2-d531-4cc7-ca99-1ee275e83192"
      },
      "source": [
        "dataset.isnull().sum()"
      ],
      "execution_count": 30,
      "outputs": [
        {
          "output_type": "execute_result",
          "data": {
            "text/plain": [
              "position       0\n",
              "company        0\n",
              "description    0\n",
              "reviews        0\n",
              "location       0\n",
              "dtype: int64"
            ]
          },
          "metadata": {
            "tags": []
          },
          "execution_count": 30
        }
      ]
    },
    {
      "cell_type": "markdown",
      "metadata": {
        "id": "aQ5dXshBdgt_",
        "colab_type": "text"
      },
      "source": [
        ""
      ]
    },
    {
      "cell_type": "code",
      "metadata": {
        "id": "FdkWW1F5d143",
        "colab_type": "code",
        "colab": {
          "base_uri": "https://localhost:8080/",
          "height": 1071
        },
        "outputId": "7a329995-ab1e-48b8-cd2e-4b4401a9a59a"
      },
      "source": [
        "dataset['position'].value_counts()"
      ],
      "execution_count": 32,
      "outputs": [
        {
          "output_type": "execute_result",
          "data": {
            "text/plain": [
              "Data Scientist                                                                         207\n",
              "Senior Data Scientist                                                                   53\n",
              "Research Analyst                                                                        44\n",
              "Data Engineer                                                                           39\n",
              "Machine Learning Engineer                                                               26\n",
              "Sr. Data Scientist                                                                      22\n",
              "Principal Data Scientist                                                                20\n",
              "Quantitative Analyst                                                                    20\n",
              "Research Scientist                                                                      20\n",
              "Lead Data Scientist                                                                     17\n",
              "Data Analyst                                                                            16\n",
              "Software Engineer                                                                       15\n",
              "Software Engineer, Machine Learning                                                     12\n",
              "Scientist                                                                               12\n",
              "Market Research Analyst                                                                 12\n",
              "Senior Research Analyst                                                                 11\n",
              "Product Manager                                                                         11\n",
              "Student Research Collaboration                                                          10\n",
              "Machine Learning Scientist                                                               9\n",
              "Senior Software Engineer                                                                 9\n",
              "Staff Data Scientist                                                                     9\n",
              "Senior Scientist                                                                         9\n",
              "Sr. Data Engineer                                                                        9\n",
              "Research Associate                                                                       9\n",
              "Senior Data Engineer                                                                     8\n",
              "Senior Machine Learning Scientist                                                        7\n",
              "Bioinformatics Scientist                                                                 7\n",
              "Manager, Data Science                                                                    7\n",
              "Director, Data Science                                                                   7\n",
              "Senior Associate, Data Scientist                                                         7\n",
              "                                                                                      ... \n",
              "Scientist - Virologist                                                                   1\n",
              "Sr Pharmacovigilance Scientist                                                           1\n",
              "SOM DIRECTOR - CLINICAL DEPARTMENT                                                       1\n",
              "Technical Application Scientist                                                          1\n",
              "IT Specialist (Applications Software)                                                    1\n",
              "Principal TPM                                                                            1\n",
              "Principal Software Engineer (Search -Machine Learning)                                   1\n",
              "Technical Development Scientist/Associate Scientist - Data Management and Analytics      1\n",
              "CS Success Specialist I                                                                  1\n",
              "Senior Environmental Planning Professional                                               1\n",
              "Change and Communications Lead, Strategy and Operations                                  1\n",
              "PHC Senior Scientist, Omics                                                              1\n",
              "Process Development Associate – Pivotal Drug Substance                                   1\n",
              "HLS - Statistical Quality Lead                                                           1\n",
              "Technical Program Manager, Data Infrastructure and Analysis                              1\n",
              "Senior Analyst                                                                           1\n",
              "Sr. Scientist, Vector Engineering                                                        1\n",
              "Downstream Process Development - Scientist (Entry to Director level)                     1\n",
              "Software Engineer, Machine Learning, ATAP                                                1\n",
              "Recombinant Antibody Scientist (Flex-T)                                                  1\n",
              "Research Associate, Sr.                                                                  1\n",
              "Research Analyst (Diversity)                                                             1\n",
              "Android Software Engineer                                                                1\n",
              "Developer                                                                                1\n",
              "Research Staff Member, AI Computer Vision                                                1\n",
              "FinTech Startup Data Scientist                                                           1\n",
              "Water Resources Engineer 5                                                               1\n",
              "Senior Software Engineer, Machine Learning                                               1\n",
              "Scientist II/Ecologist II                                                                1\n",
              "Cloud DevSecOps Engineer                                                                 1\n",
              "Name: position, Length: 4221, dtype: int64"
            ]
          },
          "metadata": {
            "tags": []
          },
          "execution_count": 32
        }
      ]
    },
    {
      "cell_type": "code",
      "metadata": {
        "id": "fVfR0VK6d-Od",
        "colab_type": "code",
        "colab": {
          "base_uri": "https://localhost:8080/",
          "height": 1071
        },
        "outputId": "79567eed-b1b5-45a5-ea09-090a434348dc"
      },
      "source": [
        "dataset['company'].value_counts()"
      ],
      "execution_count": 33,
      "outputs": [
        {
          "output_type": "execute_result",
          "data": {
            "text/plain": [
              "Amazon.com                                               357\n",
              "Ball Aerospace                                           348\n",
              "Google                                                   138\n",
              "Microsoft                                                137\n",
              "NYU Langone Health                                        76\n",
              "Fred Hutchinson Cancer Research Center                    70\n",
              "KPMG                                                      66\n",
              "Broad Institute                                           49\n",
              "Facebook                                                  49\n",
              "Walmart eCommerce                                         45\n",
              "McKinsey & Company                                        41\n",
              "Takeda Pharmaceutical                                     39\n",
              "University of Washington                                  39\n",
              "Celgene Corporation                                       34\n",
              "Pharmacyclics, an Abbvie Company                          34\n",
              "Oath Inc                                                  34\n",
              "Cymer                                                     32\n",
              "Brigham & Women's Hospital(BWH)                           31\n",
              "Biogen                                                    30\n",
              "Amgen                                                     28\n",
              "Illumina                                                  27\n",
              "JP Morgan Chase                                           27\n",
              "Jacobs                                                    27\n",
              "Sanofi                                                    27\n",
              "JD.com                                                    26\n",
              "JUUL Labs                                                 26\n",
              "Zillow Group                                              26\n",
              "Cedars-Sinai                                              24\n",
              "CDK Global                                                24\n",
              "University of Colorado                                    24\n",
              "                                                        ... \n",
              "Hampton-Clarke, Inc                                        1\n",
              "Carney                                                     1\n",
              "CONSUMER AFFAIRS                                           1\n",
              "Promega Corporation                                        1\n",
              "The Catholic University of America                         1\n",
              "Sotheby’s                                                  1\n",
              "Washington Metropolitan Area Transit Authority             1\n",
              "FabFitFun                                                  1\n",
              "University of California San Francisco Medical Center      1\n",
              "DEPARTMENT OF SANITATION                                   1\n",
              "Teracore                                                   1\n",
              "Nexient                                                    1\n",
              "Starbucks                                                  1\n",
              "Gartner                                                    1\n",
              "The College Board                                          1\n",
              "HD Supply                                                  1\n",
              "CUNA Mutual Group                                          1\n",
              "Vungle                                                     1\n",
              "Streetline                                                 1\n",
              "The Nerdery                                                1\n",
              "GEI Consultants Inc                                        1\n",
              "Chegg                                                      1\n",
              "Center for Infectious Disease Research                     1\n",
              "Union Bank                                                 1\n",
              "Newmark Knight Frank                                       1\n",
              "Grenzebach Glier and Associates                            1\n",
              "UCB                                                        1\n",
              "National Debt Relief                                       1\n",
              "UST Global Inc.                                            1\n",
              "UHY LLP                                                    1\n",
              "Name: company, Length: 1302, dtype: int64"
            ]
          },
          "metadata": {
            "tags": []
          },
          "execution_count": 33
        }
      ]
    },
    {
      "cell_type": "code",
      "metadata": {
        "id": "U66h1j7UeNWT",
        "colab_type": "code",
        "colab": {
          "base_uri": "https://localhost:8080/",
          "height": 1071
        },
        "outputId": "3bc7321c-9677-4957-df7a-3d033b28ef9f"
      },
      "source": [
        "dataset['reviews'].value_counts()"
      ],
      "execution_count": 35,
      "outputs": [
        {
          "output_type": "execute_result",
          "data": {
            "text/plain": [
              "108.0      354\n",
              "25902.0    224\n",
              "2.0        191\n",
              "5.0        139\n",
              "4.0        133\n",
              "4618.0     118\n",
              "2474.0     110\n",
              "3.0        101\n",
              "6.0         94\n",
              "25895.0     89\n",
              "7.0         79\n",
              "705.0       76\n",
              "91.0        71\n",
              "8.0         68\n",
              "15.0        66\n",
              "838.0       62\n",
              "32.0        55\n",
              "11.0        54\n",
              "366.0       49\n",
              "14.0        48\n",
              "12.0        46\n",
              "141.0       46\n",
              "26.0        42\n",
              "70.0        42\n",
              "385.0       41\n",
              "10.0        41\n",
              "530.0       39\n",
              "52.0        39\n",
              "17.0        36\n",
              "182.0       35\n",
              "          ... \n",
              "3578.0       1\n",
              "242.0        1\n",
              "222.0        1\n",
              "2203.0       1\n",
              "25909.0      1\n",
              "2189.0       1\n",
              "415.0        1\n",
              "694.0        1\n",
              "723.0        1\n",
              "312.0        1\n",
              "1516.0       1\n",
              "55.0         1\n",
              "49.0         1\n",
              "3027.0       1\n",
              "11607.0      1\n",
              "1947.0       1\n",
              "131.0        1\n",
              "177.0        1\n",
              "63.0         1\n",
              "228.0        1\n",
              "892.0        1\n",
              "2431.0       1\n",
              "2647.0       1\n",
              "447.0        1\n",
              "1959.0       1\n",
              "6868.0       1\n",
              "1366.0       1\n",
              "21949.0      1\n",
              "290.0        1\n",
              "378.0        1\n",
              "Name: reviews, Length: 560, dtype: int64"
            ]
          },
          "metadata": {
            "tags": []
          },
          "execution_count": 35
        }
      ]
    },
    {
      "cell_type": "code",
      "metadata": {
        "id": "Pdi8aLrie29r",
        "colab_type": "code",
        "colab": {
          "base_uri": "https://localhost:8080/",
          "height": 54
        },
        "outputId": "18ec75c5-d5a7-4e52-c8d6-43b7674543a2"
      },
      "source": [
        "dataset['description'][3]"
      ],
      "execution_count": 40,
      "outputs": [
        {
          "output_type": "execute_result",
          "data": {
            "text/plain": [
              "\"DEPARTMENT: Program OperationsPOSITION LOCATIONS: Atlanta, GA.ACCOUNTABILITY:  President of Program OperationsFor 25 years Operation HOPE has been dedicated to empowering underserved communities through financial literacy, now our work encompasses more than financial education. Our work is about instilling knowledge and confidence in those we serve so they can experience, sometimes for the first time in their lives, financial dignity.JOB SUMMARYThe data analyst collects, organizes, mines, analyzes, and audits large sets of data for impact reporting and operational optimization. The Data Analyst participates as a team member responsible for maintaining the integrity of client database information and provides executable and actionable recommendations for data migration best practices and field operations based on analytical findings.DUTIES AND RESPONSIBILITIESInitiate and participate in data mining and reportingAudit and profile the data to assess the impact of poor quality data on the organization’s performance and impacts.Conduct A/B testing based on different hypotheses that directly and indirectly impact operational key performance indicators.Create and support data visualization through operational and executive dashboards.Import/Collect, clean, convert and analyze data for the purpose of find insights and making conclusions.Design and develop relational databases for collecting data.Monitor the performance of data systems and if there are any issues then respond to the same.Keep a track of trends, patterns and correlation in case of complex data sets.Prepare concise data reports and data visualizations for the management that will help in decision-making process.Assist the data scientist in development of new analytical tools and methods as and when required.REQUIRED SKILLS AND EDUCATIONBachelor’s DegreeTwo or more years as a data analyst in related fieldAble to understand various data structures and common methods in data transformationExperience in basic statistical modeling and reportingExperience in SQL, relational databases, database concepts, dimensional modeling and database designProficient in one or more programming languages: R, Python, STATA, SASExperience with Caseworthy, SQL and TableauEEOSTATEMENTOperation HOPE is an Equal Opportunity Employer, all qualified applicants will receive consideration for employment without regard to race, color, religion, sex, age, national origin, protected veteran status, disability status, sexual orientation, gender identity or expression, marital status, genetic information or any other characteristic protected by law.Job Type: Full-timeSalary: $50,000.00 to $60,000.00 /yearExperience:data analyst in related field: 2 yearsbasic statistical modeling and reporting: 2 yearsProgramming languages: R, Python, STATA, SAS: 2 yearsSQL, relational databases, database concepts/design: 2 yearsCaseworthy, SQL and Tableau: 1 yearEducation:Bachelor'sLocation:Atlanta, GA\""
            ]
          },
          "metadata": {
            "tags": []
          },
          "execution_count": 40
        }
      ]
    }
  ]
}