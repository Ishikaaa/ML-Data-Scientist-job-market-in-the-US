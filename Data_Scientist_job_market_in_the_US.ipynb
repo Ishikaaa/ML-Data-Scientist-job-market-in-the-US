{
  "nbformat": 4,
  "nbformat_minor": 0,
  "metadata": {
    "colab": {
      "name": "Data_Scientist_job_market_in_the_US.ipynb",
      "version": "0.3.2",
      "provenance": [],
      "collapsed_sections": [],
      "include_colab_link": true
    },
    "kernelspec": {
      "name": "python3",
      "display_name": "Python 3"
    }
  },
  "cells": [
    {
      "cell_type": "markdown",
      "metadata": {
        "id": "view-in-github",
        "colab_type": "text"
      },
      "source": [
        "<a href=\"https://colab.research.google.com/github/Ishikaaa/ML-Data-Scientist-job-market-in-the-US/blob/master/Data_Scientist_job_market_in_the_US.ipynb\" target=\"_parent\"><img src=\"https://colab.research.google.com/assets/colab-badge.svg\" alt=\"Open In Colab\"/></a>"
      ]
    },
    {
      "cell_type": "markdown",
      "metadata": {
        "id": "h50pxSUvPS7T",
        "colab_type": "text"
      },
      "source": [
        "# ***1. Importing Libraries - ***"
      ]
    },
    {
      "cell_type": "code",
      "metadata": {
        "id": "ykYZvBjyNoi3",
        "colab_type": "code",
        "colab": {}
      },
      "source": [
        "import pandas as pd \n",
        "import numpy as np \n",
        "import re \n",
        "import seaborn as sns "
      ],
      "execution_count": 0,
      "outputs": []
    },
    {
      "cell_type": "code",
      "metadata": {
        "id": "f5Gb8s5lPeW4",
        "colab_type": "code",
        "outputId": "cb8edd62-fd11-448c-a131-cd287219638f",
        "colab": {
          "base_uri": "https://localhost:8080/",
          "height": 204
        }
      },
      "source": [
        "dataset=pd.read_csv(\"alldata.csv\")\n",
        "dataset.head()"
      ],
      "execution_count": 53,
      "outputs": [
        {
          "output_type": "execute_result",
          "data": {
            "text/html": [
              "<div>\n",
              "<style scoped>\n",
              "    .dataframe tbody tr th:only-of-type {\n",
              "        vertical-align: middle;\n",
              "    }\n",
              "\n",
              "    .dataframe tbody tr th {\n",
              "        vertical-align: top;\n",
              "    }\n",
              "\n",
              "    .dataframe thead th {\n",
              "        text-align: right;\n",
              "    }\n",
              "</style>\n",
              "<table border=\"1\" class=\"dataframe\">\n",
              "  <thead>\n",
              "    <tr style=\"text-align: right;\">\n",
              "      <th></th>\n",
              "      <th>position</th>\n",
              "      <th>company</th>\n",
              "      <th>description</th>\n",
              "      <th>reviews</th>\n",
              "      <th>location</th>\n",
              "    </tr>\n",
              "  </thead>\n",
              "  <tbody>\n",
              "    <tr>\n",
              "      <th>0</th>\n",
              "      <td>Development Director</td>\n",
              "      <td>ALS TDI</td>\n",
              "      <td>Development Director\\nALS Therapy Development ...</td>\n",
              "      <td>NaN</td>\n",
              "      <td>Atlanta, GA 30301</td>\n",
              "    </tr>\n",
              "    <tr>\n",
              "      <th>1</th>\n",
              "      <td>An Ostentatiously-Excitable Principal Research...</td>\n",
              "      <td>The Hexagon Lavish</td>\n",
              "      <td>Job Description\\n\\n\"The road that leads to acc...</td>\n",
              "      <td>NaN</td>\n",
              "      <td>Atlanta, GA</td>\n",
              "    </tr>\n",
              "    <tr>\n",
              "      <th>2</th>\n",
              "      <td>Data Scientist</td>\n",
              "      <td>Xpert Staffing</td>\n",
              "      <td>Growing company located in the Atlanta, GA are...</td>\n",
              "      <td>NaN</td>\n",
              "      <td>Atlanta, GA</td>\n",
              "    </tr>\n",
              "    <tr>\n",
              "      <th>3</th>\n",
              "      <td>Data Analyst</td>\n",
              "      <td>Operation HOPE</td>\n",
              "      <td>DEPARTMENT: Program OperationsPOSITION LOCATIO...</td>\n",
              "      <td>44.0</td>\n",
              "      <td>Atlanta, GA 30303</td>\n",
              "    </tr>\n",
              "    <tr>\n",
              "      <th>4</th>\n",
              "      <td>Assistant Professor -TT - Signal Processing &amp; ...</td>\n",
              "      <td>Emory University</td>\n",
              "      <td>DESCRIPTION\\nThe Emory University Department o...</td>\n",
              "      <td>550.0</td>\n",
              "      <td>Atlanta, GA</td>\n",
              "    </tr>\n",
              "  </tbody>\n",
              "</table>\n",
              "</div>"
            ],
            "text/plain": [
              "                                            position  ...            location\n",
              "0                               Development Director  ...  Atlanta, GA 30301 \n",
              "1  An Ostentatiously-Excitable Principal Research...  ...         Atlanta, GA\n",
              "2                                     Data Scientist  ...         Atlanta, GA\n",
              "3                                       Data Analyst  ...  Atlanta, GA 30303 \n",
              "4  Assistant Professor -TT - Signal Processing & ...  ...         Atlanta, GA\n",
              "\n",
              "[5 rows x 5 columns]"
            ]
          },
          "metadata": {
            "tags": []
          },
          "execution_count": 53
        }
      ]
    },
    {
      "cell_type": "code",
      "metadata": {
        "id": "ZLdG8HBaU_NP",
        "colab_type": "code",
        "outputId": "fb0368e8-10a8-42f6-bd99-881f9916a29a",
        "colab": {
          "base_uri": "https://localhost:8080/",
          "height": 34
        }
      },
      "source": [
        "dataset.shape "
      ],
      "execution_count": 54,
      "outputs": [
        {
          "output_type": "execute_result",
          "data": {
            "text/plain": [
              "(6964, 5)"
            ]
          },
          "metadata": {
            "tags": []
          },
          "execution_count": 54
        }
      ]
    },
    {
      "cell_type": "code",
      "metadata": {
        "id": "d6Sj4D9xtlwn",
        "colab_type": "code",
        "outputId": "9dbf7b68-c47c-41e8-ec7c-98235245d8f7",
        "colab": {
          "base_uri": "https://localhost:8080/",
          "height": 119
        }
      },
      "source": [
        "dataset.dtypes"
      ],
      "execution_count": 55,
      "outputs": [
        {
          "output_type": "execute_result",
          "data": {
            "text/plain": [
              "position        object\n",
              "company         object\n",
              "description     object\n",
              "reviews        float64\n",
              "location        object\n",
              "dtype: object"
            ]
          },
          "metadata": {
            "tags": []
          },
          "execution_count": 55
        }
      ]
    },
    {
      "cell_type": "markdown",
      "metadata": {
        "id": "7pd6k9PhVNQz",
        "colab_type": "text"
      },
      "source": [
        "# ***Handling Missing Data - ***"
      ]
    },
    {
      "cell_type": "code",
      "metadata": {
        "id": "KJ4hRJ6zVBRC",
        "colab_type": "code",
        "outputId": "bfa9b8c1-070f-4069-d8da-0f830b122259",
        "colab": {
          "base_uri": "https://localhost:8080/",
          "height": 119
        }
      },
      "source": [
        "dataset.isnull().sum()"
      ],
      "execution_count": 56,
      "outputs": [
        {
          "output_type": "execute_result",
          "data": {
            "text/plain": [
              "position         11\n",
              "company          11\n",
              "description      11\n",
              "reviews        1638\n",
              "location         11\n",
              "dtype: int64"
            ]
          },
          "metadata": {
            "tags": []
          },
          "execution_count": 56
        }
      ]
    },
    {
      "cell_type": "code",
      "metadata": {
        "id": "l6LDRmNIXKcT",
        "colab_type": "code",
        "outputId": "8e37bbe9-8b49-4794-dae4-3e805e8cb430",
        "colab": {
          "base_uri": "https://localhost:8080/",
          "height": 34
        }
      },
      "source": [
        "# removing that rows in which all colunms are null \n",
        "dataset = dataset.dropna(how='all',axis=0)\n",
        "dataset.shape"
      ],
      "execution_count": 57,
      "outputs": [
        {
          "output_type": "execute_result",
          "data": {
            "text/plain": [
              "(6953, 5)"
            ]
          },
          "metadata": {
            "tags": []
          },
          "execution_count": 57
        }
      ]
    },
    {
      "cell_type": "code",
      "metadata": {
        "id": "7bfZfkMTXU8o",
        "colab_type": "code",
        "outputId": "286fc1ff-5baa-40e9-b60c-41f2a2052f5b",
        "colab": {
          "base_uri": "https://localhost:8080/",
          "height": 119
        }
      },
      "source": [
        "dataset.isnull().sum()"
      ],
      "execution_count": 58,
      "outputs": [
        {
          "output_type": "execute_result",
          "data": {
            "text/plain": [
              "position          0\n",
              "company           0\n",
              "description       0\n",
              "reviews        1627\n",
              "location          0\n",
              "dtype: int64"
            ]
          },
          "metadata": {
            "tags": []
          },
          "execution_count": 58
        }
      ]
    },
    {
      "cell_type": "code",
      "metadata": {
        "id": "LN8cTOjmXbHB",
        "colab_type": "code",
        "outputId": "bcf42dbc-63ad-4de9-b032-551026d4dca8",
        "colab": {
          "base_uri": "https://localhost:8080/",
          "height": 34
        }
      },
      "source": [
        "# remove that rows which do not have any review \n",
        "dataset=dataset.fillna(0)\n",
        "dataset.shape "
      ],
      "execution_count": 59,
      "outputs": [
        {
          "output_type": "execute_result",
          "data": {
            "text/plain": [
              "(6953, 5)"
            ]
          },
          "metadata": {
            "tags": []
          },
          "execution_count": 59
        }
      ]
    },
    {
      "cell_type": "code",
      "metadata": {
        "id": "AYS7Jpdxbw-r",
        "colab_type": "code",
        "outputId": "bd2a5ac4-2ad7-4d24-cef5-b595fbaeb1bf",
        "colab": {
          "base_uri": "https://localhost:8080/",
          "height": 119
        }
      },
      "source": [
        "dataset.isnull().sum()"
      ],
      "execution_count": 60,
      "outputs": [
        {
          "output_type": "execute_result",
          "data": {
            "text/plain": [
              "position       0\n",
              "company        0\n",
              "description    0\n",
              "reviews        0\n",
              "location       0\n",
              "dtype: int64"
            ]
          },
          "metadata": {
            "tags": []
          },
          "execution_count": 60
        }
      ]
    },
    {
      "cell_type": "code",
      "metadata": {
        "id": "FdkWW1F5d143",
        "colab_type": "code",
        "outputId": "ce97fabd-e6f1-4f68-a7fb-e124060821c2",
        "colab": {
          "base_uri": "https://localhost:8080/",
          "height": 1071
        }
      },
      "source": [
        "dataset['position'].value_counts()"
      ],
      "execution_count": 61,
      "outputs": [
        {
          "output_type": "execute_result",
          "data": {
            "text/plain": [
              "Data Scientist                                                                                                              351\n",
              "Senior Data Scientist                                                                                                        96\n",
              "Research Analyst                                                                                                             64\n",
              "Data Engineer                                                                                                                60\n",
              "Machine Learning Engineer                                                                                                    56\n",
              "Lead Data Scientist                                                                                                          31\n",
              "Research Scientist                                                                                                           30\n",
              "Sr. Data Scientist                                                                                                           28\n",
              "Principal Data Scientist                                                                                                     24\n",
              "Data Analyst                                                                                                                 22\n",
              "Software Engineer                                                                                                            22\n",
              "Quantitative Analyst                                                                                                         21\n",
              "Scientist                                                                                                                    17\n",
              "Product Manager                                                                                                              17\n",
              "Bioinformatics Scientist                                                                                                     16\n",
              "Market Research Analyst                                                                                                      15\n",
              "Senior Software Engineer                                                                                                     14\n",
              "Machine Learning Scientist                                                                                                   13\n",
              "Software Engineer, Machine Learning                                                                                          13\n",
              "Senior Data Engineer                                                                                                         12\n",
              "Senior Research Analyst                                                                                                      12\n",
              "Software Development Engineer                                                                                                11\n",
              "Staff Data Scientist                                                                                                         11\n",
              "Senior Scientist                                                                                                             11\n",
              "Associate Scientist                                                                                                          11\n",
              "Student Research Collaboration                                                                                                9\n",
              "Research Associate                                                                                                            9\n",
              "Lead Data Engineer                                                                                                            9\n",
              "Senior Machine Learning Scientist                                                                                             8\n",
              "Sr. Data Engineer                                                                                                             8\n",
              "                                                                                                                           ... \n",
              "STATISTICAL MODELER                                                                                                           1\n",
              "Detector Engineering Systems Engineer (663687)                                                                                1\n",
              "Technical Research Project Analyst                                                                                            1\n",
              "POSTDOCTORAL SCIENTIST, PHENOMICS                                                                                             1\n",
              "Research and Program Analyst                                                                                                  1\n",
              "Data Scientist, AI Services                                                                                                   1\n",
              "Machine Learning Engineer, Personalization                                                                                    1\n",
              "SR SOFTWARE ENG - BLACK LOCUS                                                                                                 1\n",
              "JD Finance - AI Lab Software/System Engineer                                                                                  1\n",
              "Data Scientist (Online Media)                                                                                                 1\n",
              "Amazon AI- Applied Scientist                                                                                                  1\n",
              "Scientist, Delivery Sciences                                                                                                  1\n",
              "AI Research Scientist - Machine Learning                                                                                      1\n",
              "Front Desk Administrator                                                                                                      1\n",
              "Senior Associate Scientist In Vivo Pharmacology, Metabolic Complications, Cardiovascular & Metabolism Discovery (1 of 2)      1\n",
              "Detector Engineering Systems Engineer (663686) - Security Clearance Required                                                  1\n",
              "Data Scientist 4, Poker                                                                                                       1\n",
              "Application Security Assessor/Penetration Tester                                                                              1\n",
              "Senior Software Engineer, Modeling & Simulation                                                                               1\n",
              "Data Engineering Lead                                                                                                         1\n",
              "Data Governance Manager, Bureau of Epidemiology Services                                                                      1\n",
              "Principal Scientist / Associate Director, Toxicology                                                                          1\n",
              "Sr Manager, Alexa Comms Fraud and Abuse                                                                                       1\n",
              "Telecom System Principal Engineer (664008) - Security clearance required                                                      1\n",
              "Bioinformatian II                                                                                                             1\n",
              "Jr. Research Analyst                                                                                                          1\n",
              "Commercial Real Estate Research Analyst                                                                                       1\n",
              "Research Scientist I, Bioinformatics                                                                                          1\n",
              "POPULATION COORDINATOR (24-40 HOURS PER WEEK)                                                                                 1\n",
              "Vice President or Head, Translational Medicine and Early Development                                                          1\n",
              "Name: position, Length: 5242, dtype: int64"
            ]
          },
          "metadata": {
            "tags": []
          },
          "execution_count": 61
        }
      ]
    },
    {
      "cell_type": "code",
      "metadata": {
        "id": "fVfR0VK6d-Od",
        "colab_type": "code",
        "outputId": "f9d6a7e6-fec1-4f54-e111-666410b42eb7",
        "colab": {
          "base_uri": "https://localhost:8080/",
          "height": 1071
        }
      },
      "source": [
        "dataset['company'].value_counts()"
      ],
      "execution_count": 62,
      "outputs": [
        {
          "output_type": "execute_result",
          "data": {
            "text/plain": [
              "Amazon.com                                358\n",
              "Ball Aerospace                            187\n",
              "Microsoft                                 137\n",
              "Google                                    134\n",
              "NYU Langone Health                         77\n",
              "Fred Hutchinson Cancer Research Center     70\n",
              "KPMG                                       66\n",
              "Lab126                                     50\n",
              "Facebook                                   49\n",
              "Broad Institute                            49\n",
              "Walmart eCommerce                          45\n",
              "McKinsey & Company                         41\n",
              "Takeda Pharmaceutical                      39\n",
              "University of Washington                   39\n",
              "Harnham                                    39\n",
              "Oath Inc                                   34\n",
              "Pharmacyclics, an Abbvie Company           34\n",
              "Celgene Corporation                        34\n",
              "Cymer                                      32\n",
              "Brigham & Women's Hospital(BWH)            31\n",
              "Biogen                                     30\n",
              "Amgen                                      28\n",
              "Sanofi                                     28\n",
              "Illumina                                   27\n",
              "Jacobs                                     27\n",
              "JP Morgan Chase                            27\n",
              "JD.com                                     26\n",
              "JUUL Labs                                  26\n",
              "Zillow Group                               26\n",
              "Cedars-Sinai                               24\n",
              "                                         ... \n",
              "Biocept, Inc.                               1\n",
              "Callière Group                              1\n",
              "HKS, Inc.                                   1\n",
              "Benenson Strategy Group                     1\n",
              "Fluid Intelligence                          1\n",
              "Leafly Holdings                             1\n",
              "PAE                                         1\n",
              "Group One Trading                           1\n",
              "Legal Services Corporation                  1\n",
              "Stryker                                     1\n",
              "GEI Consultants Inc                         1\n",
              "GOAT                                        1\n",
              "MedStar Health Research Institute           1\n",
              "Marchex                                     1\n",
              "Heap                                        1\n",
              "Algorithmia                                 1\n",
              "N C Q A                                     1\n",
              "Baim Institute for Clinical Research        1\n",
              "Spark Foundry                               1\n",
              "Beclyn Group Recruiting                     1\n",
              "Arcturus Therapeutics                       1\n",
              "Old Mission Capital                         1\n",
              "Analytics Associates                        1\n",
              "Nmatrixx                                    1\n",
              "The Clorox Company                          1\n",
              "Tendril                                     1\n",
              "Trinamix Inc.                               1\n",
              "Federal Reserve Bank of Chicago             1\n",
              "Quantifind                                  1\n",
              "Fareportal Inc.                             1\n",
              "Name: company, Length: 2213, dtype: int64"
            ]
          },
          "metadata": {
            "tags": []
          },
          "execution_count": 62
        }
      ]
    },
    {
      "cell_type": "code",
      "metadata": {
        "id": "U66h1j7UeNWT",
        "colab_type": "code",
        "outputId": "97b8c929-9de0-4813-94f4-be9778bbd406",
        "colab": {
          "base_uri": "https://localhost:8080/",
          "height": 1071
        }
      },
      "source": [
        "dataset['reviews'].value_counts()"
      ],
      "execution_count": 63,
      "outputs": [
        {
          "output_type": "execute_result",
          "data": {
            "text/plain": [
              "0.0        1627\n",
              "25902.0     224\n",
              "108.0       193\n",
              "2.0         191\n",
              "5.0         138\n",
              "4.0         131\n",
              "4618.0      118\n",
              "2474.0      106\n",
              "3.0         101\n",
              "6.0          94\n",
              "25895.0      89\n",
              "7.0          78\n",
              "705.0        76\n",
              "91.0         71\n",
              "8.0          66\n",
              "15.0         65\n",
              "838.0        62\n",
              "32.0         55\n",
              "11.0         54\n",
              "366.0        49\n",
              "14.0         48\n",
              "141.0        46\n",
              "12.0         45\n",
              "26.0         42\n",
              "70.0         42\n",
              "10.0         41\n",
              "385.0        41\n",
              "52.0         39\n",
              "530.0        39\n",
              "17.0         36\n",
              "           ... \n",
              "99.0          1\n",
              "4338.0        1\n",
              "242.0         1\n",
              "2203.0        1\n",
              "25909.0       1\n",
              "2189.0        1\n",
              "415.0         1\n",
              "694.0         1\n",
              "723.0         1\n",
              "1516.0        1\n",
              "312.0         1\n",
              "55.0          1\n",
              "49.0          1\n",
              "3027.0        1\n",
              "11607.0       1\n",
              "1947.0        1\n",
              "131.0         1\n",
              "177.0         1\n",
              "63.0          1\n",
              "228.0         1\n",
              "892.0         1\n",
              "2431.0        1\n",
              "2647.0        1\n",
              "447.0         1\n",
              "1959.0        1\n",
              "1366.0        1\n",
              "6868.0        1\n",
              "21949.0       1\n",
              "290.0         1\n",
              "2409.0        1\n",
              "Name: reviews, Length: 561, dtype: int64"
            ]
          },
          "metadata": {
            "tags": []
          },
          "execution_count": 63
        }
      ]
    },
    {
      "cell_type": "code",
      "metadata": {
        "id": "Pdi8aLrie29r",
        "colab_type": "code",
        "outputId": "f82e677f-f532-4ead-99ae-41a416b5a25d",
        "colab": {
          "base_uri": "https://localhost:8080/",
          "height": 54
        }
      },
      "source": [
        "dataset['description'][0]"
      ],
      "execution_count": 64,
      "outputs": [
        {
          "output_type": "execute_result",
          "data": {
            "text/plain": [
              "\"Development Director\\nALS Therapy Development Institute has an immediate opening for Development Directors. Reporting directly to the Senior Development Director, the Development Director at ALS TDI is a senior fundraising position working to identifying potential prospects and cultivating solicitation strategies and in closing asks with donors including individuals and corporations by building networks via events, generating awareness of ALS TDI; outreach including attending and speaking at events as well as personally cultivates relationships with patients, prospects and donors. This position will be responsible for generating and managing a portfolio of at least two million to five million dollars per year. This position will be located in Atlanta, GA.\\n\\nRequirements:\\nBachelor's Degree requiredMinimum 6-8 years' experience in fundraising and business developmentSuccessful track recording in fundraising with major donors or scientific sales preferredDemonstrated ability to work independently and make progress on several prospects/projects at the same time.Excellent English oral, written and presentation skillsStrong leadership and management skills, as well as the ability to forge strong interpersonal relationshipsAbility to travelExcellent computer skills including use of word processing, spreadsheet, database, presentation and prospect management software operating off a PC-based system including Salesforce.\\nAbout ALS Therapy Development Institute (ALS.net)\\n\\nThe ALS Therapy Development Institute (ALS.net) and its scientists actively discover and develop treatments for ALS. ALS.net is the world's first and largest nonprofit biotech focused 100% on ALS research. Led by ALS patients and their families, the charity understands the urgent need to slow and stop this horrible disease. ALS.net, based in Cambridge, MA, has served as one of the leaders in sharing data and information with academic and ALS research organizations, patients and their families. For more information, visit www.als.net.\\n\\nTo Apply\\nPlease apply at https://als.applicantpro.com. Please include a cover letter, salary requirements and resume. No phone calls please.\\nALS TDI is an equal opportunity employer.\""
            ]
          },
          "metadata": {
            "tags": []
          },
          "execution_count": 64
        }
      ]
    },
    {
      "cell_type": "code",
      "metadata": {
        "id": "v7eLayQ7h43N",
        "colab_type": "code",
        "outputId": "e92e8556-2f46-4fd1-91b8-1c9b2cc63a82",
        "colab": {
          "base_uri": "https://localhost:8080/",
          "height": 1071
        }
      },
      "source": [
        "dataset['location'].value_counts()"
      ],
      "execution_count": 68,
      "outputs": [
        {
          "output_type": "execute_result",
          "data": {
            "text/plain": [
              "Seattle, WA                563\n",
              "New York, NY               508\n",
              "Cambridge, MA              487\n",
              "Boston, MA                 454\n",
              "San Francisco, CA          425\n",
              "San Diego, CA              294\n",
              "Chicago, IL                292\n",
              "Boulder, CO                233\n",
              "Washington, DC             230\n",
              "Sunnyvale, CA              221\n",
              "Mountain View, CA          199\n",
              "Los Angeles, CA            187\n",
              "Austin, TX                 156\n",
              "Atlanta, GA                147\n",
              "Redmond, WA 98052          117\n",
              "Cambridge, MA 02139         95\n",
              "Seattle, WA 98109           95\n",
              "New York, NY 10016          83\n",
              "San Diego, CA 92121         71\n",
              "Cambridge, MA 02142         64\n",
              "South San Francisco, CA     53\n",
              "Chicago, IL 60654           45\n",
              "San Francisco, CA 94103     40\n",
              "Chicago, IL 60601           40\n",
              "Mountain View, CA 94043     39\n",
              "Redmond, WA                 39\n",
              "Seattle, WA 98101           34\n",
              "Seattle, WA 98104           34\n",
              "Cambridge, MA 02140         33\n",
              "Boston, MA 02116            31\n",
              "                          ... \n",
              "Jersey City, NJ 07310        1\n",
              "Atlanta, GA 30306            1\n",
              "New Brunswick, NJ            1\n",
              "Richmond, CA 94806           1\n",
              "Lafayette, CA                1\n",
              "West Orange, NJ 07052        1\n",
              "Boston, MA 02134             1\n",
              "New York, NY 10027           1\n",
              "Fort Lee, NJ                 1\n",
              "Woodcliff Lake, NJ           1\n",
              "Brooklyn, NY 11201           1\n",
              "Atlanta, GA 30350            1\n",
              "New York, NY 10172           1\n",
              "Austin, TX 78769             1\n",
              "Orangeburg, NY 10962         1\n",
              "Seattle, WA 98127            1\n",
              "New York, NY 10007           1\n",
              "Roseland, NJ 07068           1\n",
              "Washington, DC 20422         1\n",
              "Florham Park, NJ 07932       1\n",
              "Martinez, CA                 1\n",
              "New York, NY 10107           1\n",
              "New York, NY 10032           1\n",
              "Los Angeles, CA 90016        1\n",
              "Round Rock, TX               1\n",
              "Washington, DC 20020         1\n",
              "New York, NY 10171           1\n",
              "New York, NY 10173           1\n",
              "Kenilworth, NJ               1\n",
              "Chicago, IL 60646            1\n",
              "Name: location, Length: 382, dtype: int64"
            ]
          },
          "metadata": {
            "tags": []
          },
          "execution_count": 68
        }
      ]
    },
    {
      "cell_type": "markdown",
      "metadata": {
        "id": "vVoyn5X2ibS3",
        "colab_type": "text"
      },
      "source": [
        "***Note - ***\n",
        "\n",
        "1.   Most of the job offers are on the location 'Seattle, WA'.\n",
        "\n"
      ]
    },
    {
      "cell_type": "code",
      "metadata": {
        "id": "cI4ccbB4ia9o",
        "colab_type": "code",
        "outputId": "b3567a82-c7b4-46bf-c302-569a135629d1",
        "colab": {
          "base_uri": "https://localhost:8080/",
          "height": 142
        }
      },
      "source": [
        "dataset[dataset['reviews']==dataset['reviews'].max()]"
      ],
      "execution_count": 69,
      "outputs": [
        {
          "output_type": "execute_result",
          "data": {
            "text/html": [
              "<div>\n",
              "<style scoped>\n",
              "    .dataframe tbody tr th:only-of-type {\n",
              "        vertical-align: middle;\n",
              "    }\n",
              "\n",
              "    .dataframe tbody tr th {\n",
              "        vertical-align: top;\n",
              "    }\n",
              "\n",
              "    .dataframe thead th {\n",
              "        text-align: right;\n",
              "    }\n",
              "</style>\n",
              "<table border=\"1\" class=\"dataframe\">\n",
              "  <thead>\n",
              "    <tr style=\"text-align: right;\">\n",
              "      <th></th>\n",
              "      <th>position</th>\n",
              "      <th>company</th>\n",
              "      <th>description</th>\n",
              "      <th>reviews</th>\n",
              "      <th>location</th>\n",
              "    </tr>\n",
              "  </thead>\n",
              "  <tbody>\n",
              "    <tr>\n",
              "      <th>6728</th>\n",
              "      <td>Staff Software Engineer, Front End Lead</td>\n",
              "      <td>Walmart</td>\n",
              "      <td>Position Description\\nPosition Summary\\nAs a S...</td>\n",
              "      <td>148114.0</td>\n",
              "      <td>Sunnyvale, CA 94086</td>\n",
              "    </tr>\n",
              "    <tr>\n",
              "      <th>6828</th>\n",
              "      <td>Information Security Risk Expert</td>\n",
              "      <td>Walmart</td>\n",
              "      <td>Position Description\\nCompany Summary: Walmart...</td>\n",
              "      <td>148114.0</td>\n",
              "      <td>Sunnyvale, CA 94086</td>\n",
              "    </tr>\n",
              "    <tr>\n",
              "      <th>6958</th>\n",
              "      <td>Senior Data Scientist (GEC11902)</td>\n",
              "      <td>Walmart</td>\n",
              "      <td>Position Description\\nProficient in Java or Py...</td>\n",
              "      <td>148114.0</td>\n",
              "      <td>Sunnyvale, CA 94086</td>\n",
              "    </tr>\n",
              "  </tbody>\n",
              "</table>\n",
              "</div>"
            ],
            "text/plain": [
              "                                     position  ...             location\n",
              "6728  Staff Software Engineer, Front End Lead  ...  Sunnyvale, CA 94086\n",
              "6828         Information Security Risk Expert  ...  Sunnyvale, CA 94086\n",
              "6958         Senior Data Scientist (GEC11902)  ...  Sunnyvale, CA 94086\n",
              "\n",
              "[3 rows x 5 columns]"
            ]
          },
          "metadata": {
            "tags": []
          },
          "execution_count": 69
        }
      ]
    },
    {
      "cell_type": "code",
      "metadata": {
        "id": "1MkWM48zz-uz",
        "colab_type": "code",
        "outputId": "8996d16f-2262-4a95-8cb1-75481c5da52a",
        "colab": {
          "base_uri": "https://localhost:8080/",
          "height": 204
        }
      },
      "source": [
        "dataset[dataset['company']=='Walmart']"
      ],
      "execution_count": 70,
      "outputs": [
        {
          "output_type": "execute_result",
          "data": {
            "text/html": [
              "<div>\n",
              "<style scoped>\n",
              "    .dataframe tbody tr th:only-of-type {\n",
              "        vertical-align: middle;\n",
              "    }\n",
              "\n",
              "    .dataframe tbody tr th {\n",
              "        vertical-align: top;\n",
              "    }\n",
              "\n",
              "    .dataframe thead th {\n",
              "        text-align: right;\n",
              "    }\n",
              "</style>\n",
              "<table border=\"1\" class=\"dataframe\">\n",
              "  <thead>\n",
              "    <tr style=\"text-align: right;\">\n",
              "      <th></th>\n",
              "      <th>position</th>\n",
              "      <th>company</th>\n",
              "      <th>description</th>\n",
              "      <th>reviews</th>\n",
              "      <th>location</th>\n",
              "    </tr>\n",
              "  </thead>\n",
              "  <tbody>\n",
              "    <tr>\n",
              "      <th>449</th>\n",
              "      <td>Data Scientist-ISD</td>\n",
              "      <td>Walmart</td>\n",
              "      <td>Position Description\\n\\nConsults with business...</td>\n",
              "      <td>148085.0</td>\n",
              "      <td>Austin, TX 78716</td>\n",
              "    </tr>\n",
              "    <tr>\n",
              "      <th>6668</th>\n",
              "      <td>Staff Data Scientist</td>\n",
              "      <td>Walmart</td>\n",
              "      <td>Position Description\\n\\nA Staff Data Scientist...</td>\n",
              "      <td>148051.0</td>\n",
              "      <td>San Bruno, CA 94066</td>\n",
              "    </tr>\n",
              "    <tr>\n",
              "      <th>6728</th>\n",
              "      <td>Staff Software Engineer, Front End Lead</td>\n",
              "      <td>Walmart</td>\n",
              "      <td>Position Description\\nPosition Summary\\nAs a S...</td>\n",
              "      <td>148114.0</td>\n",
              "      <td>Sunnyvale, CA 94086</td>\n",
              "    </tr>\n",
              "    <tr>\n",
              "      <th>6828</th>\n",
              "      <td>Information Security Risk Expert</td>\n",
              "      <td>Walmart</td>\n",
              "      <td>Position Description\\nCompany Summary: Walmart...</td>\n",
              "      <td>148114.0</td>\n",
              "      <td>Sunnyvale, CA 94086</td>\n",
              "    </tr>\n",
              "    <tr>\n",
              "      <th>6958</th>\n",
              "      <td>Senior Data Scientist (GEC11902)</td>\n",
              "      <td>Walmart</td>\n",
              "      <td>Position Description\\nProficient in Java or Py...</td>\n",
              "      <td>148114.0</td>\n",
              "      <td>Sunnyvale, CA 94086</td>\n",
              "    </tr>\n",
              "  </tbody>\n",
              "</table>\n",
              "</div>"
            ],
            "text/plain": [
              "                                     position  ...             location\n",
              "449                        Data Scientist-ISD  ...     Austin, TX 78716\n",
              "6668                     Staff Data Scientist  ...  San Bruno, CA 94066\n",
              "6728  Staff Software Engineer, Front End Lead  ...  Sunnyvale, CA 94086\n",
              "6828         Information Security Risk Expert  ...  Sunnyvale, CA 94086\n",
              "6958         Senior Data Scientist (GEC11902)  ...  Sunnyvale, CA 94086\n",
              "\n",
              "[5 rows x 5 columns]"
            ]
          },
          "metadata": {
            "tags": []
          },
          "execution_count": 70
        }
      ]
    },
    {
      "cell_type": "markdown",
      "metadata": {
        "id": "l8XaKDsp0L_s",
        "colab_type": "text"
      },
      "source": [
        "***Note - ***\n",
        "\n",
        "1.   Company \"Walmart\" has maximum reviews. And Company \"Walmart\" offers maximum jobs on location \"Sunnyvale, CA 94086\"."
      ]
    },
    {
      "cell_type": "code",
      "metadata": {
        "id": "BTSi0NW9yyZr",
        "colab_type": "code",
        "outputId": "1157da87-29e6-4589-fb70-ec83b5bbe1fc",
        "colab": {
          "base_uri": "https://localhost:8080/",
          "height": 2343
        }
      },
      "source": [
        "dataset[dataset['reviews']==dataset['reviews'].min()]"
      ],
      "execution_count": 71,
      "outputs": [
        {
          "output_type": "execute_result",
          "data": {
            "text/html": [
              "<div>\n",
              "<style scoped>\n",
              "    .dataframe tbody tr th:only-of-type {\n",
              "        vertical-align: middle;\n",
              "    }\n",
              "\n",
              "    .dataframe tbody tr th {\n",
              "        vertical-align: top;\n",
              "    }\n",
              "\n",
              "    .dataframe thead th {\n",
              "        text-align: right;\n",
              "    }\n",
              "</style>\n",
              "<table border=\"1\" class=\"dataframe\">\n",
              "  <thead>\n",
              "    <tr style=\"text-align: right;\">\n",
              "      <th></th>\n",
              "      <th>position</th>\n",
              "      <th>company</th>\n",
              "      <th>description</th>\n",
              "      <th>reviews</th>\n",
              "      <th>location</th>\n",
              "    </tr>\n",
              "  </thead>\n",
              "  <tbody>\n",
              "    <tr>\n",
              "      <th>0</th>\n",
              "      <td>Development Director</td>\n",
              "      <td>ALS TDI</td>\n",
              "      <td>Development Director\\nALS Therapy Development ...</td>\n",
              "      <td>0.0</td>\n",
              "      <td>Atlanta, GA 30301</td>\n",
              "    </tr>\n",
              "    <tr>\n",
              "      <th>1</th>\n",
              "      <td>An Ostentatiously-Excitable Principal Research...</td>\n",
              "      <td>The Hexagon Lavish</td>\n",
              "      <td>Job Description\\n\\n\"The road that leads to acc...</td>\n",
              "      <td>0.0</td>\n",
              "      <td>Atlanta, GA</td>\n",
              "    </tr>\n",
              "    <tr>\n",
              "      <th>2</th>\n",
              "      <td>Data Scientist</td>\n",
              "      <td>Xpert Staffing</td>\n",
              "      <td>Growing company located in the Atlanta, GA are...</td>\n",
              "      <td>0.0</td>\n",
              "      <td>Atlanta, GA</td>\n",
              "    </tr>\n",
              "    <tr>\n",
              "      <th>18</th>\n",
              "      <td>Data Scientist</td>\n",
              "      <td>Relus Cloud</td>\n",
              "      <td>DATA SCIENTIST\\n\\nSUMMARY:\\nAs an Amazon Web S...</td>\n",
              "      <td>0.0</td>\n",
              "      <td>Atlanta, GA</td>\n",
              "    </tr>\n",
              "    <tr>\n",
              "      <th>19</th>\n",
              "      <td>Data Scientist</td>\n",
              "      <td>Inspire Brands</td>\n",
              "      <td>This position is critical to understanding dri...</td>\n",
              "      <td>0.0</td>\n",
              "      <td>Atlanta, GA</td>\n",
              "    </tr>\n",
              "    <tr>\n",
              "      <th>25</th>\n",
              "      <td>Data Scientist</td>\n",
              "      <td>AirSage</td>\n",
              "      <td>AirSage has been in the business of providing ...</td>\n",
              "      <td>0.0</td>\n",
              "      <td>Atlanta, GA</td>\n",
              "    </tr>\n",
              "    <tr>\n",
              "      <th>26</th>\n",
              "      <td>Data Scientist 1 – AP Forensics Team</td>\n",
              "      <td>The Home Depot</td>\n",
              "      <td>POSITION PURPOSE:\\nThe Data Scientist I will p...</td>\n",
              "      <td>0.0</td>\n",
              "      <td>Atlanta, GA</td>\n",
              "    </tr>\n",
              "    <tr>\n",
              "      <th>38</th>\n",
              "      <td>Data Scientist</td>\n",
              "      <td>OM Partners</td>\n",
              "      <td>With demand sensing, OM Partners is breaking t...</td>\n",
              "      <td>0.0</td>\n",
              "      <td>Atlanta, GA</td>\n",
              "    </tr>\n",
              "    <tr>\n",
              "      <th>48</th>\n",
              "      <td>Chief Deep Learning Scientist</td>\n",
              "      <td>YIWEI Medical Inc.</td>\n",
              "      <td>We are looking for talented, driven and autono...</td>\n",
              "      <td>0.0</td>\n",
              "      <td>Atlanta, GA</td>\n",
              "    </tr>\n",
              "    <tr>\n",
              "      <th>53</th>\n",
              "      <td>Statistical Analyst</td>\n",
              "      <td>Hawkins Diagnostics</td>\n",
              "      <td>Job Description\\n\\nParticipates in all aspects...</td>\n",
              "      <td>0.0</td>\n",
              "      <td>Atlanta, GA</td>\n",
              "    </tr>\n",
              "    <tr>\n",
              "      <th>54</th>\n",
              "      <td>VP, Data Analytics</td>\n",
              "      <td>TCGplayer</td>\n",
              "      <td>********************\\nVP of Data Analytics\\n**...</td>\n",
              "      <td>0.0</td>\n",
              "      <td>Atlanta, GA</td>\n",
              "    </tr>\n",
              "    <tr>\n",
              "      <th>55</th>\n",
              "      <td>Lead Decision Scientist</td>\n",
              "      <td>Moxie Interactive, Inc.</td>\n",
              "      <td>Leading the use of modeling, algorithms, and c...</td>\n",
              "      <td>0.0</td>\n",
              "      <td>Atlanta, GA 30313</td>\n",
              "    </tr>\n",
              "    <tr>\n",
              "      <th>65</th>\n",
              "      <td>Research Scientist</td>\n",
              "      <td>MacDermid Inc.</td>\n",
              "      <td>Research Scientist\\n\\nJob Description\\nThe Res...</td>\n",
              "      <td>0.0</td>\n",
              "      <td>Atlanta, GA</td>\n",
              "    </tr>\n",
              "    <tr>\n",
              "      <th>84</th>\n",
              "      <td>Research Scientist</td>\n",
              "      <td>PreVisor</td>\n",
              "      <td>POSITION OVERVIEW\\n\\n\\nThe Research Scientist ...</td>\n",
              "      <td>0.0</td>\n",
              "      <td>Atlanta, GA</td>\n",
              "    </tr>\n",
              "    <tr>\n",
              "      <th>106</th>\n",
              "      <td>Staff Research Scientist VII: Informational In...</td>\n",
              "      <td>The Hexagon Lavish</td>\n",
              "      <td>Job Description\\n\\nDo you have a knack for cre...</td>\n",
              "      <td>0.0</td>\n",
              "      <td>Atlanta, GA</td>\n",
              "    </tr>\n",
              "    <tr>\n",
              "      <th>114</th>\n",
              "      <td>Jr Microbiologist - CDC</td>\n",
              "      <td>G2S Corporation</td>\n",
              "      <td>C.1 – SCOPE OF WORKLaboratory work to be perfo...</td>\n",
              "      <td>0.0</td>\n",
              "      <td>Atlanta, GA</td>\n",
              "    </tr>\n",
              "    <tr>\n",
              "      <th>122</th>\n",
              "      <td>Mid Data Scientist - Machine Learning</td>\n",
              "      <td>Elev8 Hire Solutions</td>\n",
              "      <td>Mid Data Scientist\\nOur client in the Midtown ...</td>\n",
              "      <td>0.0</td>\n",
              "      <td>Atlanta, GA 30342</td>\n",
              "    </tr>\n",
              "    <tr>\n",
              "      <th>139</th>\n",
              "      <td>Principal Research Scientist I: Informational ...</td>\n",
              "      <td>The Hexagon Lavish</td>\n",
              "      <td>Job Description\\n\\nAre you turned-off to hype ...</td>\n",
              "      <td>0.0</td>\n",
              "      <td>Atlanta, GA</td>\n",
              "    </tr>\n",
              "    <tr>\n",
              "      <th>140</th>\n",
              "      <td>Market Research Analyst</td>\n",
              "      <td>SKIM</td>\n",
              "      <td>Job Description\\n\\nLearn to be responsible for...</td>\n",
              "      <td>0.0</td>\n",
              "      <td>Atlanta, GA</td>\n",
              "    </tr>\n",
              "    <tr>\n",
              "      <th>151</th>\n",
              "      <td>Senior Scientist, Immunology</td>\n",
              "      <td>GeoVax, Inc.</td>\n",
              "      <td>INTRODUCTIONGeoVax, an Atlanta-area clinical s...</td>\n",
              "      <td>0.0</td>\n",
              "      <td>Atlanta, GA</td>\n",
              "    </tr>\n",
              "    <tr>\n",
              "      <th>153</th>\n",
              "      <td>A Vigorously-Charged Scientific Programmer</td>\n",
              "      <td>The Hexagon Lavish</td>\n",
              "      <td>Job Description\\n\\nHexagon Lavish® is a scient...</td>\n",
              "      <td>0.0</td>\n",
              "      <td>Atlanta, GA</td>\n",
              "    </tr>\n",
              "    <tr>\n",
              "      <th>154</th>\n",
              "      <td>Software Engineer</td>\n",
              "      <td>FraudScope</td>\n",
              "      <td>FraudScope - the rapidly growing company that ...</td>\n",
              "      <td>0.0</td>\n",
              "      <td>Atlanta, GA</td>\n",
              "    </tr>\n",
              "    <tr>\n",
              "      <th>156</th>\n",
              "      <td>Director of Software</td>\n",
              "      <td>Bionic Sciences Inc.</td>\n",
              "      <td>Job Description\\n\\nWe are looking for a driven...</td>\n",
              "      <td>0.0</td>\n",
              "      <td>Atlanta, GA 30332</td>\n",
              "    </tr>\n",
              "    <tr>\n",
              "      <th>157</th>\n",
              "      <td>Certifying Scientist / Quantitation Scientist</td>\n",
              "      <td>Lighthouse Lab Services</td>\n",
              "      <td>A growing clinical toxicology laboratory in At...</td>\n",
              "      <td>0.0</td>\n",
              "      <td>Atlanta, GA</td>\n",
              "    </tr>\n",
              "    <tr>\n",
              "      <th>161</th>\n",
              "      <td>Data Scientist</td>\n",
              "      <td>Xpect SVC, LLC</td>\n",
              "      <td>Xpect Service is seeking a Geospatial Data Sci...</td>\n",
              "      <td>0.0</td>\n",
              "      <td>Atlanta, GA 30326</td>\n",
              "    </tr>\n",
              "    <tr>\n",
              "      <th>164</th>\n",
              "      <td>Windows Programmer / Software Engineer - Inter...</td>\n",
              "      <td>The Goal Inc.</td>\n",
              "      <td>Summary: This position supports the developmen...</td>\n",
              "      <td>0.0</td>\n",
              "      <td>Atlanta, GA</td>\n",
              "    </tr>\n",
              "    <tr>\n",
              "      <th>170</th>\n",
              "      <td>Windows Programmer / Software Engineer - Entry...</td>\n",
              "      <td>The Goal Inc.</td>\n",
              "      <td>Summary: This position supports the developmen...</td>\n",
              "      <td>0.0</td>\n",
              "      <td>Atlanta, GA</td>\n",
              "    </tr>\n",
              "    <tr>\n",
              "      <th>192</th>\n",
              "      <td>Various Professional, Technical, Administrativ...</td>\n",
              "      <td>Alaka`ina Foundation Family of Companies</td>\n",
              "      <td>The Alaka`ina Foundation Family of Companies (...</td>\n",
              "      <td>0.0</td>\n",
              "      <td>Atlanta, GA</td>\n",
              "    </tr>\n",
              "    <tr>\n",
              "      <th>196</th>\n",
              "      <td>Business Development Manager (Southeast Region)</td>\n",
              "      <td>Catapult Sports</td>\n",
              "      <td>Do you want to work for the world leader in el...</td>\n",
              "      <td>0.0</td>\n",
              "      <td>Atlanta, GA</td>\n",
              "    </tr>\n",
              "    <tr>\n",
              "      <th>199</th>\n",
              "      <td>Implementation Engineer (Machine Learning/Data...</td>\n",
              "      <td>eHire, LLC</td>\n",
              "      <td>Atlanta, GA\\nA world leader in Adaptive Behavi...</td>\n",
              "      <td>0.0</td>\n",
              "      <td>Atlanta, GA 30326</td>\n",
              "    </tr>\n",
              "    <tr>\n",
              "      <th>...</th>\n",
              "      <td>...</td>\n",
              "      <td>...</td>\n",
              "      <td>...</td>\n",
              "      <td>...</td>\n",
              "      <td>...</td>\n",
              "    </tr>\n",
              "    <tr>\n",
              "      <th>6789</th>\n",
              "      <td>Head of Design</td>\n",
              "      <td>Enlighted</td>\n",
              "      <td>ABOUT ENLIGHTED:\\n At Enlighted, we’ve created...</td>\n",
              "      <td>0.0</td>\n",
              "      <td>Sunnyvale, CA 94085</td>\n",
              "    </tr>\n",
              "    <tr>\n",
              "      <th>6791</th>\n",
              "      <td>Forward Deployed Solution Engineer</td>\n",
              "      <td>Petuum</td>\n",
              "      <td>ABOUT THE ROLEPetuum is seeking a high-perform...</td>\n",
              "      <td>0.0</td>\n",
              "      <td>Sunnyvale, CA</td>\n",
              "    </tr>\n",
              "    <tr>\n",
              "      <th>6795</th>\n",
              "      <td>Deep Learning Software Development Engineer</td>\n",
              "      <td>Lab126</td>\n",
              "      <td>Job Description\\nAmazon Lab126 is an inventive...</td>\n",
              "      <td>0.0</td>\n",
              "      <td>Sunnyvale, CA</td>\n",
              "    </tr>\n",
              "    <tr>\n",
              "      <th>6800</th>\n",
              "      <td>Knowledge Engineer</td>\n",
              "      <td>Lab126</td>\n",
              "      <td>Job Description\\nThe Alexa Information Team le...</td>\n",
              "      <td>0.0</td>\n",
              "      <td>Sunnyvale, CA</td>\n",
              "    </tr>\n",
              "    <tr>\n",
              "      <th>6813</th>\n",
              "      <td>AI Research/Software Development Engineer, Ale...</td>\n",
              "      <td>Lab126</td>\n",
              "      <td>Job Description\\nAlexa is the groundbreaking c...</td>\n",
              "      <td>0.0</td>\n",
              "      <td>Sunnyvale, CA</td>\n",
              "    </tr>\n",
              "    <tr>\n",
              "      <th>6815</th>\n",
              "      <td>3D Tools Software Engineer</td>\n",
              "      <td>Baidu USA</td>\n",
              "      <td>Baidu USA, located in Silicon Valley, is looki...</td>\n",
              "      <td>0.0</td>\n",
              "      <td>Sunnyvale, CA 94089</td>\n",
              "    </tr>\n",
              "    <tr>\n",
              "      <th>6816</th>\n",
              "      <td>Software Engineer - Tools and Infrastructure</td>\n",
              "      <td>Petuum, Inc</td>\n",
              "      <td>ABOUT THE ROLEPetuum is looking for Software E...</td>\n",
              "      <td>0.0</td>\n",
              "      <td>Sunnyvale, CA</td>\n",
              "    </tr>\n",
              "    <tr>\n",
              "      <th>6817</th>\n",
              "      <td>23103 Principal Data Scientist - HealthTech / ...</td>\n",
              "      <td>Redfish Technology - High Tech Executive Recru...</td>\n",
              "      <td>23103 Principal Data Scientist (Machine Learni...</td>\n",
              "      <td>0.0</td>\n",
              "      <td>Sunnyvale, CA</td>\n",
              "    </tr>\n",
              "    <tr>\n",
              "      <th>6822</th>\n",
              "      <td>Manager, TPMs</td>\n",
              "      <td>Lab126</td>\n",
              "      <td>Job Description\\nAmazon Lab126 is an inventive...</td>\n",
              "      <td>0.0</td>\n",
              "      <td>Sunnyvale, CA</td>\n",
              "    </tr>\n",
              "    <tr>\n",
              "      <th>6824</th>\n",
              "      <td>QA Software Engineer</td>\n",
              "      <td>Petuum, Inc</td>\n",
              "      <td>About PetuumToday’s Artificial Intelligence (A...</td>\n",
              "      <td>0.0</td>\n",
              "      <td>Sunnyvale, CA</td>\n",
              "    </tr>\n",
              "    <tr>\n",
              "      <th>6825</th>\n",
              "      <td>Sr Speech Scientist</td>\n",
              "      <td>Lab126</td>\n",
              "      <td>Job Description\\nAmazon Lab126 is an inventive...</td>\n",
              "      <td>0.0</td>\n",
              "      <td>Sunnyvale, CA</td>\n",
              "    </tr>\n",
              "    <tr>\n",
              "      <th>6827</th>\n",
              "      <td>Software Development Engineer</td>\n",
              "      <td>Lab126</td>\n",
              "      <td>Job Description\\nThe Amazon Devices team desig...</td>\n",
              "      <td>0.0</td>\n",
              "      <td>Sunnyvale, CA</td>\n",
              "    </tr>\n",
              "    <tr>\n",
              "      <th>6829</th>\n",
              "      <td>Software Engineer</td>\n",
              "      <td>Lab126</td>\n",
              "      <td>Job Description\\n\\nAmazon Lab126 is an inventi...</td>\n",
              "      <td>0.0</td>\n",
              "      <td>Sunnyvale, CA</td>\n",
              "    </tr>\n",
              "    <tr>\n",
              "      <th>6841</th>\n",
              "      <td>Sr. Machine Learning Engineer</td>\n",
              "      <td>Lab126</td>\n",
              "      <td>Job Description\\nAmazon Lab126 is an inventive...</td>\n",
              "      <td>0.0</td>\n",
              "      <td>Sunnyvale, CA</td>\n",
              "    </tr>\n",
              "    <tr>\n",
              "      <th>6846</th>\n",
              "      <td>Sr. Hardware Audio Engineer</td>\n",
              "      <td>Lab126</td>\n",
              "      <td>Job Description\\nAmazon Lab126 is an inventive...</td>\n",
              "      <td>0.0</td>\n",
              "      <td>Sunnyvale, CA</td>\n",
              "    </tr>\n",
              "    <tr>\n",
              "      <th>6848</th>\n",
              "      <td>Materials (Quality) Engineer</td>\n",
              "      <td>Stealth Mode Startup Company</td>\n",
              "      <td>A Silicon Valley stealth stage startup has the...</td>\n",
              "      <td>0.0</td>\n",
              "      <td>Sunnyvale, CA 94086</td>\n",
              "    </tr>\n",
              "    <tr>\n",
              "      <th>6856</th>\n",
              "      <td>Senior Data Scientist, Algorithms and Machine ...</td>\n",
              "      <td>Redfish Technology - High Tech Executive Recru...</td>\n",
              "      <td>23238 Senior Data Scientist, Algorithms and Ma...</td>\n",
              "      <td>0.0</td>\n",
              "      <td>Sunnyvale, CA</td>\n",
              "    </tr>\n",
              "    <tr>\n",
              "      <th>6868</th>\n",
              "      <td>Senior Research Engineer, Alexa</td>\n",
              "      <td>Lab126</td>\n",
              "      <td>Job Description\\nAlexa is the groundbreaking c...</td>\n",
              "      <td>0.0</td>\n",
              "      <td>Sunnyvale, CA</td>\n",
              "    </tr>\n",
              "    <tr>\n",
              "      <th>6874</th>\n",
              "      <td>Sr. UI Developer</td>\n",
              "      <td>Petuum, Inc</td>\n",
              "      <td>ABOUT THE ROLEPetuum is seeking experienced UI...</td>\n",
              "      <td>0.0</td>\n",
              "      <td>Sunnyvale, CA</td>\n",
              "    </tr>\n",
              "    <tr>\n",
              "      <th>6881</th>\n",
              "      <td>Senior Growth Analyst</td>\n",
              "      <td>Harnham</td>\n",
              "      <td>SENIOR GROWTH ANALYST\\n$95K + Stocks + Benefit...</td>\n",
              "      <td>0.0</td>\n",
              "      <td>Sunnyvale, CA</td>\n",
              "    </tr>\n",
              "    <tr>\n",
              "      <th>6884</th>\n",
              "      <td>Sr. Technical Program Manager</td>\n",
              "      <td>Lab126</td>\n",
              "      <td>Job Description\\n\\nAmazon Lab126 is an inventi...</td>\n",
              "      <td>0.0</td>\n",
              "      <td>Sunnyvale, CA</td>\n",
              "    </tr>\n",
              "    <tr>\n",
              "      <th>6902</th>\n",
              "      <td>Senior Front End Engineer</td>\n",
              "      <td>Petuum, Inc</td>\n",
              "      <td>About Petuum:Today’s Artificial Intelligence (...</td>\n",
              "      <td>0.0</td>\n",
              "      <td>Sunnyvale, CA</td>\n",
              "    </tr>\n",
              "    <tr>\n",
              "      <th>6917</th>\n",
              "      <td>Security Scientist</td>\n",
              "      <td>Baidu USA</td>\n",
              "      <td>Baidu USA, headquartered in Silicon Valley, is...</td>\n",
              "      <td>0.0</td>\n",
              "      <td>Sunnyvale, CA 94089</td>\n",
              "    </tr>\n",
              "    <tr>\n",
              "      <th>6919</th>\n",
              "      <td>Applied Scientist</td>\n",
              "      <td>Lab126</td>\n",
              "      <td>Job Description\\nAmazon Lab126 is an inventive...</td>\n",
              "      <td>0.0</td>\n",
              "      <td>Sunnyvale, CA</td>\n",
              "    </tr>\n",
              "    <tr>\n",
              "      <th>6920</th>\n",
              "      <td>Research Scientist - IDL (Robotics)</td>\n",
              "      <td>Baidu USA</td>\n",
              "      <td>The Baidu IDL Robotics group is developing sol...</td>\n",
              "      <td>0.0</td>\n",
              "      <td>Sunnyvale, CA 94089</td>\n",
              "    </tr>\n",
              "    <tr>\n",
              "      <th>6930</th>\n",
              "      <td>Data Scientist</td>\n",
              "      <td>Linc Global, Inc.</td>\n",
              "      <td>Why you should join:\\n\\nJoin us in building th...</td>\n",
              "      <td>0.0</td>\n",
              "      <td>Sunnyvale, CA</td>\n",
              "    </tr>\n",
              "    <tr>\n",
              "      <th>6931</th>\n",
              "      <td>Data Scientist - Alexa Language Technologies</td>\n",
              "      <td>Lab126</td>\n",
              "      <td>Job Description\\nAmazon Lab126 is an inventive...</td>\n",
              "      <td>0.0</td>\n",
              "      <td>Sunnyvale, CA</td>\n",
              "    </tr>\n",
              "    <tr>\n",
              "      <th>6937</th>\n",
              "      <td>Data Scientist / Data Analyst</td>\n",
              "      <td>Arosys</td>\n",
              "      <td>Are you a driven and inquisitive data scientis...</td>\n",
              "      <td>0.0</td>\n",
              "      <td>Sunnyvale, CA</td>\n",
              "    </tr>\n",
              "    <tr>\n",
              "      <th>6938</th>\n",
              "      <td>Data Scientist, Customer Interests &amp; Personali...</td>\n",
              "      <td>Lab126</td>\n",
              "      <td>Job Description\\nTo truly become the worlds mo...</td>\n",
              "      <td>0.0</td>\n",
              "      <td>Sunnyvale, CA</td>\n",
              "    </tr>\n",
              "    <tr>\n",
              "      <th>6952</th>\n",
              "      <td>Image processing Deep learning Research Scientist</td>\n",
              "      <td>Whiterabbit.ai</td>\n",
              "      <td>Whiterabbit.ai is a leading venture-backed sta...</td>\n",
              "      <td>0.0</td>\n",
              "      <td>Sunnyvale, CA 94085</td>\n",
              "    </tr>\n",
              "  </tbody>\n",
              "</table>\n",
              "<p>1627 rows × 5 columns</p>\n",
              "</div>"
            ],
            "text/plain": [
              "                                               position  ...             location\n",
              "0                                  Development Director  ...   Atlanta, GA 30301 \n",
              "1     An Ostentatiously-Excitable Principal Research...  ...          Atlanta, GA\n",
              "2                                        Data Scientist  ...          Atlanta, GA\n",
              "18                                       Data Scientist  ...          Atlanta, GA\n",
              "19                                       Data Scientist  ...          Atlanta, GA\n",
              "25                                       Data Scientist  ...          Atlanta, GA\n",
              "26                 Data Scientist 1 – AP Forensics Team  ...          Atlanta, GA\n",
              "38                                       Data Scientist  ...          Atlanta, GA\n",
              "48                        Chief Deep Learning Scientist  ...          Atlanta, GA\n",
              "53                                  Statistical Analyst  ...          Atlanta, GA\n",
              "54                                   VP, Data Analytics  ...          Atlanta, GA\n",
              "55                              Lead Decision Scientist  ...   Atlanta, GA 30313 \n",
              "65                                   Research Scientist  ...          Atlanta, GA\n",
              "84                                   Research Scientist  ...          Atlanta, GA\n",
              "106   Staff Research Scientist VII: Informational In...  ...          Atlanta, GA\n",
              "114                             Jr Microbiologist - CDC  ...          Atlanta, GA\n",
              "122               Mid Data Scientist - Machine Learning  ...   Atlanta, GA 30342 \n",
              "139   Principal Research Scientist I: Informational ...  ...          Atlanta, GA\n",
              "140                             Market Research Analyst  ...          Atlanta, GA\n",
              "151                        Senior Scientist, Immunology  ...          Atlanta, GA\n",
              "153          A Vigorously-Charged Scientific Programmer  ...          Atlanta, GA\n",
              "154                                   Software Engineer  ...          Atlanta, GA\n",
              "156                                Director of Software  ...   Atlanta, GA 30332 \n",
              "157       Certifying Scientist / Quantitation Scientist  ...          Atlanta, GA\n",
              "161                                      Data Scientist  ...   Atlanta, GA 30326 \n",
              "164   Windows Programmer / Software Engineer - Inter...  ...          Atlanta, GA\n",
              "170   Windows Programmer / Software Engineer - Entry...  ...          Atlanta, GA\n",
              "192   Various Professional, Technical, Administrativ...  ...          Atlanta, GA\n",
              "196     Business Development Manager (Southeast Region)  ...          Atlanta, GA\n",
              "199   Implementation Engineer (Machine Learning/Data...  ...   Atlanta, GA 30326 \n",
              "...                                                 ...  ...                  ...\n",
              "6789                                     Head of Design  ...  Sunnyvale, CA 94085\n",
              "6791                 Forward Deployed Solution Engineer  ...        Sunnyvale, CA\n",
              "6795        Deep Learning Software Development Engineer  ...        Sunnyvale, CA\n",
              "6800                                 Knowledge Engineer  ...        Sunnyvale, CA\n",
              "6813  AI Research/Software Development Engineer, Ale...  ...        Sunnyvale, CA\n",
              "6815                         3D Tools Software Engineer  ...  Sunnyvale, CA 94089\n",
              "6816       Software Engineer - Tools and Infrastructure  ...        Sunnyvale, CA\n",
              "6817  23103 Principal Data Scientist - HealthTech / ...  ...        Sunnyvale, CA\n",
              "6822                                      Manager, TPMs  ...        Sunnyvale, CA\n",
              "6824                               QA Software Engineer  ...        Sunnyvale, CA\n",
              "6825                                Sr Speech Scientist  ...        Sunnyvale, CA\n",
              "6827                      Software Development Engineer  ...        Sunnyvale, CA\n",
              "6829                                  Software Engineer  ...        Sunnyvale, CA\n",
              "6841                      Sr. Machine Learning Engineer  ...        Sunnyvale, CA\n",
              "6846                        Sr. Hardware Audio Engineer  ...        Sunnyvale, CA\n",
              "6848                       Materials (Quality) Engineer  ...  Sunnyvale, CA 94086\n",
              "6856  Senior Data Scientist, Algorithms and Machine ...  ...        Sunnyvale, CA\n",
              "6868                    Senior Research Engineer, Alexa  ...        Sunnyvale, CA\n",
              "6874                                   Sr. UI Developer  ...        Sunnyvale, CA\n",
              "6881                              Senior Growth Analyst  ...        Sunnyvale, CA\n",
              "6884                      Sr. Technical Program Manager  ...        Sunnyvale, CA\n",
              "6902                          Senior Front End Engineer  ...        Sunnyvale, CA\n",
              "6917                                 Security Scientist  ...  Sunnyvale, CA 94089\n",
              "6919                                  Applied Scientist  ...        Sunnyvale, CA\n",
              "6920                Research Scientist - IDL (Robotics)  ...  Sunnyvale, CA 94089\n",
              "6930                                     Data Scientist  ...        Sunnyvale, CA\n",
              "6931       Data Scientist - Alexa Language Technologies  ...        Sunnyvale, CA\n",
              "6937                      Data Scientist / Data Analyst  ...        Sunnyvale, CA\n",
              "6938  Data Scientist, Customer Interests & Personali...  ...        Sunnyvale, CA\n",
              "6952  Image processing Deep learning Research Scientist  ...  Sunnyvale, CA 94085\n",
              "\n",
              "[1627 rows x 5 columns]"
            ]
          },
          "metadata": {
            "tags": []
          },
          "execution_count": 71
        }
      ]
    },
    {
      "cell_type": "code",
      "metadata": {
        "id": "RRfyPykFy1sX",
        "colab_type": "code",
        "colab": {
          "base_uri": "https://localhost:8080/",
          "height": 204
        },
        "outputId": "3466aa71-e1ee-4484-bf37-cfef8c0b2975"
      },
      "source": [
        "dataset.head()"
      ],
      "execution_count": 72,
      "outputs": [
        {
          "output_type": "execute_result",
          "data": {
            "text/html": [
              "<div>\n",
              "<style scoped>\n",
              "    .dataframe tbody tr th:only-of-type {\n",
              "        vertical-align: middle;\n",
              "    }\n",
              "\n",
              "    .dataframe tbody tr th {\n",
              "        vertical-align: top;\n",
              "    }\n",
              "\n",
              "    .dataframe thead th {\n",
              "        text-align: right;\n",
              "    }\n",
              "</style>\n",
              "<table border=\"1\" class=\"dataframe\">\n",
              "  <thead>\n",
              "    <tr style=\"text-align: right;\">\n",
              "      <th></th>\n",
              "      <th>position</th>\n",
              "      <th>company</th>\n",
              "      <th>description</th>\n",
              "      <th>reviews</th>\n",
              "      <th>location</th>\n",
              "    </tr>\n",
              "  </thead>\n",
              "  <tbody>\n",
              "    <tr>\n",
              "      <th>0</th>\n",
              "      <td>Development Director</td>\n",
              "      <td>ALS TDI</td>\n",
              "      <td>Development Director\\nALS Therapy Development ...</td>\n",
              "      <td>0.0</td>\n",
              "      <td>Atlanta, GA 30301</td>\n",
              "    </tr>\n",
              "    <tr>\n",
              "      <th>1</th>\n",
              "      <td>An Ostentatiously-Excitable Principal Research...</td>\n",
              "      <td>The Hexagon Lavish</td>\n",
              "      <td>Job Description\\n\\n\"The road that leads to acc...</td>\n",
              "      <td>0.0</td>\n",
              "      <td>Atlanta, GA</td>\n",
              "    </tr>\n",
              "    <tr>\n",
              "      <th>2</th>\n",
              "      <td>Data Scientist</td>\n",
              "      <td>Xpert Staffing</td>\n",
              "      <td>Growing company located in the Atlanta, GA are...</td>\n",
              "      <td>0.0</td>\n",
              "      <td>Atlanta, GA</td>\n",
              "    </tr>\n",
              "    <tr>\n",
              "      <th>3</th>\n",
              "      <td>Data Analyst</td>\n",
              "      <td>Operation HOPE</td>\n",
              "      <td>DEPARTMENT: Program OperationsPOSITION LOCATIO...</td>\n",
              "      <td>44.0</td>\n",
              "      <td>Atlanta, GA 30303</td>\n",
              "    </tr>\n",
              "    <tr>\n",
              "      <th>4</th>\n",
              "      <td>Assistant Professor -TT - Signal Processing &amp; ...</td>\n",
              "      <td>Emory University</td>\n",
              "      <td>DESCRIPTION\\nThe Emory University Department o...</td>\n",
              "      <td>550.0</td>\n",
              "      <td>Atlanta, GA</td>\n",
              "    </tr>\n",
              "  </tbody>\n",
              "</table>\n",
              "</div>"
            ],
            "text/plain": [
              "                                            position  ...            location\n",
              "0                               Development Director  ...  Atlanta, GA 30301 \n",
              "1  An Ostentatiously-Excitable Principal Research...  ...         Atlanta, GA\n",
              "2                                     Data Scientist  ...         Atlanta, GA\n",
              "3                                       Data Analyst  ...  Atlanta, GA 30303 \n",
              "4  Assistant Professor -TT - Signal Processing & ...  ...         Atlanta, GA\n",
              "\n",
              "[5 rows x 5 columns]"
            ]
          },
          "metadata": {
            "tags": []
          },
          "execution_count": 72
        }
      ]
    },
    {
      "cell_type": "markdown",
      "metadata": {
        "id": "uPKn9ueWKhoi",
        "colab_type": "text"
      },
      "source": [
        "# ***Adding new columns - ***"
      ]
    },
    {
      "cell_type": "code",
      "metadata": {
        "id": "Q8s1aM_Mtguf",
        "colab_type": "code",
        "colab": {
          "base_uri": "https://localhost:8080/",
          "height": 204
        },
        "outputId": "1f7223ea-f116-48bf-d134-ba1e5cd26a4e"
      },
      "source": [
        "# Adding new column \"City\"\n",
        "a=[]\n",
        "for i in dataset[\"location\"]:\n",
        "    b=i.split(\",\")[0]\n",
        "    a.append(b)\n",
        "dataset[\"City\"]=a    \n",
        "dataset.tail()"
      ],
      "execution_count": 74,
      "outputs": [
        {
          "output_type": "execute_result",
          "data": {
            "text/html": [
              "<div>\n",
              "<style scoped>\n",
              "    .dataframe tbody tr th:only-of-type {\n",
              "        vertical-align: middle;\n",
              "    }\n",
              "\n",
              "    .dataframe tbody tr th {\n",
              "        vertical-align: top;\n",
              "    }\n",
              "\n",
              "    .dataframe thead th {\n",
              "        text-align: right;\n",
              "    }\n",
              "</style>\n",
              "<table border=\"1\" class=\"dataframe\">\n",
              "  <thead>\n",
              "    <tr style=\"text-align: right;\">\n",
              "      <th></th>\n",
              "      <th>position</th>\n",
              "      <th>company</th>\n",
              "      <th>description</th>\n",
              "      <th>reviews</th>\n",
              "      <th>location</th>\n",
              "      <th>City</th>\n",
              "    </tr>\n",
              "  </thead>\n",
              "  <tbody>\n",
              "    <tr>\n",
              "      <th>6959</th>\n",
              "      <td>Data Developer / Machine Learning Analyst</td>\n",
              "      <td>NetApp</td>\n",
              "      <td>Are you data-driven? We at NetApp believe in t...</td>\n",
              "      <td>574.0</td>\n",
              "      <td>Sunnyvale, CA</td>\n",
              "      <td>Sunnyvale</td>\n",
              "    </tr>\n",
              "    <tr>\n",
              "      <th>6960</th>\n",
              "      <td>Scientist I</td>\n",
              "      <td>Pharmacyclics, an Abbvie Company</td>\n",
              "      <td>Pharmacyclics is committed to the development ...</td>\n",
              "      <td>26.0</td>\n",
              "      <td>Sunnyvale, CA</td>\n",
              "      <td>Sunnyvale</td>\n",
              "    </tr>\n",
              "    <tr>\n",
              "      <th>6961</th>\n",
              "      <td>Intern Scientist</td>\n",
              "      <td>Oath Inc</td>\n",
              "      <td>Oath, a subsidiary of Verizon, is a values-led...</td>\n",
              "      <td>5.0</td>\n",
              "      <td>Sunnyvale, CA</td>\n",
              "      <td>Sunnyvale</td>\n",
              "    </tr>\n",
              "    <tr>\n",
              "      <th>6962</th>\n",
              "      <td>Senior Data &amp; Applied Scientist</td>\n",
              "      <td>Microsoft</td>\n",
              "      <td>We are the Bing Core Relevance team responsibl...</td>\n",
              "      <td>4618.0</td>\n",
              "      <td>Sunnyvale, CA</td>\n",
              "      <td>Sunnyvale</td>\n",
              "    </tr>\n",
              "    <tr>\n",
              "      <th>6963</th>\n",
              "      <td>Principal Data Scientist, Deep Learning</td>\n",
              "      <td>Comcast</td>\n",
              "      <td>Comcast’s Technology &amp;amp; Product organizatio...</td>\n",
              "      <td>11610.0</td>\n",
              "      <td>Sunnyvale, CA 94089</td>\n",
              "      <td>Sunnyvale</td>\n",
              "    </tr>\n",
              "  </tbody>\n",
              "</table>\n",
              "</div>"
            ],
            "text/plain": [
              "                                       position  ...       City\n",
              "6959  Data Developer / Machine Learning Analyst  ...  Sunnyvale\n",
              "6960                                Scientist I  ...  Sunnyvale\n",
              "6961                           Intern Scientist  ...  Sunnyvale\n",
              "6962            Senior Data & Applied Scientist  ...  Sunnyvale\n",
              "6963    Principal Data Scientist, Deep Learning  ...  Sunnyvale\n",
              "\n",
              "[5 rows x 6 columns]"
            ]
          },
          "metadata": {
            "tags": []
          },
          "execution_count": 74
        }
      ]
    },
    {
      "cell_type": "code",
      "metadata": {
        "id": "pse7Fvbm6oQC",
        "colab_type": "code",
        "colab": {
          "base_uri": "https://localhost:8080/",
          "height": 1071
        },
        "outputId": "d58502b3-bf00-4712-810d-9fef54255d36"
      },
      "source": [
        "dataset[\"City\"].value_counts()"
      ],
      "execution_count": 82,
      "outputs": [
        {
          "output_type": "execute_result",
          "data": {
            "text/plain": [
              "New York                  848\n",
              "Seattle                   777\n",
              "Cambridge                 694\n",
              "Boston                    629\n",
              "San Francisco             564\n",
              "Chicago                   471\n",
              "San Diego                 412\n",
              "Washington                340\n",
              "Mountain View             277\n",
              "Atlanta                   269\n",
              "Sunnyvale                 256\n",
              "Los Angeles               254\n",
              "Boulder                   251\n",
              "Austin                    213\n",
              "Redmond                   158\n",
              "South San Francisco        73\n",
              "Redwood City               59\n",
              "Oakland                    35\n",
              "San Mateo                  30\n",
              "Manhattan                  30\n",
              "San Francisco Bay Area     26\n",
              "Emeryville                 19\n",
              "Berkeley                   19\n",
              "Jersey City                17\n",
              "San Carlos                 16\n",
              "Queens                     15\n",
              "Brooklyn                   14\n",
              "Menlo Park                 14\n",
              "Foster City                14\n",
              "Novato                     12\n",
              "                         ... \n",
              "New Brunswick               1\n",
              "Long Beach                  1\n",
              "Cedar Park                  1\n",
              "Fort Lee                    1\n",
              "Mill Valley                 1\n",
              "East Hanover                1\n",
              "Lynbrook                    1\n",
              "Lafayette                   1\n",
              "Kenilworth                  1\n",
              "New Hyde Park               1\n",
              "Manhattanville              1\n",
              "Fremont                     1\n",
              "Port Washington             1\n",
              "Manhasset                   1\n",
              "Staten Island               1\n",
              "Hackensack                  1\n",
              "Orangeburg                  1\n",
              "Rutherford                  1\n",
              "Harrison                    1\n",
              "Whippany                    1\n",
              "Daly City                   1\n",
              "Woodcliff Lake              1\n",
              "Ridgefield                  1\n",
              "Yonkers                     1\n",
              "Kentfield                   1\n",
              "Roseland                    1\n",
              "Secaucus                    1\n",
              "Short Hills                 1\n",
              "Bedminster                  1\n",
              "Florham Park                1\n",
              "Name: City, Length: 91, dtype: int64"
            ]
          },
          "metadata": {
            "tags": []
          },
          "execution_count": 82
        }
      ]
    },
    {
      "cell_type": "code",
      "metadata": {
        "id": "31i_1b9NuPaT",
        "colab_type": "code",
        "colab": {
          "base_uri": "https://localhost:8080/",
          "height": 272
        },
        "outputId": "102540b0-391f-4a5a-ddfd-f0e7b0ed6e4c"
      },
      "source": [
        "# Adding new column \"State\"\n",
        "aa=[]\n",
        "for ii in dataset[\"location\"]:\n",
        "    bb=ii.split(\",\")[1]\n",
        "    aa.append(bb)\n",
        "for ii in range(len(aa)):\n",
        "    bb=re.sub(r'[0-9]',\"\",aa[ii]).strip()\n",
        "    aa[ii]=bb  \n",
        "dataset[\"State\"]=aa\n",
        "dataset.tail()"
      ],
      "execution_count": 80,
      "outputs": [
        {
          "output_type": "execute_result",
          "data": {
            "text/html": [
              "<div>\n",
              "<style scoped>\n",
              "    .dataframe tbody tr th:only-of-type {\n",
              "        vertical-align: middle;\n",
              "    }\n",
              "\n",
              "    .dataframe tbody tr th {\n",
              "        vertical-align: top;\n",
              "    }\n",
              "\n",
              "    .dataframe thead th {\n",
              "        text-align: right;\n",
              "    }\n",
              "</style>\n",
              "<table border=\"1\" class=\"dataframe\">\n",
              "  <thead>\n",
              "    <tr style=\"text-align: right;\">\n",
              "      <th></th>\n",
              "      <th>position</th>\n",
              "      <th>company</th>\n",
              "      <th>description</th>\n",
              "      <th>reviews</th>\n",
              "      <th>location</th>\n",
              "      <th>City</th>\n",
              "      <th>State</th>\n",
              "    </tr>\n",
              "  </thead>\n",
              "  <tbody>\n",
              "    <tr>\n",
              "      <th>6959</th>\n",
              "      <td>Data Developer / Machine Learning Analyst</td>\n",
              "      <td>NetApp</td>\n",
              "      <td>Are you data-driven? We at NetApp believe in t...</td>\n",
              "      <td>574.0</td>\n",
              "      <td>Sunnyvale, CA</td>\n",
              "      <td>Sunnyvale</td>\n",
              "      <td>CA</td>\n",
              "    </tr>\n",
              "    <tr>\n",
              "      <th>6960</th>\n",
              "      <td>Scientist I</td>\n",
              "      <td>Pharmacyclics, an Abbvie Company</td>\n",
              "      <td>Pharmacyclics is committed to the development ...</td>\n",
              "      <td>26.0</td>\n",
              "      <td>Sunnyvale, CA</td>\n",
              "      <td>Sunnyvale</td>\n",
              "      <td>CA</td>\n",
              "    </tr>\n",
              "    <tr>\n",
              "      <th>6961</th>\n",
              "      <td>Intern Scientist</td>\n",
              "      <td>Oath Inc</td>\n",
              "      <td>Oath, a subsidiary of Verizon, is a values-led...</td>\n",
              "      <td>5.0</td>\n",
              "      <td>Sunnyvale, CA</td>\n",
              "      <td>Sunnyvale</td>\n",
              "      <td>CA</td>\n",
              "    </tr>\n",
              "    <tr>\n",
              "      <th>6962</th>\n",
              "      <td>Senior Data &amp; Applied Scientist</td>\n",
              "      <td>Microsoft</td>\n",
              "      <td>We are the Bing Core Relevance team responsibl...</td>\n",
              "      <td>4618.0</td>\n",
              "      <td>Sunnyvale, CA</td>\n",
              "      <td>Sunnyvale</td>\n",
              "      <td>CA</td>\n",
              "    </tr>\n",
              "    <tr>\n",
              "      <th>6963</th>\n",
              "      <td>Principal Data Scientist, Deep Learning</td>\n",
              "      <td>Comcast</td>\n",
              "      <td>Comcast’s Technology &amp;amp; Product organizatio...</td>\n",
              "      <td>11610.0</td>\n",
              "      <td>Sunnyvale, CA 94089</td>\n",
              "      <td>Sunnyvale</td>\n",
              "      <td>CA</td>\n",
              "    </tr>\n",
              "  </tbody>\n",
              "</table>\n",
              "</div>"
            ],
            "text/plain": [
              "                                       position  ... State\n",
              "6959  Data Developer / Machine Learning Analyst  ...    CA\n",
              "6960                                Scientist I  ...    CA\n",
              "6961                           Intern Scientist  ...    CA\n",
              "6962            Senior Data & Applied Scientist  ...    CA\n",
              "6963    Principal Data Scientist, Deep Learning  ...    CA\n",
              "\n",
              "[5 rows x 7 columns]"
            ]
          },
          "metadata": {
            "tags": []
          },
          "execution_count": 80
        }
      ]
    },
    {
      "cell_type": "code",
      "metadata": {
        "id": "DovmGf4Du1_l",
        "colab_type": "code",
        "colab": {
          "base_uri": "https://localhost:8080/",
          "height": 204
        },
        "outputId": "762a6e93-636c-4fae-bd82-a20dc3636f90"
      },
      "source": [
        "dataset[\"State\"].value_counts()"
      ],
      "execution_count": 81,
      "outputs": [
        {
          "output_type": "execute_result",
          "data": {
            "text/plain": [
              "CA    2152\n",
              "MA    1323\n",
              "WA     935\n",
              "NY     926\n",
              "IL     471\n",
              "DC     340\n",
              "GA     269\n",
              "CO     251\n",
              "TX     218\n",
              "NJ      68\n",
              "Name: State, dtype: int64"
            ]
          },
          "metadata": {
            "tags": []
          },
          "execution_count": 81
        }
      ]
    },
    {
      "cell_type": "code",
      "metadata": {
        "id": "8ul4ayYI8lhY",
        "colab_type": "code",
        "colab": {
          "base_uri": "https://localhost:8080/",
          "height": 289
        },
        "outputId": "3417bb69-09fb-404b-b874-2961560ba14d"
      },
      "source": [
        "# adding a new column \"Data Scientists\"\n",
        "aaa=[]\n",
        "for i in dataset[\"position\"]:\n",
        "    aaa.append((\"Data Scientist\" in i))\n",
        "dataset[\"Data Scientist\"]=aaa\n",
        "dataset.head()"
      ],
      "execution_count": 83,
      "outputs": [
        {
          "output_type": "execute_result",
          "data": {
            "text/html": [
              "<div>\n",
              "<style scoped>\n",
              "    .dataframe tbody tr th:only-of-type {\n",
              "        vertical-align: middle;\n",
              "    }\n",
              "\n",
              "    .dataframe tbody tr th {\n",
              "        vertical-align: top;\n",
              "    }\n",
              "\n",
              "    .dataframe thead th {\n",
              "        text-align: right;\n",
              "    }\n",
              "</style>\n",
              "<table border=\"1\" class=\"dataframe\">\n",
              "  <thead>\n",
              "    <tr style=\"text-align: right;\">\n",
              "      <th></th>\n",
              "      <th>position</th>\n",
              "      <th>company</th>\n",
              "      <th>description</th>\n",
              "      <th>reviews</th>\n",
              "      <th>location</th>\n",
              "      <th>City</th>\n",
              "      <th>State</th>\n",
              "      <th>Data Scientist</th>\n",
              "    </tr>\n",
              "  </thead>\n",
              "  <tbody>\n",
              "    <tr>\n",
              "      <th>0</th>\n",
              "      <td>Development Director</td>\n",
              "      <td>ALS TDI</td>\n",
              "      <td>Development Director\\nALS Therapy Development ...</td>\n",
              "      <td>0.0</td>\n",
              "      <td>Atlanta, GA 30301</td>\n",
              "      <td>Atlanta</td>\n",
              "      <td>GA</td>\n",
              "      <td>False</td>\n",
              "    </tr>\n",
              "    <tr>\n",
              "      <th>1</th>\n",
              "      <td>An Ostentatiously-Excitable Principal Research...</td>\n",
              "      <td>The Hexagon Lavish</td>\n",
              "      <td>Job Description\\n\\n\"The road that leads to acc...</td>\n",
              "      <td>0.0</td>\n",
              "      <td>Atlanta, GA</td>\n",
              "      <td>Atlanta</td>\n",
              "      <td>GA</td>\n",
              "      <td>False</td>\n",
              "    </tr>\n",
              "    <tr>\n",
              "      <th>2</th>\n",
              "      <td>Data Scientist</td>\n",
              "      <td>Xpert Staffing</td>\n",
              "      <td>Growing company located in the Atlanta, GA are...</td>\n",
              "      <td>0.0</td>\n",
              "      <td>Atlanta, GA</td>\n",
              "      <td>Atlanta</td>\n",
              "      <td>GA</td>\n",
              "      <td>True</td>\n",
              "    </tr>\n",
              "    <tr>\n",
              "      <th>3</th>\n",
              "      <td>Data Analyst</td>\n",
              "      <td>Operation HOPE</td>\n",
              "      <td>DEPARTMENT: Program OperationsPOSITION LOCATIO...</td>\n",
              "      <td>44.0</td>\n",
              "      <td>Atlanta, GA 30303</td>\n",
              "      <td>Atlanta</td>\n",
              "      <td>GA</td>\n",
              "      <td>False</td>\n",
              "    </tr>\n",
              "    <tr>\n",
              "      <th>4</th>\n",
              "      <td>Assistant Professor -TT - Signal Processing &amp; ...</td>\n",
              "      <td>Emory University</td>\n",
              "      <td>DESCRIPTION\\nThe Emory University Department o...</td>\n",
              "      <td>550.0</td>\n",
              "      <td>Atlanta, GA</td>\n",
              "      <td>Atlanta</td>\n",
              "      <td>GA</td>\n",
              "      <td>False</td>\n",
              "    </tr>\n",
              "  </tbody>\n",
              "</table>\n",
              "</div>"
            ],
            "text/plain": [
              "                                            position  ... Data Scientist\n",
              "0                               Development Director  ...          False\n",
              "1  An Ostentatiously-Excitable Principal Research...  ...          False\n",
              "2                                     Data Scientist  ...           True\n",
              "3                                       Data Analyst  ...          False\n",
              "4  Assistant Professor -TT - Signal Processing & ...  ...          False\n",
              "\n",
              "[5 rows x 8 columns]"
            ]
          },
          "metadata": {
            "tags": []
          },
          "execution_count": 83
        }
      ]
    },
    {
      "cell_type": "code",
      "metadata": {
        "id": "cub8goylKV7V",
        "colab_type": "code",
        "colab": {
          "base_uri": "https://localhost:8080/",
          "height": 68
        },
        "outputId": "04442fa4-a9dc-46fe-8e1f-57e3edad220c"
      },
      "source": [
        "dataset[\"Data Scientist\"].value_counts()"
      ],
      "execution_count": 84,
      "outputs": [
        {
          "output_type": "execute_result",
          "data": {
            "text/plain": [
              "False    5710\n",
              "True     1243\n",
              "Name: Data Scientist, dtype: int64"
            ]
          },
          "metadata": {
            "tags": []
          },
          "execution_count": 84
        }
      ]
    },
    {
      "cell_type": "markdown",
      "metadata": {
        "id": "VtZq28e1K18C",
        "colab_type": "text"
      },
      "source": [
        "# ***Analysis From Data - ***"
      ]
    },
    {
      "cell_type": "markdown",
      "metadata": {
        "id": "v8IMiGMHLGSV",
        "colab_type": "text"
      },
      "source": [
        "***Analysis upto now - ***\n",
        "\n",
        "\n",
        "1.   Most of the job offers are on the location 'Seattle, WA'.\n",
        "2.   Company \"Walmart\" has maximum reviews. And Company \"Walmart\" offers maximum jobs on location \"Sunnyvale, CA 94086\".\n",
        "\n"
      ]
    },
    {
      "cell_type": "code",
      "metadata": {
        "id": "10TECP5yK4kH",
        "colab_type": "code",
        "colab": {}
      },
      "source": [
        "# which position most \"Walmart\" company offers. \n",
        "# which company offers maximum \"Data Scientist\" job .\n",
        "# which positions are offeres at location \"Seattle,WA\"."
      ],
      "execution_count": 0,
      "outputs": []
    },
    {
      "cell_type": "code",
      "metadata": {
        "id": "zvDXj23lNbP5",
        "colab_type": "code",
        "colab": {
          "base_uri": "https://localhost:8080/",
          "height": 282
        },
        "outputId": "22c1523a-5034-4f9f-bc13-e305f485e479"
      },
      "source": [
        "dataset[dataset[\"company\"]==\"Walmart\"].value_counts()"
      ],
      "execution_count": 87,
      "outputs": [
        {
          "output_type": "error",
          "ename": "AttributeError",
          "evalue": "ignored",
          "traceback": [
            "\u001b[0;31m---------------------------------------------------------------------------\u001b[0m",
            "\u001b[0;31mAttributeError\u001b[0m                            Traceback (most recent call last)",
            "\u001b[0;32m<ipython-input-87-c34c0f8bfa96>\u001b[0m in \u001b[0;36m<module>\u001b[0;34m()\u001b[0m\n\u001b[0;32m----> 1\u001b[0;31m \u001b[0mdataset\u001b[0m\u001b[0;34m[\u001b[0m\u001b[0mdataset\u001b[0m\u001b[0;34m[\u001b[0m\u001b[0;34m\"company\"\u001b[0m\u001b[0;34m]\u001b[0m\u001b[0;34m==\u001b[0m\u001b[0;34m\"Walmart\"\u001b[0m\u001b[0;34m]\u001b[0m\u001b[0;34m.\u001b[0m\u001b[0mvalue_counts\u001b[0m\u001b[0;34m(\u001b[0m\u001b[0;34m)\u001b[0m\u001b[0;34m\u001b[0m\u001b[0;34m\u001b[0m\u001b[0m\n\u001b[0m",
            "\u001b[0;32m/usr/local/lib/python3.6/dist-packages/pandas/core/generic.py\u001b[0m in \u001b[0;36m__getattr__\u001b[0;34m(self, name)\u001b[0m\n\u001b[1;32m   5065\u001b[0m             \u001b[0;32mif\u001b[0m \u001b[0mself\u001b[0m\u001b[0;34m.\u001b[0m\u001b[0m_info_axis\u001b[0m\u001b[0;34m.\u001b[0m\u001b[0m_can_hold_identifiers_and_holds_name\u001b[0m\u001b[0;34m(\u001b[0m\u001b[0mname\u001b[0m\u001b[0;34m)\u001b[0m\u001b[0;34m:\u001b[0m\u001b[0;34m\u001b[0m\u001b[0;34m\u001b[0m\u001b[0m\n\u001b[1;32m   5066\u001b[0m                 \u001b[0;32mreturn\u001b[0m \u001b[0mself\u001b[0m\u001b[0;34m[\u001b[0m\u001b[0mname\u001b[0m\u001b[0;34m]\u001b[0m\u001b[0;34m\u001b[0m\u001b[0;34m\u001b[0m\u001b[0m\n\u001b[0;32m-> 5067\u001b[0;31m             \u001b[0;32mreturn\u001b[0m \u001b[0mobject\u001b[0m\u001b[0;34m.\u001b[0m\u001b[0m__getattribute__\u001b[0m\u001b[0;34m(\u001b[0m\u001b[0mself\u001b[0m\u001b[0;34m,\u001b[0m \u001b[0mname\u001b[0m\u001b[0;34m)\u001b[0m\u001b[0;34m\u001b[0m\u001b[0;34m\u001b[0m\u001b[0m\n\u001b[0m\u001b[1;32m   5068\u001b[0m \u001b[0;34m\u001b[0m\u001b[0m\n\u001b[1;32m   5069\u001b[0m     \u001b[0;32mdef\u001b[0m \u001b[0m__setattr__\u001b[0m\u001b[0;34m(\u001b[0m\u001b[0mself\u001b[0m\u001b[0;34m,\u001b[0m \u001b[0mname\u001b[0m\u001b[0;34m,\u001b[0m \u001b[0mvalue\u001b[0m\u001b[0;34m)\u001b[0m\u001b[0;34m:\u001b[0m\u001b[0;34m\u001b[0m\u001b[0;34m\u001b[0m\u001b[0m\n",
            "\u001b[0;31mAttributeError\u001b[0m: 'DataFrame' object has no attribute 'value_counts'"
          ]
        }
      ]
    },
    {
      "cell_type": "code",
      "metadata": {
        "id": "sL4uUu25GPQ1",
        "colab_type": "code",
        "colab": {
          "base_uri": "https://localhost:8080/",
          "height": 54
        },
        "outputId": "d0640aa5-7b18-499f-fb91-05ba668cafc2"
      },
      "source": [
        "print(dataset[\"description\"][3])"
      ],
      "execution_count": 107,
      "outputs": [
        {
          "output_type": "stream",
          "text": [
            "DEPARTMENT: Program OperationsPOSITION LOCATIONS: Atlanta, GA.ACCOUNTABILITY:  President of Program OperationsFor 25 years Operation HOPE has been dedicated to empowering underserved communities through financial literacy, now our work encompasses more than financial education. Our work is about instilling knowledge and confidence in those we serve so they can experience, sometimes for the first time in their lives, financial dignity.JOB SUMMARYThe data analyst collects, organizes, mines, analyzes, and audits large sets of data for impact reporting and operational optimization. The Data Analyst participates as a team member responsible for maintaining the integrity of client database information and provides executable and actionable recommendations for data migration best practices and field operations based on analytical findings.DUTIES AND RESPONSIBILITIESInitiate and participate in data mining and reportingAudit and profile the data to assess the impact of poor quality data on the organization’s performance and impacts.Conduct A/B testing based on different hypotheses that directly and indirectly impact operational key performance indicators.Create and support data visualization through operational and executive dashboards.Import/Collect, clean, convert and analyze data for the purpose of find insights and making conclusions.Design and develop relational databases for collecting data.Monitor the performance of data systems and if there are any issues then respond to the same.Keep a track of trends, patterns and correlation in case of complex data sets.Prepare concise data reports and data visualizations for the management that will help in decision-making process.Assist the data scientist in development of new analytical tools and methods as and when required.REQUIRED SKILLS AND EDUCATIONBachelor’s DegreeTwo or more years as a data analyst in related fieldAble to understand various data structures and common methods in data transformationExperience in basic statistical modeling and reportingExperience in SQL, relational databases, database concepts, dimensional modeling and database designProficient in one or more programming languages: R, Python, STATA, SASExperience with Caseworthy, SQL and TableauEEOSTATEMENTOperation HOPE is an Equal Opportunity Employer, all qualified applicants will receive consideration for employment without regard to race, color, religion, sex, age, national origin, protected veteran status, disability status, sexual orientation, gender identity or expression, marital status, genetic information or any other characteristic protected by law.Job Type: Full-timeSalary: $50,000.00 to $60,000.00 /yearExperience:data analyst in related field: 2 yearsbasic statistical modeling and reporting: 2 yearsProgramming languages: R, Python, STATA, SAS: 2 yearsSQL, relational databases, database concepts/design: 2 yearsCaseworthy, SQL and Tableau: 1 yearEducation:Bachelor'sLocation:Atlanta, GA\n"
          ],
          "name": "stdout"
        }
      ]
    }
  ]
}